{
  "nbformat": 4,
  "nbformat_minor": 0,
  "metadata": {
    "colab": {
      "name": "BERT Style Transformer.ipynb",
      "provenance": [],
      "collapsed_sections": [],
      "toc_visible": true,
      "authorship_tag": "ABX9TyNlKVUgvdLOgIVP3JiUo3uN",
      "include_colab_link": true
    },
    "kernelspec": {
      "display_name": "Python 3",
      "name": "python3"
    }
  },
  "cells": [
    {
      "cell_type": "markdown",
      "metadata": {
        "id": "view-in-github",
        "colab_type": "text"
      },
      "source": [
        "<a href=\"https://colab.research.google.com/github/sentimentapp/core/blob/main/BERT_Style_Transformer.ipynb\" target=\"_parent\"><img src=\"https://colab.research.google.com/assets/colab-badge.svg\" alt=\"Open In Colab\"/></a>"
      ]
    },
    {
      "cell_type": "markdown",
      "metadata": {
        "id": "yyDDqvVrjSnt"
      },
      "source": [
        "#***Task List***\n",
        "*NOTE: This task list doesn't include a full history of work done on this project because this notebook is a continuation of a the code I wrote to classify the Emobank Dataset. Because I wanted to keep my original code for reference, I created a copy of that previous notebook to work on I could refine and edit the model for a better dataset*\n",
        "- [x] Clean Up and Structure Model Notes\n",
        "  * [x] Text Boxes\n",
        "  * [x] Comments\n",
        "* [x] Import and Preprocess [*Emotions Dataset for NLP*](https://www.kaggle.com/praveengovi/emotions-dataset-for-nlp?select=train.txt)\n",
        "  * [x] Import Data from Kaggle\n",
        "* [x] Generalize and Optimize Sanitization Functions\n",
        "  * [x] Needs to work with additional datasets\n",
        "\n",
        "#### Potential Actions\n",
        "* Seperate Transformer Training and Classifier Training\n",
        "  * More BERT like approach\n",
        "* Use Twitter Corpus from [Kaggle](https://www.kaggle.com/ishivinal/tweet-emotions-analysis-using-lstm-glove-roberta/#data)\n"
      ]
    },
    {
      "cell_type": "markdown",
      "metadata": {
        "id": "skXhRjeFI5__"
      },
      "source": [
        "# BERT Based Transformer for Emotional Sentiement Analysis \n",
        "* The transformer code here is based off of a [tutorial](https://blog.tensorflow.org/2019/05/transformer-chatbot-tutorial-with-tensorflow-2.html) by Google\n",
        "  * Aside from specified layers, all the code taken from that tutorial was hand recoded and commented in order to ensure understanding\n",
        "  * Modifications were made to the tutorial code in order to use the transformer for BERT style classification rather than translation\n",
        "  * **The data tokenization code was largely self-developed.**\n",
        "    * Since this model needs to be converted to TensorflowJS, a custom tokenization function needed to be created.\n",
        "    * This custom function uses ideas from the HuggingFace BERT tokenizer\n",
        "* For this project, I considered fine tuning a BERT transformer from the HuggingFace transformer library, but instead I decided to write the transformer using Keras in order to both develop a greater understanding of NLP and challenge myself.\n",
        "  * So even though I did use a tutorial to write the transformers code, I do actually understand the arcitecture of the model and the Keras functional API used to write it.\n",
        "  * **`Link to Transformer Notes and Keras Functional API Playground`**"
      ]
    },
    {
      "cell_type": "code",
      "metadata": {
        "id": "qN1fs9OrJQvf"
      },
      "source": [
        "# Imports the needed libraries\n",
        "\n",
        "# Used for preparing the text for training\n",
        "import pandas as pd\n",
        "import re\n",
        "\n",
        "# Used for storing the dataset and creating the model\n",
        "import numpy as np\n",
        "import tensorflow as tf\n",
        "\n",
        "# TFDS is used for storing and preparing the dataset for training\n",
        "import tensorflow_datasets as tfds\n",
        "\n",
        "# Used for exporting the dictionary\n",
        "import json   "
      ],
      "execution_count": null,
      "outputs": []
    },
    {
      "cell_type": "markdown",
      "metadata": {
        "id": "V93rEwAIcp41"
      },
      "source": [
        "## Dataset Preperation"
      ]
    },
    {
      "cell_type": "markdown",
      "metadata": {
        "id": "2IYGUJqNgG_Z"
      },
      "source": [
        "### Download Datasets\n",
        "\n",
        "\n"
      ]
    },
    {
      "cell_type": "code",
      "metadata": {
        "colab": {
          "base_uri": "https://localhost:8080/"
        },
        "id": "cIlPwWyKQUjk",
        "outputId": "20cc33d7-a5be-4955-959b-cf362aa11ff0"
      },
      "source": [
        "# Downloads the journal emotions dataset which classifies journal-like text entries with different emotions\n",
        "!curl -LO https://github.com/sentimentapp/core/raw/main/datasets/journal_emotions.zip\n",
        "!mkdir journal_emotions\n",
        "!unzip -n journal_emotions.zip -d journal_emotions\n",
        "\n",
        "# Downloads the twitter emotions dataset which classifies tweets with different emotions\n",
        "!curl -LO https://github.com/sentimentapp/core/raw/main/datasets/twitter_emotions.zip\n",
        "!mkdir twitter_emotions\n",
        "!unzip -n twitter_emotions.zip -d twitter_emotions\n",
        "\n",
        "# Removes sample_data directory to clean up file system\n",
        "!rm -rf sample_data"
      ],
      "execution_count": null,
      "outputs": [
        {
          "output_type": "stream",
          "text": [
            "  % Total    % Received % Xferd  Average Speed   Time    Time     Time  Current\n",
            "                                 Dload  Upload   Total   Spent    Left  Speed\n",
            "100   152  100   152    0     0    812      0 --:--:-- --:--:-- --:--:--   812\n",
            "100  721k  100  721k    0     0  1477k      0 --:--:-- --:--:-- --:--:-- 1477k\n",
            "mkdir: cannot create directory ‘journal_emotions’: File exists\n",
            "Archive:  journal_emotions.zip\n",
            "  % Total    % Received % Xferd  Average Speed   Time    Time     Time  Current\n",
            "                                 Dload  Upload   Total   Spent    Left  Speed\n",
            "100   152  100   152    0     0    498      0 --:--:-- --:--:-- --:--:--   498\n",
            "100 1912k  100 1912k    0     0  2845k      0 --:--:-- --:--:-- --:--:-- 2845k\n",
            "mkdir: cannot create directory ‘twitter_emotions’: File exists\n",
            "Archive:  twitter_emotions.zip\n"
          ],
          "name": "stdout"
        }
      ]
    },
    {
      "cell_type": "markdown",
      "metadata": {
        "id": "jSCoUIFCdNbC"
      },
      "source": [
        "### Load the Data to Pandas Dataframes\n",
        "* The idea here is to use a sentiment dataset of journal-like entries along with a dataset of twitter entries. The following code aims to prepare the twitter data to merge with the journaling dataset."
      ]
    },
    {
      "cell_type": "code",
      "metadata": {
        "colab": {
          "base_uri": "https://localhost:8080/"
        },
        "id": "zBVOO4uedcbY",
        "outputId": "73413d22-0a5f-4484-8878-ab0952044163"
      },
      "source": [
        "# Imports the journal text file as a Pandas Dataframe\n",
        "journal = pd.read_csv(\"journal_emotions/train.txt\", sep=\";\", names=[\"text\", \"sentiment\"], header=None)\n",
        "\n",
        "# Imports the twitter csv as a Pandas Dataframe\n",
        "twitter = pd.read_csv(\"twitter_emotions/text_emotion.csv\")\n",
        "# Removes the tweet_id and author columns\n",
        "twitter = twitter[[\"sentiment\", \"content\"]]\n",
        "# Renames columns to match the journal\n",
        "twitter.columns = [\"sentiment\", \"text\"]\n",
        "\n",
        "# Checks the imports\n",
        "print(\"JOURNAL:\")\n",
        "print(journal.head())\n",
        "print(\"----------------------------------------------------------------\")\n",
        "print(\"TWITTER:\")\n",
        "print(twitter.head())"
      ],
      "execution_count": null,
      "outputs": [
        {
          "output_type": "stream",
          "text": [
            "JOURNAL:\n",
            "                                                text sentiment\n",
            "0                            i didnt feel humiliated   sadness\n",
            "1  i can go from feeling so hopeless to so damned...   sadness\n",
            "2   im grabbing a minute to post i feel greedy wrong     anger\n",
            "3  i am ever feeling nostalgic about the fireplac...      love\n",
            "4                               i am feeling grouchy     anger\n",
            "----------------------------------------------------------------\n",
            "TWITTER:\n",
            "    sentiment                                               text\n",
            "0       empty  @tiffanylue i know  i was listenin to bad habi...\n",
            "1     sadness  Layin n bed with a headache  ughhhh...waitin o...\n",
            "2     sadness                Funeral ceremony...gloomy friday...\n",
            "3  enthusiasm               wants to hang out with friends SOON!\n",
            "4     neutral  @dannycastillo We want to trade with someone w...\n"
          ],
          "name": "stdout"
        }
      ]
    },
    {
      "cell_type": "markdown",
      "metadata": {
        "id": "LuTNQ8uedyVT"
      },
      "source": [
        "### Dataset Distribution\n",
        "* Figure out what labels each dataset has and how much of each label\n",
        "* This information is used to figure out how to manage the data.\n",
        "* **For this model the *journal datasets* 6 emotions are going to be used for the overall classification.** This means that 13 emotions of the twitter dataset need to be remapped"
      ]
    },
    {
      "cell_type": "code",
      "metadata": {
        "colab": {
          "base_uri": "https://localhost:8080/"
        },
        "id": "Nb6pCIDlJBqS",
        "outputId": "1738f036-beac-436e-d643-34dc76e47fb0"
      },
      "source": [
        "# Finds the distribution of data to help figure out how to prepare the data\n",
        "def find_data_distribution(dataframe, label_column):\n",
        "  # Creates an array with all the unique labels for the data\n",
        "  labels = dataframe[label_column].unique()\n",
        "  \n",
        "  # Gets the number of unique values for each label and prints it\n",
        "  for label in labels:\n",
        "    distribution = dataframe[dataframe[label_column] == label].count()[1]\n",
        "    print(label, distribution)\n",
        "\n",
        "# Looks at the distribution\n",
        "print(\"JOURNAL:\")\n",
        "find_data_distribution(journal, \"sentiment\")\n",
        "print(\"-------------------------------------\")\n",
        "print(\"TWITTER:\")\n",
        "find_data_distribution(twitter, \"sentiment\")"
      ],
      "execution_count": null,
      "outputs": [
        {
          "output_type": "stream",
          "text": [
            "JOURNAL:\n",
            "sadness 4666\n",
            "anger 2159\n",
            "love 1304\n",
            "surprise 572\n",
            "fear 1937\n",
            "joy 5362\n",
            "-------------------------------------\n",
            "TWITTER:\n",
            "empty 827\n",
            "sadness 5165\n",
            "enthusiasm 759\n",
            "neutral 8638\n",
            "worry 8459\n",
            "surprise 2187\n",
            "love 3842\n",
            "fun 1776\n",
            "hate 1323\n",
            "happiness 5209\n",
            "boredom 179\n",
            "relief 1526\n",
            "anger 110\n"
          ],
          "name": "stdout"
        }
      ]
    },
    {
      "cell_type": "markdown",
      "metadata": {
        "id": "rpyGoI5weHHq"
      },
      "source": [
        "### Match Twitter Dataset to Journal Dataset\n",
        "\n",
        "This is how the entries of the twitter dataset are being adjusted to fit the journal dataset. Similar emotions are being mapped together, and emotions with too little data or emotions  that don't quite match the six caterogires of the journal dataset are removed.\n",
        "\n",
        "* Adjust Twitter Emotion Types:\n",
        "  * Change:\n",
        "    * Anger, Hate -> Anger\n",
        "    * Worry -> Fear\n",
        "    * Happiness, Fun -> Joy\n",
        "  * Same:\n",
        "    * Love -> Love\n",
        "    * Sadness -> Sadness\n",
        "    * Surprise -> Surprise\n",
        "  * Remove:\n",
        "    * Empty, Enthusiasm, Neutral, Boredom, Relief -> Removed"
      ]
    },
    {
      "cell_type": "markdown",
      "metadata": {
        "id": "LZKDg_Hz1VC-"
      },
      "source": [
        "##### Remove Rows Function"
      ]
    },
    {
      "cell_type": "code",
      "metadata": {
        "id": "oM-I88NgOwd4"
      },
      "source": [
        "# Removes rows from the dataset\n",
        "def remove_rows(dataframe, label_column, remove_array):\n",
        "  # Loops through the emotions in the remove_array\n",
        "  for emotion in remove_array:\n",
        "    # Removes any rows with that emotions\n",
        "    dataframe.drop(dataframe[dataframe[label_column] == emotion].index, inplace = True)\n",
        "  \n",
        "  return dataframe\n",
        "\n",
        "# Removes rows with un-needed emotions \n",
        "twitter = remove_rows(twitter, \"sentiment\", [\"empty\", \"enthusiasm\", \"boredom\", \"relief\"])"
      ],
      "execution_count": null,
      "outputs": []
    },
    {
      "cell_type": "markdown",
      "metadata": {
        "id": "MimBwgBs1YBM"
      },
      "source": [
        "##### Replace Label Values Function"
      ]
    },
    {
      "cell_type": "code",
      "metadata": {
        "id": "msMUvzKCQdpf"
      },
      "source": [
        "# Changes out sentiment values to make the two datasets consistent\n",
        "def replace_label_value(dataframe, label_column, replace_dictionary):\n",
        "  for to_replace, replace_with in replace_dictionary.items():\n",
        "    dataframe.loc[(dataframe[label_column] == to_replace), label_column] = replace_with\n",
        "\n",
        "  return dataframe\n",
        "\n",
        "# Dictionary of terms to replace\n",
        "# \"word to replace\": \"word that replaces it\"\n",
        "replace = {\n",
        "    \"hate\": \"anger\",\n",
        "    \"worry\": \"fear\",\n",
        "    \"fun\": \"joy\",\n",
        "    \"happiness\": \"joy\"\n",
        "}\n",
        "\n",
        "# Matches the labels of the twitter dataset to the journal\n",
        "twitter = replace_label_value(twitter, \"sentiment\", replace)"
      ],
      "execution_count": null,
      "outputs": []
    },
    {
      "cell_type": "markdown",
      "metadata": {
        "id": "17kwZioOfhpk"
      },
      "source": [
        "### Combine the Datasets"
      ]
    },
    {
      "cell_type": "code",
      "metadata": {
        "colab": {
          "base_uri": "https://localhost:8080/"
        },
        "id": "I1ZydukucK3g",
        "outputId": "0d58e297-b7f1-4094-c1df-d99dd37245c0"
      },
      "source": [
        "# Combines the two datasets\n",
        "combined_data = pd.concat([journal, twitter])\n",
        "\n",
        "# find_data_distribution(combined_data, \"sentiment\")\n",
        "\n",
        "# Check the combination\n",
        "combined_data\n",
        "\n",
        "# Adjustments to the dataset made during fine-tuning\n",
        "# combined_data = remove_rows(combined_data, \"sentiment\", [\"surprise\"])\n",
        "combined_data = replace_label_value(combined_data, \"sentiment\", {\"fear\": \"anxiety\"})\n",
        "\n",
        "find_data_distribution(combined_data, \"sentiment\")"
      ],
      "execution_count": null,
      "outputs": [
        {
          "output_type": "stream",
          "text": [
            "sadness 9831\n",
            "anger 3592\n",
            "love 5146\n",
            "surprise 2759\n",
            "anxiety 10396\n",
            "joy 12347\n",
            "neutral 8638\n"
          ],
          "name": "stdout"
        }
      ]
    },
    {
      "cell_type": "markdown",
      "metadata": {
        "id": "h1LJ0M3Y930w"
      },
      "source": [
        "## Tokinzation \n",
        "* The tokenization function uses the [BERT Base Uncased Vocabulary Set](https://s3.amazonaws.com/models.huggingface.co/bert/bert-base-uncased-vocab.txt) in order to train \n",
        "* Words not present in the BERT Base dictionary are split into parts\n",
        "  * Parts of split words start with '##'\n",
        "* [Helpful Analysis of BERT Vocab](http://juditacs.github.io/2019/02/19/bert-tokenization-stats.html)\n"
      ]
    },
    {
      "cell_type": "markdown",
      "metadata": {
        "id": "Z5RESf2FhzLa"
      },
      "source": [
        "### Download BERT Dictionary"
      ]
    },
    {
      "cell_type": "code",
      "metadata": {
        "colab": {
          "base_uri": "https://localhost:8080/"
        },
        "id": "53-iz8vs-CaD",
        "outputId": "50612e9e-8ef7-4cfc-d146-5bcce29f1319"
      },
      "source": [
        "# Downloads the BERT Base Vocabulary\n",
        "!wget https://s3.amazonaws.com/models.huggingface.co/bert/bert-base-uncased-vocab.txt\n",
        "\n",
        "# Renames the text file to something simpler\n",
        "!mv bert-base-uncased-vocab.txt vocab.txt"
      ],
      "execution_count": null,
      "outputs": [
        {
          "output_type": "stream",
          "text": [
            "--2020-12-21 00:24:02--  https://s3.amazonaws.com/models.huggingface.co/bert/bert-base-uncased-vocab.txt\n",
            "Resolving s3.amazonaws.com (s3.amazonaws.com)... 52.216.108.141\n",
            "Connecting to s3.amazonaws.com (s3.amazonaws.com)|52.216.108.141|:443... connected.\n",
            "HTTP request sent, awaiting response... 200 OK\n",
            "Length: 231508 (226K) [text/plain]\n",
            "Saving to: ‘bert-base-uncased-vocab.txt’\n",
            "\n",
            "bert-base-uncased-v 100%[===================>] 226.08K  1.15MB/s    in 0.2s    \n",
            "\n",
            "2020-12-21 00:24:02 (1.15 MB/s) - ‘bert-base-uncased-vocab.txt’ saved [231508/231508]\n",
            "\n"
          ],
          "name": "stdout"
        }
      ]
    },
    {
      "cell_type": "markdown",
      "metadata": {
        "id": "rRQu7d2Zh4dY"
      },
      "source": [
        "### Create BERT Dictionary"
      ]
    },
    {
      "cell_type": "code",
      "metadata": {
        "id": "EGaSSgNQ-zsf"
      },
      "source": [
        "# Creates dictionaries for the vocab terms and their token numbers\n",
        "# Using a dictionary makes it quick and easy to search for a word's token and vice-versa\n",
        "VOCAB_TO_INDEX = {}\n",
        "INDEX_TO_VOCAB = {}\n",
        "\n",
        "# Size of the models vocabulary\n",
        "VOCAB_SIZE = 0\n",
        "\n",
        "# Loops through the different vocab words in the BERT file\n",
        "with open(\"vocab.txt\", \"r\") as vocab:\n",
        "  for i, word in enumerate(vocab):\n",
        "\n",
        "    # Removes \\n (new line character) the end of the words\n",
        "    word = word.rstrip()\n",
        "\n",
        "    # Creates the needeed word/index entry in both dictionaries\n",
        "    # The index starts at 1 because padded \"words\" are represented with 0\n",
        "    VOCAB_TO_INDEX[word] = i + 1\n",
        "    INDEX_TO_VOCAB[i + 1] = word\n",
        "  \n",
        "  # Adds 1 because i starts at 0 while the word indices start at 1\n",
        "  VOCAB_SIZE = i + 1"
      ],
      "execution_count": null,
      "outputs": []
    },
    {
      "cell_type": "markdown",
      "metadata": {
        "id": "_aJ6vAhYh880"
      },
      "source": [
        "### Word Tokenization Function\n"
      ]
    },
    {
      "cell_type": "code",
      "metadata": {
        "id": "HmlgwRSyHs5D"
      },
      "source": [
        "# Returns the tokenized version of a word from the dictionary\n",
        "# Splits unknown words into different sections\n",
        "def tokenize_word(word):\n",
        "\n",
        "  # Stores the returned tokens\n",
        "  token_array = []\n",
        "\n",
        "  # ------------------------------------------------------------\n",
        "  # Used for printing the actual parts of each word in debugging\n",
        "  # DEBUGGING_ARRAY = []\n",
        "  # ------------------------------------------------------------\n",
        "\n",
        "  # Runs until each part of the word has been converted to a token\n",
        "  while (len(word) != 0):\n",
        "    # Loops backwards through the word to ensure longest segments are the word are found\n",
        "    for i in range(len(word), -1, -1):\n",
        "\n",
        "      # Stores the word segment being examined\n",
        "      substring = word[0: i]\n",
        "\n",
        "      # Removes a character from an input if the character isn't present in the dictionary\n",
        "      if (len(substring) == 0):\n",
        "        word = word[1: len(word)]\n",
        "        break\n",
        "\n",
        "      # For the first part of the word added to the token array don't use the '##' seperator \n",
        "      elif (len(token_array) == 0):\n",
        "        if (VOCAB_TO_INDEX.get(substring)):\n",
        "          token_array.append(VOCAB_TO_INDEX[substring])\n",
        "          word = word[i: len(word)]\n",
        "          break\n",
        "\n",
        "      # If other parts of the word have already been tokinzed, add a '##' in front of the segment to indicate that it is a part of the word\n",
        "      else:\n",
        "        if (VOCAB_TO_INDEX.get(\"##\" + substring)):\n",
        "          token_array.append(VOCAB_TO_INDEX[\"##\" + substring])\n",
        "          word = word[i: len(word)]\n",
        "          break\n",
        "  \n",
        "  # -------------------------------------------------------\n",
        "  # Debugging: Returns actual word parts rather than tokens\n",
        "  #\n",
        "  # for index in token_array:\n",
        "  #   DEBUGGING_ARRAY.append(INDEX_TO_VOCAB[index])\n",
        "  # --------------------------------------------------------\n",
        "\n",
        "  # Only returns the array if there is data in it\n",
        "  if (token_array):\n",
        "      return token_array #, DEBUGGING_ARRAY"
      ],
      "execution_count": null,
      "outputs": []
    },
    {
      "cell_type": "markdown",
      "metadata": {
        "id": "1Uej5avKz_SF"
      },
      "source": [
        "## Create Dataset"
      ]
    },
    {
      "cell_type": "markdown",
      "metadata": {
        "id": "UAFxcXgBg0RW"
      },
      "source": [
        "### Sanitization Function\n",
        "* Removes:\n",
        "  * Twitter Handles\n",
        "  * Links\n",
        "  * Hashtags\n",
        "  * Uppercase Letters\n",
        "  * Special Characters"
      ]
    },
    {
      "cell_type": "code",
      "metadata": {
        "colab": {
          "base_uri": "https://localhost:8080/",
          "height": 35
        },
        "id": "rFie6WhZObJG",
        "outputId": "6150ab7f-3de8-40d6-f414-f966e2db45bc"
      },
      "source": [
        "# Prepares the sentences to be processed by the network\n",
        "def sanitize_text(text):\n",
        "  # Sets the text to lowercase\n",
        "  text = text.lower().strip()\n",
        "\n",
        "\n",
        "  # Removes links\n",
        "  text = re.sub(r'http\\S+', '', text)\n",
        "\n",
        "  # Removes twitter usernames\n",
        "  text = re.sub(r'(?<=^|(?<=[^a-zA-Z0-9-_\\.]))@([A-Za-z]+[A-Za-z0-9-_]+)', '', text)\n",
        "\n",
        "  # Removes hashtags\n",
        "  text = re.sub(r'(?<=^|(?<=[^a-zA-Z0-9-_\\.]))#([A-Za-z]+[A-Za-z0-9-_]+)', '', text)\n",
        "\n",
        "  # Creates a space between a word and the following punctuation\n",
        "  text = re.sub(r\"([?.!,])\", r\" \\1 \", text)\n",
        "  text = re.sub(r'[\" \"]+', \" \", text)\n",
        "\n",
        "  # Removes all characters but (a-z, A-Z, \".\", \"?\", \"!\", \",\")\n",
        "  text = re.sub(r\"[^a-zA-Z?.!,]+\", \" \", text)\n",
        "  text = text.strip()\n",
        "\n",
        "  return text\n",
        "\n",
        "# Test the function\n",
        "sanitize_text(\"@myfriend #podcast Check out this really cool link https://stackoverflow.com/questions/11346283/renaming-columns-in-pandas it is ~~~amazing~~~\")"
      ],
      "execution_count": null,
      "outputs": [
        {
          "output_type": "execute_result",
          "data": {
            "application/vnd.google.colaboratory.intrinsic+json": {
              "type": "string"
            },
            "text/plain": [
              "'check out this really cool link it is amazing'"
            ]
          },
          "metadata": {
            "tags": []
          },
          "execution_count": 11
        }
      ]
    },
    {
      "cell_type": "markdown",
      "metadata": {
        "id": "rOB2YLu8iXYH"
      },
      "source": [
        "### Create Dataset Array"
      ]
    },
    {
      "cell_type": "code",
      "metadata": {
        "id": "JwWunvIeyRmm"
      },
      "source": [
        "# Stores the maximum sentence length observed by the transformer\n",
        "MAX_SENTENCE_LENGTH = 60#@param {type:\"integer\"}\n",
        "\n",
        "# Create an array of labels for automatic data labeling\n",
        "LABEL_REF = combined_data[\"sentiment\"].unique()\n",
        "LABEL_AMOUNT = len(LABEL_REF)\n",
        "\n",
        "# Uses previously defined functions to create a final dataset.\n",
        "def create_data_set(dataframe, inputs_column, outputs_column, label_ref):\n",
        "\n",
        "  # Cleans up the input column\n",
        "  dataframe[inputs_column] = dataframe[inputs_column].apply(sanitize_text)\n",
        "\n",
        "  # Gets the length of the data in order to construct numpy arrays\n",
        "  dataset_length = len(dataframe.index)\n",
        "  \n",
        "  # Creates arrays that stores inputs and outputs that were extracted from the dataset\n",
        "  dataset_inputs = np.zeros([dataset_length, MAX_SENTENCE_LENGTH])\n",
        "\n",
        "  # Gets the label amount to create the outputs\n",
        "  label_amount = len(LABEL_REF)\n",
        "  dataset_outputs = np.zeros([dataset_length, label_amount])\n",
        "\n",
        "  # Processes each row of the provided dataframe\n",
        "  for i, row in enumerate(dataframe[inputs_column]):\n",
        "\n",
        "    # INPUTS\n",
        "    # Converts the sentence into an array\n",
        "    word_list = re.sub(\"[^a-zA-Z?.!,]\", \" \",  row).split()\n",
        "\n",
        "    # Adds BERT [CLS] token to the row\n",
        "    # This token is what is evaluted by the final dense layer to create the prediction\n",
        "    word_list.insert(0,'[CLS]')\n",
        "\n",
        "    # Variable that stores the tokinzed sentence from the examined row\n",
        "    tokenized_sentence = []\n",
        "  \n",
        "\n",
        "    # Appends each tokenized word to the tokenized_sentence array\n",
        "    for word in word_list:\n",
        "      tokenized_sentence.extend(tokenize_word(word))\n",
        "\n",
        "    # Truncates the sentence if it is over the MAX_SENTENCE_LENGTH\n",
        "    del tokenized_sentence[MAX_SENTENCE_LENGTH:]\n",
        "\n",
        "    # Passes the tokenized words from the tokenized_sentence array to the returned dataset\n",
        "    for j, token in enumerate(tokenized_sentence):\n",
        "      dataset_inputs[i][j] = token\n",
        "\n",
        "  #-------------------------------------------------------\n",
        "\n",
        "  # OUTPUTS\n",
        "  # Sets the output equal to the VAD values of the text\n",
        "  for i, row in enumerate(dataframe[outputs_column]):\n",
        "    label_index = np.where(LABEL_REF == row)\n",
        "    dataset_outputs[i][label_index] = 1\n",
        "\n",
        "  # Returns inputs and outputs for training\n",
        "  # Converted to float32 in order to save memory during training\n",
        "  return tf.cast(dataset_inputs, tf.float32), tf.cast(dataset_outputs, tf.float32)\n",
        "\n",
        "\n",
        "# Inputs used for training and label index for future reference\n",
        "inputs, outputs = create_data_set(combined_data, \"text\", \"sentiment\", LABEL_REF)"
      ],
      "execution_count": null,
      "outputs": []
    },
    {
      "cell_type": "markdown",
      "metadata": {
        "id": "bFN2dRIadJM4"
      },
      "source": [
        "### *Debugging: Verify Dataset Array*\n"
      ]
    },
    {
      "cell_type": "code",
      "metadata": {
        "colab": {
          "base_uri": "https://localhost:8080/"
        },
        "id": "TBA51tfRn2D6",
        "outputId": "6d80d36c-07b8-468a-a170-e0191c77defd"
      },
      "source": [
        "# Debugging function that can be used to make sure sentences were properly tokenized\n",
        "def check_tokenizer(index, inputs, outputs, dataframe, inputs_column, outputs_column):\n",
        "  \n",
        "  # String that stores the tokens that have been converted to words\n",
        "  token_converted = \"\"\n",
        "\n",
        "  # Loops through all of the tokens from a row of data\n",
        "  # Exits when it reaches the end of the sentence\n",
        "  for token in inputs[index]:\n",
        "    if (token == 0):\n",
        "      break\n",
        "\n",
        "    # Get a token's corresponding word\n",
        "    word = INDEX_TO_VOCAB[token.numpy()]\n",
        "\n",
        "    # If the \"word\" returned in a continuation of another, remove the ## from it\n",
        "    if \"##\" in word:\n",
        "      token_converted += word[2:]\n",
        "    # If it is just a normal word, add it to the string\n",
        "    else:\n",
        "      token_converted += \" \" + INDEX_TO_VOCAB[token.numpy()]\n",
        "\n",
        "  # Prints the detokenized results, and the origional results from the pandas dataframe. \n",
        "  print(\"INPUTS:\")\n",
        "  # [7:] Skips CLS token\n",
        "  print(token_converted[7:])\n",
        "  print(dataframe[inputs_column].iloc[index], \"\\n\")\n",
        "\n",
        "  print(\"OUTPUTS:\")\n",
        "  print(dataframe[outputs_column].iloc[index])\n",
        "  print(LABEL_REF[np.where(outputs[index] == 1)][0])\n",
        "\n",
        "check_tokenizer(32, inputs, outputs, combined_data, \"text\", \"sentiment\")"
      ],
      "execution_count": null,
      "outputs": [
        {
          "output_type": "stream",
          "text": [
            "INPUTS:\n",
            "i have seen heard and read over the past couple of days i am left feeling impressed by more than a few companies\n",
            "i have seen heard and read over the past couple of days i am left feeling impressed by more than a few companies \n",
            "\n",
            "OUTPUTS:\n",
            "surprise\n",
            "surprise\n"
          ],
          "name": "stdout"
        }
      ]
    },
    {
      "cell_type": "markdown",
      "metadata": {
        "id": "g-FvKAzwdala"
      },
      "source": [
        "### Create tf.data.Dataset"
      ]
    },
    {
      "cell_type": "code",
      "metadata": {
        "id": "ncc4XKoz_vXo"
      },
      "source": [
        "# Amount of data passed through each training iteration\n",
        "BATCH_SIZE =  1024#@param {type:\"integer\"}\n",
        "# Uniformity of data shuffling\n",
        "BUFFER_SIZE = 50000\n",
        "\n",
        "# Creates the final dataset to be used for training\n",
        "dataset = tf.data.Dataset.from_tensor_slices((\n",
        "    {\n",
        "        'inputs': inputs\n",
        "    },\n",
        "    {\n",
        "        'outputs': outputs\n",
        "    },\n",
        "))\n",
        "\n",
        "# Caches the dataset in memory or local storage to prevent file opening and data reading\n",
        "dataset = dataset.cache()\n",
        "# Shuffles the data\n",
        "dataset = dataset.shuffle(BUFFER_SIZE)\n",
        "# Seperates the data into batch sizes\n",
        "dataset = dataset.batch(BATCH_SIZE)\n",
        "# Extracts the next batch of data while one is training\n",
        "# Uses the AUTOTUNE function to automatically figure out how many batches can be preprocessed\n",
        "dataset = dataset.prefetch(tf.data.experimental.AUTOTUNE)"
      ],
      "execution_count": null,
      "outputs": []
    },
    {
      "cell_type": "markdown",
      "metadata": {
        "id": "2RLmApQBcawB"
      },
      "source": [
        "## Transformer\n",
        "[Code Based Off Google Transformer Chatbot](https://colab.research.google.com/github/tensorflow/examples/blob/master/community/en/transformer_chatbot.ipynb)"
      ]
    },
    {
      "cell_type": "markdown",
      "metadata": {
        "id": "N_qH4Vz0H204"
      },
      "source": [
        "### *Debugging: Print Function*\n",
        "* The main use of this function is to print the size of matrices during training. This transformer is defined using None sizes in order to make sure that it can fit a variety of different datasizes. As such, sizes of the matrices after running through the different layers aren't know until runtime. This function fixes this problem by allowing for the matrix sizes to be examined during model training."
      ]
    },
    {
      "cell_type": "code",
      "metadata": {
        "id": "HL1NiGEJHyFM"
      },
      "source": [
        "# Keras layer that adds printing functionality to the model graph\n",
        "class Print(tf.keras.layers.Layer):\n",
        "  def __init__(self, name=\"print\"):\n",
        "    super().__init__()\n",
        "\n",
        "  # Returns the original input, but also prints the size of a matrix to console during training\n",
        "  def call(self, inputs):\n",
        "    tf.print(\"\\n\", tf.shape(inputs))\n",
        "    return inputs"
      ],
      "execution_count": null,
      "outputs": []
    },
    {
      "cell_type": "markdown",
      "metadata": {
        "id": "4oa-7rx5MsqT"
      },
      "source": [
        "### Attention Mechanisms"
      ]
    },
    {
      "cell_type": "markdown",
      "metadata": {
        "id": "0UwonDXbM8Tm"
      },
      "source": [
        "#### Padding Mask\n"
      ]
    },
    {
      "cell_type": "code",
      "metadata": {
        "id": "Q6-REN_uMRcP"
      },
      "source": [
        "# Generates a mask that is used to prepare padded data for the self attention function\n",
        "def create_padding_mask(inputs):\n",
        "  # tf.math.equal checks for values that equal 0 in the array passed to it\n",
        "  # It then returns an array with a 1 where the original array equaled 0, and 0s everywhere else\n",
        "  # The array is also cast float32 for faster training\n",
        "  mask = tf.cast(tf.math.equal(inputs, 0), tf.float32)\n",
        "\n",
        "  # Reformats the attention mask to match the shape of multihead self-attention\n",
        "  return mask[:, tf.newaxis, tf.newaxis, :]"
      ],
      "execution_count": null,
      "outputs": []
    },
    {
      "cell_type": "markdown",
      "metadata": {
        "id": "O4p8HZRndp3c"
      },
      "source": [
        "#### Self-Attention\n",
        "* The self-attention function is an equation that origionally came from the paper *Attention is All You Need*.\n",
        "* This function takes a setence converted to [word vectors](https://blog.acolyer.org/2016/04/21/the-amazing-power-of-word-vectors/)—an abtract numerical representations of a word's meaning—and embeds each vector with the meaning of the other vectors in the sentence."
      ]
    },
    {
      "cell_type": "code",
      "metadata": {
        "id": "M6rSg2n_cZjz"
      },
      "source": [
        "def self_attention(query, key, value, mask):\n",
        "\n",
        "  # Matrix multiplies the query and key vectors to get a \"score\" for how related two words are\n",
        "  score = tf.matmul(query, key, transpose_b=True)\n",
        "\n",
        "  # Gets the size of the key vector\n",
        "  key_vector_dimensions = tf.cast(tf.shape(key)[-1], tf.float32)\n",
        "  # Divides the score (query x key) by the square root of the key vector size in order to create more stable gradients\n",
        "  score_stablized = score / tf.math.sqrt(key_vector_dimensions)\n",
        "\n",
        "  # A mask created with the padding_mask function is passed here\n",
        "  # An input of [1, 0, 6, 4] would have a mask of [0, 1, 0, 0]\n",
        "  # This mask sets the padded zeros in an input to \"-inf\" in order to make sure the padded values are not read as words\n",
        "  if mask is not None:\n",
        "    score_stablized += (mask * -1e9) \n",
        "\n",
        "  # Softmax layer normalizes all the different word scores\n",
        "  attention_weights = tf.nn.softmax(score_stablized, axis=-1)\n",
        "\n",
        "  # Mutliplies the attention weights the input values in order to get the final \"summary\" vector\n",
        "  output = tf.matmul(attention_weights, value)\n",
        "\n",
        "  return output\n"
      ],
      "execution_count": null,
      "outputs": []
    },
    {
      "cell_type": "markdown",
      "metadata": {
        "id": "ulYWx6wi01uB"
      },
      "source": [
        "#### Multihead Self-Attention"
      ]
    },
    {
      "cell_type": "code",
      "metadata": {
        "id": "M3GIRhxEz5JV"
      },
      "source": [
        "class MultiheadSelfAttention(tf.keras.layers.Layer):\n",
        "\n",
        "  # In the Keras functional API, the __init__ layer is used to define model weights\n",
        "  def __init__(self, output_dimensions, num_heads, name=\"multi_head_attention\"):\n",
        "    # Initializes the tf.keras.layers.Layer superclass\n",
        "    super().__init__()\n",
        "\n",
        "    # Number of nodes in the dense layer (output_dimensions) and the number of self-attention heads\n",
        "    self.output_dimensions = output_dimensions\n",
        "    self.num_heads = num_heads\n",
        "\n",
        "    # The number of dimensions needs to be divisible by the number of attention heads in order to make sure that the data can be properly transposed\n",
        "    assert output_dimensions % self.num_heads == 0\n",
        "\n",
        "    # Stores the size of the vetor examined by each attention head\n",
        "    self.depth = output_dimensions // self.num_heads\n",
        "\n",
        "    # These dense layers learn the associations in the word vectors\n",
        "    self.query_dense = tf.keras.layers.Dense(units=output_dimensions)\n",
        "    self.key_dense = tf.keras.layers.Dense(units=output_dimensions)\n",
        "    self.value_dense = tf.keras.layers.Dense(units=output_dimensions)\n",
        "\n",
        "    # Dense layer used after all the self-attention heads are added back together\n",
        "    self.dense = tf.keras.layers.Dense(units=output_dimensions)\n",
        "\n",
        "  # Reshapes the data into seperate sections for each of the attention heads\n",
        "  def split_heads(self, inputs, batch_size):\n",
        "    # Reshapes the data so each head has a section to examine\n",
        "    inputs = tf.reshape(\n",
        "        inputs,\n",
        "        shape=(batch_size, -1, self.num_heads, self.depth))\n",
        "    # Transposes the data so that each new section of data is processed individually by the self_attention function\n",
        "    return tf.transpose(inputs, perm=[0, 2, 1, 3])\n",
        "\n",
        "  # The function that actually runs the commands for the layer because call() is equivelent to __call()__\n",
        "  def call(self, inputs):\n",
        "    # Only one variable can be passed to the call function so the inputs are passed as a dictionary\n",
        "    # inputs['query'], inputs['key'], inputs['value'] are all just equal to inputs. \n",
        "    query, key, value, mask = inputs['query'], inputs['key'], inputs['value'], inputs['mask']\n",
        "\n",
        "    # Gets the size of the batch passed to the function by the Keras Dataset API\n",
        "    batch_size = tf.shape(query)[0]\n",
        "\n",
        "    # Runs the inputs through dense layers in order to get custom query, key, value vectors\n",
        "    query = self.query_dense(query)\n",
        "    key = self.query_dense(key)\n",
        "    value = self.query_dense(value)\n",
        "\n",
        "    # Uses the split_heads function to format all the new vectors for multihead attention\n",
        "    query = self.split_heads(query, batch_size)\n",
        "    key = self.split_heads(key, batch_size)\n",
        "    value = self.split_heads(value, batch_size)\n",
        "\n",
        "    # Runs the data through the attention heads\n",
        "    processed_attention = self_attention(query, key, value, mask)\n",
        "\n",
        "    # Un-transposes the data and concatenates the results for each head\n",
        "    processed_attention = tf.transpose(processed_attention, perm=[0, 2, 1, 3])\n",
        "    concat_attention = tf.reshape(processed_attention, shape=(batch_size, -1, self.output_dimensions))\n",
        "\n",
        "    # Runs the returned vector through a final dense layer to make a final connections between data points\n",
        "    outputs = self.dense(concat_attention)\n",
        "\n",
        "    return outputs"
      ],
      "execution_count": null,
      "outputs": []
    },
    {
      "cell_type": "markdown",
      "metadata": {
        "id": "oRfbp7YJM4Qv"
      },
      "source": [
        "### Positional Encoding\n",
        "* Code here taken directly from this [tutorial](https://blog.tensorflow.org/2019/05/transformer-chatbot-tutorial-with-tensorflow-2.html) from Google\n",
        "  * Code without this label was either self-developed or rewritten in order to develop an understand of the code.\n",
        "* For a deeper understanding of positional encoding check out this [repository](https://github.com/tensorflow/examples/blob/master/community/en/position_encoding.ipynb)"
      ]
    },
    {
      "cell_type": "code",
      "metadata": {
        "id": "4fNWIGNVPDJr"
      },
      "source": [
        "# Transformers don't process words sequentially.\n",
        "# As such, this positional encoding equation is used to embed the positional data into each word vector\n",
        "\n",
        "# While the other code from the tutorial was hand written and recommented in order to ensure understanding\n",
        "# the class written below was taken directly from the tutorial listed in the Transformer header of this notebook.\n",
        "\n",
        "# As such, the comments.\n",
        "# While I would have liked to spend time getting to understand this operation, it was not a critical task for this project\n",
        "# I choose instead to focus my energy on understanding the naunces of the transformer architecture \n",
        "\n",
        "class PositionalEncoding(tf.keras.layers.Layer):\n",
        "\n",
        "  def __init__(self, position, output_dimensions):\n",
        "    super(PositionalEncoding, self).__init__()\n",
        "    # Creates a variable that stores the positional encoding data\n",
        "    self.pos_encoding = self.positional_encoding(position, output_dimensions)\n",
        "\n",
        "  # Computes the inner value of the sin and cos functions\n",
        "  def get_angles(self, position, i, output_dimensions):\n",
        "    angles = 1 / tf.pow(10000, (2 * (i // 2)) / tf.cast(output_dimensions, tf.float32))\n",
        "    return position * angles\n",
        "\n",
        "  def positional_encoding(self, position, output_dimensions):\n",
        "    angle_rads = self.get_angles(\n",
        "        position=tf.range(position, dtype=tf.float32)[:, tf.newaxis],\n",
        "        i=tf.range(output_dimensions, dtype=tf.float32)[tf.newaxis, :],\n",
        "        output_dimensions=output_dimensions)\n",
        "    # Apply sin to even index in the array\n",
        "    sines = tf.math.sin(angle_rads[:, 0::2])\n",
        "    # Apply cos to odd index in the array\n",
        "    cosines = tf.math.cos(angle_rads[:, 1::2])\n",
        "\n",
        "    # Combines the results of the sin and cos operations\n",
        "    pos_encoding = tf.concat([sines, cosines], axis=-1)\n",
        "    pos_encoding = pos_encoding[tf.newaxis, ...]\n",
        "    return tf.cast(pos_encoding, tf.float32)\n",
        "\n",
        "  def call(self, inputs):\n",
        "    return inputs + self.pos_encoding[:, :tf.shape(inputs)[1], :]"
      ],
      "execution_count": null,
      "outputs": []
    },
    {
      "cell_type": "markdown",
      "metadata": {
        "id": "9qfgUQDavcqb"
      },
      "source": [
        "### Encoder"
      ]
    },
    {
      "cell_type": "markdown",
      "metadata": {
        "id": "j7xGsghJvgYl"
      },
      "source": [
        "#### Encoder Layer"
      ]
    },
    {
      "cell_type": "code",
      "metadata": {
        "id": "0bUrb9D4vb_1"
      },
      "source": [
        "# This function create a Keras model that represents a single encoder layer\n",
        "# In a transformer, the encoder is reponsible for abstracting the data\n",
        "def encoder_layer(dense_dimensions, output_dimensions, num_heads, dropout_rate, name=\"encoder_layer\"):\n",
        "  # Because this function outputs a Keras model, input layerw need to be defined\n",
        "  inputs = tf.keras.Input(shape=(None, output_dimensions), name=\"inputs\")\n",
        "  # Padding mask created with the padding_mask function \n",
        "  padding_mask = tf.keras.Input(shape=(1, 1, None), name=\"padding_mask\")\n",
        "\n",
        "  # Multihead Self-Attention layer that was previously defined\n",
        "  # This layer is ultimately reponsible for figuring out the connections between words\n",
        "  attention = MultiheadSelfAttention(\n",
        "      output_dimensions, num_heads, name=\"self_attention\")({\n",
        "          'query': inputs,\n",
        "          'key': inputs,\n",
        "          'value': inputs,\n",
        "          'mask': padding_mask\n",
        "      })\n",
        "\n",
        "  # Dropout layer ignores random values from the attention matrix during training to help prevent overfitting \n",
        "  attention = tf.keras.layers.Dropout(rate=dropout_rate)(attention)\n",
        "  # Normalization layer adds the attention outputs to the original inputs and then normalizes the result\n",
        "  # This keeps a residual connection the model's original input\n",
        "  attention = tf.keras.layers.LayerNormalization(epsilon=1e-6)(inputs + attention)\n",
        "\n",
        "  # Dense layers do additional processing on the newly minted word vector\n",
        "  outputs = tf.keras.layers.Dense(units=dense_dimensions, activation='relu')(attention)\n",
        "  # Converts the data back to the original input dimensions\n",
        "  outputs = tf.keras.layers.Dense(units=output_dimensions)(outputs)\n",
        "\n",
        "  # Final dropout and normalization layer\n",
        "  outputs = tf.keras.layers.Dropout(rate=dropout_rate)(outputs)\n",
        "  outputs = tf.keras.layers.LayerNormalization(epsilon=1e-6)(attention + outputs)\n",
        "\n",
        "  # Returns a Keras model that is used as a layer in the encoder bloack\n",
        "  return tf.keras.Model(\n",
        "      inputs=[inputs, padding_mask],\n",
        "      outputs=outputs,\n",
        "      name=name\n",
        "  )"
      ],
      "execution_count": null,
      "outputs": []
    },
    {
      "cell_type": "code",
      "metadata": {
        "colab": {
          "base_uri": "https://localhost:8080/",
          "height": 324
        },
        "id": "lfrWhnjIXMDP",
        "outputId": "36c5b835-d33a-41d1-baee-909b0c90fdf0"
      },
      "source": [
        "# Creates a sample encoder layer\n",
        "sample_encoder_layer = encoder_layer(\n",
        "    dense_dimensions=512,\n",
        "    output_dimensions=128,\n",
        "    num_heads=4,\n",
        "    dropout_rate=0.3,\n",
        "    name=\"sample_encoder_layer\")\n",
        "\n",
        "# Makes a folder to store the layer images\n",
        "!mkdir layer_images\n",
        "\n",
        "# Outputs a plotted model to check for errors \n",
        "tf.keras.utils.plot_model(\n",
        "    sample_encoder_layer, to_file='layer_images/sample_encoder_layer.png', show_shapes=True)"
      ],
      "execution_count": null,
      "outputs": [
        {
          "output_type": "stream",
          "text": [
            "mkdir: cannot create directory ‘layer_images’: File exists\n"
          ],
          "name": "stdout"
        },
        {
          "output_type": "execute_result",
          "data": {
            "image/png": "[encoded data removed]",
            "text/plain": [
              "<IPython.core.display.Image object>"
            ]
          },
          "metadata": {
            "tags": []
          },
          "execution_count": 21
        }
      ]
    },
    {
      "cell_type": "markdown",
      "metadata": {
        "id": "y4lFHHSv-v_m"
      },
      "source": [
        "#### Encoder Block"
      ]
    },
    {
      "cell_type": "code",
      "metadata": {
        "id": "1wcoW9fq2DjX"
      },
      "source": [
        "# This function is used to define the entire encoding block rather than just a single layer\n",
        "def encoder(vocab_size, num_encoding_layers, dense_dimensions, output_dimensions, num_heads, dropout_rate, name=\"encoder\"):\n",
        "  # Inputs and padding mask\n",
        "  inputs = tf.keras.Input(shape=(None,), name=\"inputs\")\n",
        "  padding_mask = tf.keras.Input(shape=(1, 1, None), name=\"padding_mask\")\n",
        "\n",
        "  # Rather than using pretrained embeddings, the transformer trains its own embeddings\n",
        "  # This function converts the previous defined tokens into embeddings with size output_dimensions\n",
        "  embeddings = tf.keras.layers.Embedding(vocab_size, output_dimensions)(inputs)\n",
        "\n",
        "  # Multiplies the embeddings by the square root of the models dimensions\n",
        "  embeddings *= tf.math.sqrt(tf.cast(output_dimensions, tf.float32))\n",
        "  # Adds positional data to the embedding layer\n",
        "  embeddings = PositionalEncoding(vocab_size, output_dimensions)(embeddings)\n",
        "\n",
        "  # Dropout layer to prevent overfitting\n",
        "  outputs = tf.keras.layers.Dropout(rate=dropout_rate)(embeddings)\n",
        "\n",
        "  # This function loops through layers \"num_encoding_layers\" times\n",
        "  # Doing this adds \"num_encoding_layers\" encoding layers to the final encoder block\n",
        "  #\"([outputs, padding_mask])\" is the data being passed to the model each time (passing itself)\n",
        "  for i in range(num_encoding_layers):\n",
        "    outputs = encoder_layer(\n",
        "        dense_dimensions=dense_dimensions,\n",
        "        output_dimensions=output_dimensions,\n",
        "        num_heads=num_heads,\n",
        "        dropout_rate=dropout_rate,\n",
        "        name=\"encoder_layer_{}\".format(i)\n",
        "    )([outputs, padding_mask])\n",
        "\n",
        "  return tf.keras.Model(\n",
        "      inputs=[inputs, padding_mask],\n",
        "      outputs=outputs,\n",
        "      name=name\n",
        "  )"
      ],
      "execution_count": null,
      "outputs": []
    },
    {
      "cell_type": "code",
      "metadata": {
        "colab": {
          "base_uri": "https://localhost:8080/",
          "height": 747
        },
        "id": "B_7GsD0OXaAL",
        "outputId": "a1836530-0bad-42c0-8698-cdb9cc85b0dd"
      },
      "source": [
        "sample_encoder = encoder(\n",
        "    vocab_size=8192,\n",
        "    num_encoding_layers=2,\n",
        "    dense_dimensions=512,\n",
        "    output_dimensions=128,\n",
        "    num_heads=4,\n",
        "    dropout_rate=0.3,\n",
        "    name=\"sample_encoder\")\n",
        "\n",
        "tf.keras.utils.plot_model(\n",
        "    sample_encoder, to_file='layer_images/sample_encoder.png', show_shapes=True)"
      ],
      "execution_count": null,
      "outputs": [
        {
          "output_type": "execute_result",
          "data": {
            "image/png": "[encoded data removed]",
            "text/plain": [
              "<IPython.core.display.Image object>"
            ]
          },
          "metadata": {
            "tags": []
          },
          "execution_count": 23
        }
      ]
    },
    {
      "cell_type": "markdown",
      "metadata": {
        "id": "9IgRXeA3_Dqv"
      },
      "source": [
        "### Full Model"
      ]
    },
    {
      "cell_type": "code",
      "metadata": {
        "id": "j9GeRwFX_Eue"
      },
      "source": [
        "# The full BERT based transformer model definition\n",
        "# A dense layer is at the end to return a classification array\n",
        "def transformer(vocab_size, num_encoding_layers, dense_dimensions, output_dimensions, num_heads, dropout_rate, output_units, name=\"transformer\"):\n",
        "  # Inputs for the model\n",
        "  inputs = tf.keras.Input(shape=(None,), name=\"inputs\")\n",
        "\n",
        "  # Creates the padding mask before the tokens go through the vectorizer\n",
        "  padding_mask = tf.keras.layers.Lambda(\n",
        "      create_padding_mask, \n",
        "      output_shape=(1, 1, None),\n",
        "      name=\"padding_mask\"\n",
        "  )(inputs)\n",
        "\n",
        "  # Creates the encoder block\n",
        "  encoder_outputs = encoder(\n",
        "      vocab_size=vocab_size,\n",
        "      num_encoding_layers=num_encoding_layers,\n",
        "      dense_dimensions=dense_dimensions,\n",
        "      output_dimensions=output_dimensions,\n",
        "      num_heads=num_heads,\n",
        "      dropout_rate=dropout_rate\n",
        "  )(inputs=[inputs, padding_mask])\n",
        "\n",
        "  # Final dense layer that finds any final associations in the data\n",
        "  outputs = tf.keras.layers.Dense(units=dense_dimensions)(encoder_outputs)\n",
        "  \n",
        "  # ----------------------------------------------------------------\n",
        "  # Can be used to average the arrays instead of having a [CLS] token\n",
        "  # outputs = tf.keras.layers.GlobalAveragePooling1D()(outputs)\n",
        "  # ----------------------------------------------------------------\n",
        "\n",
        "  # Sets the outputs only equal to the [CLS] token\n",
        "  outputs = outputs[:, 0, :]\n",
        "\n",
        "  outputs = tf.keras.layers.Dense(units=output_units, activation='sigmoid', name=\"outputs\")(outputs)\n",
        "\n",
        "  return tf.keras.Model(\n",
        "      inputs=inputs,\n",
        "      outputs=outputs,\n",
        "      name=name\n",
        "  )"
      ],
      "execution_count": null,
      "outputs": []
    },
    {
      "cell_type": "code",
      "metadata": {
        "colab": {
          "base_uri": "https://localhost:8080/",
          "height": 644
        },
        "id": "HFhYmhBNBsR5",
        "outputId": "4ee3b6d5-cda9-4dc5-9422-efb64cc51ecd"
      },
      "source": [
        "sample_transformer = transformer(\n",
        "    vocab_size=VOCAB_SIZE,\n",
        "    num_encoding_layers=4,\n",
        "    dense_dimensions=512,\n",
        "    output_dimensions=128,\n",
        "    num_heads=4,\n",
        "    dropout_rate=0.3,\n",
        "    output_units=4,\n",
        "    name=\"sample_transformer\")\n",
        "\n",
        "tf.keras.utils.plot_model(\n",
        "    sample_transformer, to_file='layer_images/transformer.png', show_shapes=True)"
      ],
      "execution_count": null,
      "outputs": [
        {
          "output_type": "execute_result",
          "data": {
            "image/png": "[encoded data removed]",
            "text/plain": [
              "<IPython.core.display.Image object>"
            ]
          },
          "metadata": {
            "tags": []
          },
          "execution_count": 25
        }
      ]
    },
    {
      "cell_type": "markdown",
      "metadata": {
        "id": "VV8HDr_eB5jH"
      },
      "source": [
        "## Training"
      ]
    },
    {
      "cell_type": "markdown",
      "metadata": {
        "id": "6eWDxpOcfwHQ"
      },
      "source": [
        "### Confirm GPU\n"
      ]
    },
    {
      "cell_type": "code",
      "metadata": {
        "id": "fik_IS6YsVnj"
      },
      "source": [
        "# Checks to make sure that the transformer is training on a GPU\n",
        "# device_name = tf.test.gpu_device_name()\n",
        "# if device_name != '/device:GPU:0':\n",
        "#   raise SystemError('GPU device not found')\n",
        "# print('Found GPU at: {}'.format(device_name))"
      ],
      "execution_count": null,
      "outputs": []
    },
    {
      "cell_type": "markdown",
      "metadata": {
        "id": "09lWOBfcfkas"
      },
      "source": [
        "### Define Model"
      ]
    },
    {
      "cell_type": "code",
      "metadata": {
        "id": "Ja_3jwYQCADa"
      },
      "source": [
        "# Removes any previously created models and layers\n",
        "# Such as the ones created for the diagrams\n",
        "tf.keras.backend.clear_session()\n",
        "\n",
        "# Training Parameters\n",
        "# These can be set using the form function within colab for easier management\n",
        "NUM_ENCODING_LAYERS =     2#@param {type:\"integer\"}\n",
        "OUTPUT_DIMENSIONS =  256#@param {type:\"integer\"}\n",
        "NUM_HEADS = 8#@param {type:\"integer\"}\n",
        "DENSE_DIMENSIONS =  512#@param {type:\"integer\"}\n",
        "DROPOUT_RATE = 0.3#@param {type:\"raw\"}\n",
        "\n",
        "# Creates the ac#@param {type:\"integer\"tual model\n",
        "model = transformer(\n",
        "    vocab_size=VOCAB_SIZE,\n",
        "    num_encoding_layers=NUM_ENCODING_LAYERS,\n",
        "    dense_dimensions=DENSE_DIMENSIONS,\n",
        "    output_dimensions=OUTPUT_DIMENSIONS,\n",
        "    num_heads=NUM_HEADS,\n",
        "    dropout_rate=DROPOUT_RATE,\n",
        "    output_units=LABEL_AMOUNT\n",
        ")"
      ],
      "execution_count": null,
      "outputs": []
    },
    {
      "cell_type": "markdown",
      "metadata": {
        "id": "FxrNr6oAfqXG"
      },
      "source": [
        "### Compile Model\n",
        "* Code for the CustomScheduler is taken directly from this [tutorial](https://blog.tensorflow.org/2019/05/transformer-chatbot-tutorial-with-tensorflow-2.html) from Google\n"
      ]
    },
    {
      "cell_type": "code",
      "metadata": {
        "id": "DSYlw4S4KdZY"
      },
      "source": [
        "# Custom learning rate taken directly from the Keras Transformer Chatbot Tutorial\n",
        "class CustomSchedule(tf.keras.optimizers.schedules.LearningRateSchedule):\n",
        "\n",
        "  def __init__(self, d_model, warmup_steps=4000):\n",
        "    super(CustomSchedule, self).__init__()\n",
        "\n",
        "    self.d_model = d_model\n",
        "    self.d_model = tf.cast(self.d_model, tf.float32)\n",
        "\n",
        "    self.warmup_steps = warmup_steps\n",
        "\n",
        "  def __call__(self, step):\n",
        "    arg1 = tf.math.rsqrt(step)\n",
        "    arg2 = step * (self.warmup_steps**-1.5)\n",
        "\n",
        "    return tf.math.rsqrt(self.d_model) * tf.math.minimum(arg1, arg2)\n",
        "\n",
        "# Creates a variable for the learning rate using the custom rate function\n",
        "learning_rate = CustomSchedule(OUTPUT_DIMENSIONS)\n",
        "\n",
        "# Creates a modified Adam optimirunningzer\n",
        "optimizer = tf.keras.optimizers.Adam(\n",
        "    learning_rate, beta_1=0.9, beta_2=0.98, epsilon=1e-9)"
      ],
      "execution_count": null,
      "outputs": []
    },
    {
      "cell_type": "code",
      "metadata": {
        "colab": {
          "base_uri": "https://localhost:8080/"
        },
        "id": "CX1kBg-dCuxf",
        "outputId": "ebf98e4c-62a0-4a0a-df7f-2b41f8b1d6c5"
      },
      "source": [
        "# Compiles the model using the previously defined optimizer\n",
        "model.compile(optimizer=optimizer, loss='categorical_crossentropy', metrics=['accuracy'])\n",
        "model.summary()"
      ],
      "execution_count": null,
      "outputs": [
        {
          "output_type": "stream",
          "text": [
            "Model: \"transformer\"\n",
            "__________________________________________________________________________________________________\n",
            "Layer (type)                    Output Shape         Param #     Connected to                     \n",
            "==================================================================================================\n",
            "inputs (InputLayer)             [(None, None)]       0                                            \n",
            "__________________________________________________________________________________________________\n",
            "padding_mask (Lambda)           (None, 1, 1, None)   0           inputs[0][0]                     \n",
            "__________________________________________________________________________________________________\n",
            "encoder (Functional)            (None, None, 256)    8604672     inputs[0][0]                     \n",
            "                                                                 padding_mask[0][0]               \n",
            "__________________________________________________________________________________________________\n",
            "dense_12 (Dense)                (None, None, 512)    131584      encoder[0][0]                    \n",
            "__________________________________________________________________________________________________\n",
            "tf.__operators__.getitem (Slici (None, 512)          0           dense_12[0][0]                   \n",
            "__________________________________________________________________________________________________\n",
            "outputs (Dense)                 (None, 7)            3591        tf.__operators__.getitem[0][0]   \n",
            "==================================================================================================\n",
            "Total params: 8,739,847\n",
            "Trainable params: 8,739,847\n",
            "Non-trainable params: 0\n",
            "__________________________________________________________________________________________________\n"
          ],
          "name": "stdout"
        }
      ]
    },
    {
      "cell_type": "markdown",
      "metadata": {
        "id": "cfg07OqQf3Gb"
      },
      "source": [
        "### Fit Model"
      ]
    },
    {
      "cell_type": "code",
      "metadata": {
        "colab": {
          "background_save": true,
          "base_uri": "https://localhost:8080/"
        },
        "id": "bPtBEwMKC2hN",
        "outputId": "93c7419f-9ae3-426a-8b37-1ba567126f9c"
      },
      "source": [
        "# Sets the number of times the entire dataset is processed by the training algorithm\n",
        "EPOCHS = 50#@param {type:\"integer\"}\n",
        "\n",
        "# Trains the model on the dataset from the tf.data.Dataset \n",
        "model.fit(dataset, epochs=EPOCHS)"
      ],
      "execution_count": null,
      "outputs": [
        {
          "output_type": "stream",
          "text": [
            "Epoch 1/50\n",
            "52/52 [==============================] - 18s 345ms/step - loss: 1.9731 - accuracy: 0.2052\n",
            "Epoch 2/50\n",
            "52/52 [==============================] - 18s 348ms/step - loss: 1.9076 - accuracy: 0.2154\n",
            "Epoch 3/50\n",
            "52/52 [==============================] - 18s 350ms/step - loss: 1.8603 - accuracy: 0.2321\n",
            "Epoch 4/50\n",
            "52/52 [==============================] - 18s 354ms/step - loss: 1.8273 - accuracy: 0.2501\n",
            "Epoch 5/50\n",
            "52/52 [==============================] - 18s 354ms/step - loss: 1.7838 - accuracy: 0.2752\n",
            "Epoch 6/50\n",
            "52/52 [==============================] - 18s 353ms/step - loss: 1.7358 - accuracy: 0.3051\n",
            "Epoch 7/50\n",
            "52/52 [==============================] - 18s 353ms/step - loss: 1.6571 - accuracy: 0.3499\n",
            "Epoch 8/50\n",
            "52/52 [==============================] - 18s 351ms/step - loss: 1.5736 - accuracy: 0.3932\n",
            "Epoch 9/50\n",
            "52/52 [==============================] - 18s 352ms/step - loss: 1.4792 - accuracy: 0.4355\n",
            "Epoch 10/50\n",
            "52/52 [==============================] - 18s 353ms/step - loss: 1.3916 - accuracy: 0.4706\n",
            "Epoch 11/50\n",
            "52/52 [==============================] - 18s 354ms/step - loss: 1.2896 - accuracy: 0.5199\n",
            "Epoch 12/50\n",
            "52/52 [==============================] - 18s 352ms/step - loss: 1.2223 - accuracy: 0.5415\n",
            "Epoch 13/50\n",
            "52/52 [==============================] - 18s 353ms/step - loss: 1.1764 - accuracy: 0.5588\n",
            "Epoch 14/50\n",
            "52/52 [==============================] - 18s 353ms/step - loss: 1.1428 - accuracy: 0.5707\n",
            "Epoch 15/50\n",
            "52/52 [==============================] - 18s 353ms/step - loss: 1.1044 - accuracy: 0.5867\n",
            "Epoch 16/50\n",
            "52/52 [==============================] - 18s 354ms/step - loss: 1.0730 - accuracy: 0.5989\n",
            "Epoch 17/50\n",
            "52/52 [==============================] - 18s 354ms/step - loss: 1.0460 - accuracy: 0.6073\n",
            "Epoch 18/50\n",
            "52/52 [==============================] - 18s 353ms/step - loss: 1.0183 - accuracy: 0.6211\n",
            "Epoch 19/50\n",
            "52/52 [==============================] - 18s 353ms/step - loss: 0.9879 - accuracy: 0.6312\n",
            "Epoch 20/50\n",
            "52/52 [==============================] - 18s 352ms/step - loss: 0.9543 - accuracy: 0.6447\n",
            "Epoch 21/50\n",
            "52/52 [==============================] - 18s 354ms/step - loss: 0.9257 - accuracy: 0.6565\n",
            "Epoch 22/50\n",
            "52/52 [==============================] - 18s 354ms/step - loss: 0.9003 - accuracy: 0.6666\n",
            "Epoch 23/50\n",
            "52/52 [==============================] - 18s 354ms/step - loss: 0.8611 - accuracy: 0.6806\n",
            "Epoch 24/50\n",
            "52/52 [==============================] - 18s 353ms/step - loss: 0.8382 - accuracy: 0.6879\n",
            "Epoch 25/50\n",
            "52/52 [==============================] - 18s 354ms/step - loss: 0.8097 - accuracy: 0.6998\n",
            "Epoch 26/50\n",
            "52/52 [==============================] - 18s 354ms/step - loss: 0.7842 - accuracy: 0.7099\n",
            "Epoch 27/50\n",
            "52/52 [==============================] - 18s 353ms/step - loss: 0.7564 - accuracy: 0.7185\n",
            "Epoch 28/50\n",
            "52/52 [==============================] - 18s 354ms/step - loss: 0.7302 - accuracy: 0.7266\n",
            "Epoch 29/50\n",
            "52/52 [==============================] - 18s 354ms/step - loss: 0.7074 - accuracy: 0.7341\n",
            "Epoch 30/50\n",
            "52/52 [==============================] - 18s 355ms/step - loss: 0.6862 - accuracy: 0.7427\n",
            "Epoch 31/50\n",
            "52/52 [==============================] - 18s 352ms/step - loss: 0.6662 - accuracy: 0.7513\n",
            "Epoch 32/50\n",
            "52/52 [==============================] - 18s 353ms/step - loss: 0.6526 - accuracy: 0.7539\n",
            "Epoch 33/50\n",
            "52/52 [==============================] - 18s 352ms/step - loss: 0.6292 - accuracy: 0.7617\n",
            "Epoch 34/50\n",
            "52/52 [==============================] - 18s 353ms/step - loss: 0.6131 - accuracy: 0.7681\n",
            "Epoch 35/50\n",
            "52/52 [==============================] - 18s 354ms/step - loss: 0.5988 - accuracy: 0.7744\n",
            "Epoch 36/50\n",
            "52/52 [==============================] - 18s 354ms/step - loss: 0.5811 - accuracy: 0.7803\n",
            "Epoch 37/50\n",
            "52/52 [==============================] - 18s 353ms/step - loss: 0.5701 - accuracy: 0.7849\n",
            "Epoch 38/50\n",
            "52/52 [==============================] - 19s 358ms/step - loss: 0.5520 - accuracy: 0.7898\n",
            "Epoch 39/50\n",
            "52/52 [==============================] - 18s 355ms/step - loss: 0.5347 - accuracy: 0.7958\n",
            "Epoch 40/50\n",
            "52/52 [==============================] - 18s 354ms/step - loss: 0.5202 - accuracy: 0.8041\n",
            "Epoch 41/50\n",
            "52/52 [==============================] - 18s 352ms/step - loss: 0.5106 - accuracy: 0.8061\n",
            "Epoch 42/50\n",
            "52/52 [==============================] - 18s 353ms/step - loss: 0.4886 - accuracy: 0.8160\n",
            "Epoch 43/50\n",
            "52/52 [==============================] - 18s 352ms/step - loss: 0.4802 - accuracy: 0.8168\n",
            "Epoch 44/50\n",
            "52/52 [==============================] - 18s 353ms/step - loss: 0.4696 - accuracy: 0.8223\n",
            "Epoch 45/50\n",
            "52/52 [==============================] - 19s 356ms/step - loss: 0.4481 - accuracy: 0.8293\n",
            "Epoch 46/50\n",
            "52/52 [==============================] - 18s 353ms/step - loss: 0.4400 - accuracy: 0.8339\n",
            "Epoch 47/50\n",
            "52/52 [==============================] - 18s 354ms/step - loss: 0.4263 - accuracy: 0.8412\n",
            "Epoch 48/50\n",
            "52/52 [==============================] - 18s 354ms/step - loss: 0.4133 - accuracy: 0.8446\n",
            "Epoch 49/50\n",
            "52/52 [==============================] - 18s 352ms/step - loss: 0.4026 - accuracy: 0.8476\n",
            "Epoch 50/50\n",
            "52/52 [==============================] - 18s 352ms/step - loss: 0.3948 - accuracy: 0.8514\n"
          ],
          "name": "stdout"
        },
        {
          "output_type": "execute_result",
          "data": {
            "text/plain": [
              "<tensorflow.python.keras.callbacks.History at 0x7f854ad0e2b0>"
            ]
          },
          "metadata": {
            "tags": []
          },
          "execution_count": 0
        }
      ]
    },
    {
      "cell_type": "markdown",
      "metadata": {
        "id": "NXqHqJlmLSun"
      },
      "source": [
        "### Evaluate Model\n",
        "\n"
      ]
    },
    {
      "cell_type": "markdown",
      "metadata": {
        "id": "VzFmlo-C1QRD"
      },
      "source": [
        "#### Load Test Data"
      ]
    },
    {
      "cell_type": "code",
      "metadata": {
        "id": "1cPayj9CubHd",
        "colab": {
          "base_uri": "https://localhost:8080/",
          "height": 419
        },
        "outputId": "9d3e0cae-00d0-455a-a992-ad8db307f599"
      },
      "source": [
        "journal_test = pd.read_csv(\"journal_emotions/test.txt\", sep=\";\", names=[\"text\", \"sentiment\"], header=None)\n",
        "journal_test"
      ],
      "execution_count": 33,
      "outputs": [
        {
          "output_type": "execute_result",
          "data": {
            "text/html": [
              "<div>\n",
              "<style scoped>\n",
              "    .dataframe tbody tr th:only-of-type {\n",
              "        vertical-align: middle;\n",
              "    }\n",
              "\n",
              "    .dataframe tbody tr th {\n",
              "        vertical-align: top;\n",
              "    }\n",
              "\n",
              "    .dataframe thead th {\n",
              "        text-align: right;\n",
              "    }\n",
              "</style>\n",
              "<table border=\"1\" class=\"dataframe\">\n",
              "  <thead>\n",
              "    <tr style=\"text-align: right;\">\n",
              "      <th></th>\n",
              "      <th>text</th>\n",
              "      <th>sentiment</th>\n",
              "    </tr>\n",
              "  </thead>\n",
              "  <tbody>\n",
              "    <tr>\n",
              "      <th>0</th>\n",
              "      <td>im feeling rather rotten so im not very ambiti...</td>\n",
              "      <td>sadness</td>\n",
              "    </tr>\n",
              "    <tr>\n",
              "      <th>1</th>\n",
              "      <td>im updating my blog because i feel shitty</td>\n",
              "      <td>sadness</td>\n",
              "    </tr>\n",
              "    <tr>\n",
              "      <th>2</th>\n",
              "      <td>i never make her separate from me because i do...</td>\n",
              "      <td>sadness</td>\n",
              "    </tr>\n",
              "    <tr>\n",
              "      <th>3</th>\n",
              "      <td>i left with my bouquet of red and yellow tulip...</td>\n",
              "      <td>joy</td>\n",
              "    </tr>\n",
              "    <tr>\n",
              "      <th>4</th>\n",
              "      <td>i was feeling a little vain when i did this one</td>\n",
              "      <td>sadness</td>\n",
              "    </tr>\n",
              "    <tr>\n",
              "      <th>...</th>\n",
              "      <td>...</td>\n",
              "      <td>...</td>\n",
              "    </tr>\n",
              "    <tr>\n",
              "      <th>1995</th>\n",
              "      <td>i just keep feeling like someone is being unki...</td>\n",
              "      <td>anger</td>\n",
              "    </tr>\n",
              "    <tr>\n",
              "      <th>1996</th>\n",
              "      <td>im feeling a little cranky negative after this...</td>\n",
              "      <td>anger</td>\n",
              "    </tr>\n",
              "    <tr>\n",
              "      <th>1997</th>\n",
              "      <td>i feel that i am useful to my people and that ...</td>\n",
              "      <td>joy</td>\n",
              "    </tr>\n",
              "    <tr>\n",
              "      <th>1998</th>\n",
              "      <td>im feeling more comfortable with derby i feel ...</td>\n",
              "      <td>joy</td>\n",
              "    </tr>\n",
              "    <tr>\n",
              "      <th>1999</th>\n",
              "      <td>i feel all weird when i have to meet w people ...</td>\n",
              "      <td>fear</td>\n",
              "    </tr>\n",
              "  </tbody>\n",
              "</table>\n",
              "<p>2000 rows × 2 columns</p>\n",
              "</div>"
            ],
            "text/plain": [
              "                                                   text sentiment\n",
              "0     im feeling rather rotten so im not very ambiti...   sadness\n",
              "1             im updating my blog because i feel shitty   sadness\n",
              "2     i never make her separate from me because i do...   sadness\n",
              "3     i left with my bouquet of red and yellow tulip...       joy\n",
              "4       i was feeling a little vain when i did this one   sadness\n",
              "...                                                 ...       ...\n",
              "1995  i just keep feeling like someone is being unki...     anger\n",
              "1996  im feeling a little cranky negative after this...     anger\n",
              "1997  i feel that i am useful to my people and that ...       joy\n",
              "1998  im feeling more comfortable with derby i feel ...       joy\n",
              "1999  i feel all weird when i have to meet w people ...      fear\n",
              "\n",
              "[2000 rows x 2 columns]"
            ]
          },
          "metadata": {
            "tags": []
          },
          "execution_count": 33
        }
      ]
    },
    {
      "cell_type": "markdown",
      "metadata": {
        "id": "chTI0oXi1YoP"
      },
      "source": [
        "#### Create Test Dataset"
      ]
    },
    {
      "cell_type": "code",
      "metadata": {
        "id": "U3ggtJ5qwTXr",
        "colab": {
          "base_uri": "https://localhost:8080/"
        },
        "outputId": "9103dc74-870f-463f-a618-2603be66035a"
      },
      "source": [
        "# Removes any removed emotions\n",
        "# journal_test = remove_rows(journal_test, \"sentiment\", [\"surprise\"])\n",
        "journal_test = replace_label_value(journal_test, \"sentiment\", {\"fear\": \"anxiety\"})\n",
        "\n",
        "# Creates a test dataset\n",
        "journal_test_inputs, journal_test_outputs = create_data_set(journal_test, \"text\", \"sentiment\", LABEL_REF)\n",
        "\n",
        "# Check that emotions match\n",
        "find_data_distribution(journal_test, \"sentiment\")\n",
        "print()\n",
        "\n",
        "# Check tokenizer\n",
        "check_tokenizer(594, journal_test_inputs, journal_test_outputs, journal_test, \"text\", \"sentiment\")"
      ],
      "execution_count": 34,
      "outputs": [
        {
          "output_type": "stream",
          "text": [
            "sadness 581\n",
            "joy 695\n",
            "anxiety 224\n",
            "anger 275\n",
            "love 159\n",
            "surprise 66\n",
            "\n",
            "INPUTS:\n",
            "i am feeling so emotional about your brothers arrival\n",
            "i am feeling so emotional about your brothers arrival \n",
            "\n",
            "OUTPUTS:\n",
            "sadness\n",
            "sadness\n"
          ],
          "name": "stdout"
        }
      ]
    },
    {
      "cell_type": "markdown",
      "metadata": {
        "id": "4ZqR4_wv1bfL"
      },
      "source": [
        "#### Evaluate Test Dataset"
      ]
    },
    {
      "cell_type": "code",
      "metadata": {
        "id": "yVsGNUQlHZgA",
        "colab": {
          "base_uri": "https://localhost:8080/"
        },
        "outputId": "3c0c5267-27ad-41e1-8e57-00260d608fe2"
      },
      "source": [
        "# Checks the model's accuracy on the previously seperated test dataset\n",
        "model.evaluate(journal_test_inputs, journal_test_outputs)"
      ],
      "execution_count": 35,
      "outputs": [
        {
          "output_type": "stream",
          "text": [
            "63/63 [==============================] - 1s 11ms/step - loss: 0.7251 - accuracy: 0.8540\n"
          ],
          "name": "stdout"
        },
        {
          "output_type": "execute_result",
          "data": {
            "text/plain": [
              "[0.725050151348114, 0.8539999723434448]"
            ]
          },
          "metadata": {
            "tags": []
          },
          "execution_count": 35
        }
      ]
    },
    {
      "cell_type": "markdown",
      "metadata": {
        "id": "fmdRLmGN1fXX"
      },
      "source": [
        "### User Interactable Demo"
      ]
    },
    {
      "cell_type": "markdown",
      "metadata": {
        "id": "P-2_614c1i4i"
      },
      "source": [
        "#### Sentence Tokenization Function"
      ]
    },
    {
      "cell_type": "code",
      "metadata": {
        "id": "ypO1OLixwjcb"
      },
      "source": [
        "def sentence_tokenizer(sentence):\n",
        "\n",
        "    # INPUTS\n",
        "    # Converts the sentence into an array\n",
        "    word_list = re.sub(\"[^a-zA-Z?.!,]\", \" \",  sanitize_text(sentence)).lower().split()\n",
        "\n",
        "    # Adds BERT [CLS] token to the row\n",
        "    # This token is what is evaluted by the final dense layer to create the prediction\n",
        "    word_list.insert(0,'[CLS]')\n",
        "\n",
        "    # Variable that stores the tokinzed sentence from the examined row\n",
        "    tokenized_sentence = []\n",
        "    \n",
        "    # Appends each tokenized word to the tokenized_sentence array\n",
        "    for word in word_list:\n",
        "      tokenized_sentence.extend(tokenize_word(word))\n",
        "\n",
        "    return [tokenized_sentence]"
      ],
      "execution_count": 36,
      "outputs": []
    },
    {
      "cell_type": "markdown",
      "metadata": {
        "id": "VbYUMg391mm9"
      },
      "source": [
        "#### Get Sentiment from User Sentence"
      ]
    },
    {
      "cell_type": "code",
      "metadata": {
        "id": "e95BuxXMw9BC",
        "colab": {
          "base_uri": "https://localhost:8080/"
        },
        "outputId": "c96701ed-44b1-4cde-99f4-e42c5b4b39d0"
      },
      "source": [
        "def get_sentiment(text):\n",
        "  # Tokenizes the sentence\n",
        "  tokenized = sentence_tokenizer(text)\n",
        "\n",
        "  # Creates a prediction\n",
        "  prediction = model.predict(tokenized)\n",
        "  \n",
        "  # Get the label amopunt of looping \n",
        "  label_amount = len(prediction[0])\n",
        "\n",
        "  # Loops through each label confidence\n",
        "  for i in range(label_amount):\n",
        "    # Get the percent confidence for the most likely emotion\n",
        "    percent = '%.3f'%(np.max(prediction))\n",
        "    # Prints the data\n",
        "    print(LABEL_REF[np.argmax(prediction)], percent)\n",
        "    # Sets the highest percent to 0 in order to loop through the rest\n",
        "    prediction[0][np.argmax(prediction)] = 0\n",
        "\n",
        "text = \"I had a great day\"#@param {type:\"string\"}\n",
        "get_sentiment(text)"
      ],
      "execution_count": 51,
      "outputs": [
        {
          "output_type": "stream",
          "text": [
            "joy 0.991\n",
            "love 0.836\n",
            "anxiety 0.553\n",
            "neutral 0.489\n",
            "sadness 0.370\n",
            "surprise 0.254\n",
            "anger 0.008\n"
          ],
          "name": "stdout"
        }
      ]
    },
    {
      "cell_type": "markdown",
      "metadata": {
        "id": "xutTmhemP8QG"
      },
      "source": [
        "## Exporting"
      ]
    },
    {
      "cell_type": "markdown",
      "metadata": {
        "id": "mADgndc6emH2"
      },
      "source": [
        "### Checks for Needed Libraries"
      ]
    },
    {
      "cell_type": "code",
      "metadata": {
        "id": "YNLaaCXHP-BI",
        "colab": {
          "base_uri": "https://localhost:8080/"
        },
        "outputId": "fc7fd39d-a28e-47f9-ae3f-bcc796fa70fc"
      },
      "source": [
        "# Makes sure needed libraries are installed\n",
        "!pip install pyyaml h5py"
      ],
      "execution_count": 39,
      "outputs": [
        {
          "output_type": "stream",
          "text": [
            "Requirement already satisfied: pyyaml in /usr/local/lib/python3.6/dist-packages (3.13)\n",
            "Requirement already satisfied: h5py in /usr/local/lib/python3.6/dist-packages (2.10.0)\n",
            "Requirement already satisfied: six in /usr/local/lib/python3.6/dist-packages (from h5py) (1.15.0)\n",
            "Requirement already satisfied: numpy>=1.7 in /usr/local/lib/python3.6/dist-packages (from h5py) (1.19.4)\n"
          ],
          "name": "stdout"
        }
      ]
    },
    {
      "cell_type": "markdown",
      "metadata": {
        "id": "ycfLhV3-er-T"
      },
      "source": [
        "### Saves the Model"
      ]
    },
    {
      "cell_type": "code",
      "metadata": {
        "id": "Pz9BJ-_bQamg",
        "colab": {
          "base_uri": "https://localhost:8080/"
        },
        "outputId": "6ccbd33f-d7f0-497d-ed07-120cf20c0c4b"
      },
      "source": [
        "# Creates a folder to save the model to\n",
        "!mkdir saved_model\n",
        "!rm -rf saved_model/transformer\n",
        "!rm -f saved_model/transformer.zip\n",
        "\n",
        "# Saves the model\n",
        "model.save('saved_model/transformer', include_optimizer=False)\n",
        "\n",
        "# Zips the folder\n",
        "# !zip -r saved_model/transformer.zip saved_model/transformer/"
      ],
      "execution_count": 40,
      "outputs": [
        {
          "output_type": "stream",
          "text": [
            "mkdir: cannot create directory ‘saved_model’: File exists\n",
            "WARNING:tensorflow:Skipping full serialization of Keras layer <tensorflow.python.keras.layers.core.Dense object at 0x7f84f426d160>, because it is not built.\n",
            "WARNING:tensorflow:Skipping full serialization of Keras layer <tensorflow.python.keras.layers.core.Dense object at 0x7f84f41af470>, because it is not built.\n",
            "WARNING:tensorflow:Skipping full serialization of Keras layer <tensorflow.python.keras.layers.core.Dense object at 0x7f84f4212fd0>, because it is not built.\n",
            "WARNING:tensorflow:Skipping full serialization of Keras layer <tensorflow.python.keras.layers.core.Dense object at 0x7f84f41afc18>, because it is not built.\n"
          ],
          "name": "stdout"
        },
        {
          "output_type": "stream",
          "text": [
            "WARNING:absl:Found untraced functions such as dense_layer_call_and_return_conditional_losses, dense_layer_call_fn, dense_3_layer_call_and_return_conditional_losses, dense_3_layer_call_fn, dense_6_layer_call_and_return_conditional_losses while saving (showing 5 of 20). These functions will not be directly callable after loading.\n",
            "WARNING:absl:Found untraced functions such as dense_layer_call_and_return_conditional_losses, dense_layer_call_fn, dense_3_layer_call_and_return_conditional_losses, dense_3_layer_call_fn, dense_6_layer_call_and_return_conditional_losses while saving (showing 5 of 20). These functions will not be directly callable after loading.\n"
          ],
          "name": "stderr"
        },
        {
          "output_type": "stream",
          "text": [
            "INFO:tensorflow:Assets written to: saved_model/transformer/assets\n"
          ],
          "name": "stdout"
        },
        {
          "output_type": "stream",
          "text": [
            "INFO:tensorflow:Assets written to: saved_model/transformer/assets\n"
          ],
          "name": "stderr"
        }
      ]
    },
    {
      "cell_type": "markdown",
      "metadata": {
        "id": "aoO8uFP5e1ps"
      },
      "source": [
        "### Verify Export"
      ]
    },
    {
      "cell_type": "markdown",
      "metadata": {
        "id": "9Nnhwk01fEu6"
      },
      "source": [
        "#### Test Import"
      ]
    },
    {
      "cell_type": "code",
      "metadata": {
        "id": "mugKjTLcfEN8",
        "colab": {
          "base_uri": "https://localhost:8080/"
        },
        "outputId": "94df2088-4a98-418b-e03d-7034cee0ebfc"
      },
      "source": [
        "# Imports the model\n",
        "imported_model = tf.keras.models.load_model('saved_model/transformer')\n",
        "\n",
        "# Check its architecture\n",
        "imported_model.summary()"
      ],
      "execution_count": 41,
      "outputs": [
        {
          "output_type": "stream",
          "text": [
            "WARNING:tensorflow:No training configuration found in save file, so the model was *not* compiled. Compile it manually.\n"
          ],
          "name": "stdout"
        },
        {
          "output_type": "stream",
          "text": [
            "WARNING:tensorflow:No training configuration found in save file, so the model was *not* compiled. Compile it manually.\n"
          ],
          "name": "stderr"
        },
        {
          "output_type": "stream",
          "text": [
            "Model: \"transformer\"\n",
            "__________________________________________________________________________________________________\n",
            "Layer (type)                    Output Shape         Param #     Connected to                     \n",
            "==================================================================================================\n",
            "inputs (InputLayer)             [(None, None)]       0                                            \n",
            "__________________________________________________________________________________________________\n",
            "padding_mask (Lambda)           (None, 1, 1, None)   0           inputs[0][0]                     \n",
            "__________________________________________________________________________________________________\n",
            "encoder (Functional)            (None, None, 256)    8604672     inputs[0][0]                     \n",
            "                                                                 padding_mask[0][0]               \n",
            "__________________________________________________________________________________________________\n",
            "dense_12 (Dense)                (None, None, 512)    131584      encoder[0][0]                    \n",
            "__________________________________________________________________________________________________\n",
            "tf.__operators__.getitem (Slici (None, 512)          0           dense_12[0][0]                   \n",
            "__________________________________________________________________________________________________\n",
            "outputs (Dense)                 (None, 7)            3591        tf.__operators__.getitem[0][0]   \n",
            "==================================================================================================\n",
            "Total params: 8,739,847\n",
            "Trainable params: 8,739,847\n",
            "Non-trainable params: 0\n",
            "__________________________________________________________________________________________________\n"
          ],
          "name": "stdout"
        }
      ]
    },
    {
      "cell_type": "markdown",
      "metadata": {
        "id": "qZI1Qte0fIwA"
      },
      "source": [
        "#### Check Imported Model"
      ]
    },
    {
      "cell_type": "code",
      "metadata": {
        "id": "-DRPS3Cae1F4",
        "colab": {
          "base_uri": "https://localhost:8080/"
        },
        "outputId": "488a1049-b78d-49db-b6cf-89e2fd1a0f9d"
      },
      "source": [
        "def get_sentiment_imported(text):\n",
        "  tokenized = sentence_tokenizer(text)\n",
        "  # This is the imported model\n",
        "  prediction = imported_model.predict(tokenized)\n",
        "  label_amount = len(prediction[0])\n",
        "\n",
        "  for i in range(label_amount):\n",
        "    percent = '%.3f'%(np.max(prediction))\n",
        "    print(LABEL_REF[np.argmax(prediction)], percent)\n",
        "    prediction[0][np.argmax(prediction)] = 0\n",
        "\n",
        "text = \"I hate everyone\"#@param {type:\"string\"}\n",
        "\n",
        "print(\"IMPORTED: \")\n",
        "get_sentiment_imported(text)\n",
        "print(\"-------------------------\")\n",
        "print(\"LOCALLY TRAINED:\")\n",
        "get_sentiment(text)"
      ],
      "execution_count": 42,
      "outputs": [
        {
          "output_type": "stream",
          "text": [
            "IMPORTED: \n",
            "anger 0.998\n",
            "sadness 0.998\n",
            "neutral 0.524\n",
            "anxiety 0.265\n",
            "joy 0.079\n",
            "love 0.058\n",
            "surprise 0.022\n",
            "-------------------------\n",
            "LOCALLY TRAINED:\n",
            "anger 0.998\n",
            "sadness 0.998\n",
            "neutral 0.524\n",
            "anxiety 0.265\n",
            "joy 0.079\n",
            "love 0.058\n",
            "surprise 0.022\n"
          ],
          "name": "stdout"
        }
      ]
    },
    {
      "cell_type": "markdown",
      "metadata": {
        "id": "gYEz0WIdlsEv"
      },
      "source": [
        "## Convert to TensorflowJS"
      ]
    },
    {
      "cell_type": "markdown",
      "metadata": {
        "id": "VOmrRWMlBOa7"
      },
      "source": [
        "### Conversion"
      ]
    },
    {
      "cell_type": "code",
      "metadata": {
        "id": "DqtOFq-9lrrq",
        "colab": {
          "base_uri": "https://localhost:8080/"
        },
        "outputId": "a4ba3421-c88f-4f4d-e19c-39dd768a392c"
      },
      "source": [
        "# Creates a folder for the model\n",
        "!mkdir saved_model/transformerjs\n",
        "\n",
        "# Installs TensorflowJS for the conversion\n",
        "!pip install tensorflowjs\n",
        "\n",
        "# Converts the model\n",
        "!tensorflowjs_converter --input_format=tf_saved_model saved_model/transformer saved_model/transformerjs\n",
        "\n",
        "# Zips the model\n",
        "!zip -r saved_model/transformerjs.zip saved_model/transformerjs/"
      ],
      "execution_count": 43,
      "outputs": [
        {
          "output_type": "stream",
          "text": [
            "mkdir: cannot create directory ‘saved_model/transformerjs’: File exists\n",
            "Requirement already satisfied: tensorflowjs in /usr/local/lib/python3.6/dist-packages (2.8.1)\n",
            "Requirement already satisfied: tensorflow<3,>=2.1.0 in /usr/local/lib/python3.6/dist-packages (from tensorflowjs) (2.4.0)\n",
            "Requirement already satisfied: tensorflow-hub<0.10,>=0.7.0 in /usr/local/lib/python3.6/dist-packages (from tensorflowjs) (0.9.0)\n",
            "Requirement already satisfied: six<2,>=1.12.0 in /usr/local/lib/python3.6/dist-packages (from tensorflowjs) (1.15.0)\n",
            "Requirement already satisfied: h5py<3,>=2.8.0 in /usr/local/lib/python3.6/dist-packages (from tensorflowjs) (2.10.0)\n",
            "Requirement already satisfied: absl-py~=0.10 in /usr/local/lib/python3.6/dist-packages (from tensorflow<3,>=2.1.0->tensorflowjs) (0.10.0)\n",
            "Requirement already satisfied: numpy~=1.19.2 in /usr/local/lib/python3.6/dist-packages (from tensorflow<3,>=2.1.0->tensorflowjs) (1.19.4)\n",
            "Requirement already satisfied: opt-einsum~=3.3.0 in /usr/local/lib/python3.6/dist-packages (from tensorflow<3,>=2.1.0->tensorflowjs) (3.3.0)\n",
            "Requirement already satisfied: termcolor~=1.1.0 in /usr/local/lib/python3.6/dist-packages (from tensorflow<3,>=2.1.0->tensorflowjs) (1.1.0)\n",
            "Requirement already satisfied: typing-extensions~=3.7.4 in /usr/local/lib/python3.6/dist-packages (from tensorflow<3,>=2.1.0->tensorflowjs) (3.7.4.3)\n",
            "Requirement already satisfied: gast==0.3.3 in /usr/local/lib/python3.6/dist-packages (from tensorflow<3,>=2.1.0->tensorflowjs) (0.3.3)\n",
            "Requirement already satisfied: protobuf>=3.9.2 in /usr/local/lib/python3.6/dist-packages (from tensorflow<3,>=2.1.0->tensorflowjs) (3.12.4)\n",
            "Requirement already satisfied: tensorflow-estimator<2.5.0,>=2.4.0rc0 in /usr/local/lib/python3.6/dist-packages (from tensorflow<3,>=2.1.0->tensorflowjs) (2.4.0)\n",
            "Requirement already satisfied: tensorboard~=2.4 in /usr/local/lib/python3.6/dist-packages (from tensorflow<3,>=2.1.0->tensorflowjs) (2.4.0)\n",
            "Requirement already satisfied: astunparse~=1.6.3 in /usr/local/lib/python3.6/dist-packages (from tensorflow<3,>=2.1.0->tensorflowjs) (1.6.3)\n",
            "Requirement already satisfied: wheel~=0.35 in /usr/local/lib/python3.6/dist-packages (from tensorflow<3,>=2.1.0->tensorflowjs) (0.36.2)\n",
            "Requirement already satisfied: google-pasta~=0.2 in /usr/local/lib/python3.6/dist-packages (from tensorflow<3,>=2.1.0->tensorflowjs) (0.2.0)\n",
            "Requirement already satisfied: grpcio~=1.32.0 in /usr/local/lib/python3.6/dist-packages (from tensorflow<3,>=2.1.0->tensorflowjs) (1.32.0)\n",
            "Requirement already satisfied: wrapt~=1.12.1 in /usr/local/lib/python3.6/dist-packages (from tensorflow<3,>=2.1.0->tensorflowjs) (1.12.1)\n",
            "Requirement already satisfied: keras-preprocessing~=1.1.2 in /usr/local/lib/python3.6/dist-packages (from tensorflow<3,>=2.1.0->tensorflowjs) (1.1.2)\n",
            "Requirement already satisfied: flatbuffers~=1.12.0 in /usr/local/lib/python3.6/dist-packages (from tensorflow<3,>=2.1.0->tensorflowjs) (1.12)\n",
            "Requirement already satisfied: setuptools in /usr/local/lib/python3.6/dist-packages (from protobuf>=3.9.2->tensorflow<3,>=2.1.0->tensorflowjs) (50.3.2)\n",
            "Requirement already satisfied: google-auth-oauthlib<0.5,>=0.4.1 in /usr/local/lib/python3.6/dist-packages (from tensorboard~=2.4->tensorflow<3,>=2.1.0->tensorflowjs) (0.4.2)\n",
            "Requirement already satisfied: markdown>=2.6.8 in /usr/local/lib/python3.6/dist-packages (from tensorboard~=2.4->tensorflow<3,>=2.1.0->tensorflowjs) (3.3.3)\n",
            "Requirement already satisfied: werkzeug>=0.11.15 in /usr/local/lib/python3.6/dist-packages (from tensorboard~=2.4->tensorflow<3,>=2.1.0->tensorflowjs) (1.0.1)\n",
            "Requirement already satisfied: tensorboard-plugin-wit>=1.6.0 in /usr/local/lib/python3.6/dist-packages (from tensorboard~=2.4->tensorflow<3,>=2.1.0->tensorflowjs) (1.7.0)\n",
            "Requirement already satisfied: google-auth<2,>=1.6.3 in /usr/local/lib/python3.6/dist-packages (from tensorboard~=2.4->tensorflow<3,>=2.1.0->tensorflowjs) (1.17.2)\n",
            "Requirement already satisfied: requests<3,>=2.21.0 in /usr/local/lib/python3.6/dist-packages (from tensorboard~=2.4->tensorflow<3,>=2.1.0->tensorflowjs) (2.23.0)\n",
            "Requirement already satisfied: requests-oauthlib>=0.7.0 in /usr/local/lib/python3.6/dist-packages (from google-auth-oauthlib<0.5,>=0.4.1->tensorboard~=2.4->tensorflow<3,>=2.1.0->tensorflowjs) (1.3.0)\n",
            "Requirement already satisfied: importlib-metadata; python_version < \"3.8\" in /usr/local/lib/python3.6/dist-packages (from markdown>=2.6.8->tensorboard~=2.4->tensorflow<3,>=2.1.0->tensorflowjs) (3.3.0)\n",
            "Requirement already satisfied: cachetools<5.0,>=2.0.0 in /usr/local/lib/python3.6/dist-packages (from google-auth<2,>=1.6.3->tensorboard~=2.4->tensorflow<3,>=2.1.0->tensorflowjs) (4.2.0)\n",
            "Requirement already satisfied: pyasn1-modules>=0.2.1 in /usr/local/lib/python3.6/dist-packages (from google-auth<2,>=1.6.3->tensorboard~=2.4->tensorflow<3,>=2.1.0->tensorflowjs) (0.2.8)\n",
            "Requirement already satisfied: rsa<5,>=3.1.4; python_version >= \"3\" in /usr/local/lib/python3.6/dist-packages (from google-auth<2,>=1.6.3->tensorboard~=2.4->tensorflow<3,>=2.1.0->tensorflowjs) (4.6)\n",
            "Requirement already satisfied: urllib3!=1.25.0,!=1.25.1,<1.26,>=1.21.1 in /usr/local/lib/python3.6/dist-packages (from requests<3,>=2.21.0->tensorboard~=2.4->tensorflow<3,>=2.1.0->tensorflowjs) (1.24.3)\n",
            "Requirement already satisfied: certifi>=2017.4.17 in /usr/local/lib/python3.6/dist-packages (from requests<3,>=2.21.0->tensorboard~=2.4->tensorflow<3,>=2.1.0->tensorflowjs) (2020.12.5)\n",
            "Requirement already satisfied: idna<3,>=2.5 in /usr/local/lib/python3.6/dist-packages (from requests<3,>=2.21.0->tensorboard~=2.4->tensorflow<3,>=2.1.0->tensorflowjs) (2.10)\n",
            "Requirement already satisfied: chardet<4,>=3.0.2 in /usr/local/lib/python3.6/dist-packages (from requests<3,>=2.21.0->tensorboard~=2.4->tensorflow<3,>=2.1.0->tensorflowjs) (3.0.4)\n",
            "Requirement already satisfied: oauthlib>=3.0.0 in /usr/local/lib/python3.6/dist-packages (from requests-oauthlib>=0.7.0->google-auth-oauthlib<0.5,>=0.4.1->tensorboard~=2.4->tensorflow<3,>=2.1.0->tensorflowjs) (3.1.0)\n",
            "Requirement already satisfied: zipp>=0.5 in /usr/local/lib/python3.6/dist-packages (from importlib-metadata; python_version < \"3.8\"->markdown>=2.6.8->tensorboard~=2.4->tensorflow<3,>=2.1.0->tensorflowjs) (3.4.0)\n",
            "Requirement already satisfied: pyasn1<0.5.0,>=0.4.6 in /usr/local/lib/python3.6/dist-packages (from pyasn1-modules>=0.2.1->google-auth<2,>=1.6.3->tensorboard~=2.4->tensorflow<3,>=2.1.0->tensorflowjs) (0.4.8)\n",
            "2020-12-21 00:47:14.002675: I tensorflow/stream_executor/platform/default/dso_loader.cc:49] Successfully opened dynamic library libcudart.so.10.1\n",
            "2020-12-21 00:47:15.830275: I tensorflow/compiler/jit/xla_cpu_device.cc:41] Not creating XLA devices, tf_xla_enable_xla_devices not set\n",
            "2020-12-21 00:47:15.831374: I tensorflow/stream_executor/platform/default/dso_loader.cc:49] Successfully opened dynamic library libcuda.so.1\n",
            "2020-12-21 00:47:15.836020: I tensorflow/stream_executor/cuda/cuda_gpu_executor.cc:941] successful NUMA node read from SysFS had negative value (-1), but there must be at least one NUMA node, so returning NUMA node zero\n",
            "2020-12-21 00:47:15.836545: I tensorflow/core/common_runtime/gpu/gpu_device.cc:1720] Found device 0 with properties: \n",
            "pciBusID: 0000:00:04.0 name: Tesla T4 computeCapability: 7.5\n",
            "coreClock: 1.59GHz coreCount: 40 deviceMemorySize: 14.73GiB deviceMemoryBandwidth: 298.08GiB/s\n",
            "2020-12-21 00:47:15.836597: I tensorflow/stream_executor/platform/default/dso_loader.cc:49] Successfully opened dynamic library libcudart.so.10.1\n",
            "2020-12-21 00:47:15.838212: I tensorflow/stream_executor/platform/default/dso_loader.cc:49] Successfully opened dynamic library libcublas.so.10\n",
            "2020-12-21 00:47:15.838281: I tensorflow/stream_executor/platform/default/dso_loader.cc:49] Successfully opened dynamic library libcublasLt.so.10\n",
            "2020-12-21 00:47:15.839893: I tensorflow/stream_executor/platform/default/dso_loader.cc:49] Successfully opened dynamic library libcufft.so.10\n",
            "2020-12-21 00:47:15.840256: I tensorflow/stream_executor/platform/default/dso_loader.cc:49] Successfully opened dynamic library libcurand.so.10\n",
            "2020-12-21 00:47:15.841932: I tensorflow/stream_executor/platform/default/dso_loader.cc:49] Successfully opened dynamic library libcusolver.so.10\n",
            "2020-12-21 00:47:15.842737: I tensorflow/stream_executor/platform/default/dso_loader.cc:49] Successfully opened dynamic library libcusparse.so.10\n",
            "2020-12-21 00:47:15.846087: I tensorflow/stream_executor/platform/default/dso_loader.cc:49] Successfully opened dynamic library libcudnn.so.7\n",
            "2020-12-21 00:47:15.846195: I tensorflow/stream_executor/cuda/cuda_gpu_executor.cc:941] successful NUMA node read from SysFS had negative value (-1), but there must be at least one NUMA node, so returning NUMA node zero\n",
            "2020-12-21 00:47:15.846722: I tensorflow/stream_executor/cuda/cuda_gpu_executor.cc:941] successful NUMA node read from SysFS had negative value (-1), but there must be at least one NUMA node, so returning NUMA node zero\n",
            "2020-12-21 00:47:15.847176: I tensorflow/core/common_runtime/gpu/gpu_device.cc:1862] Adding visible gpu devices: 0\n",
            "2020-12-21 00:47:15.847522: I tensorflow/compiler/jit/xla_gpu_device.cc:99] Not creating XLA devices, tf_xla_enable_xla_devices not set\n",
            "2020-12-21 00:47:15.847653: I tensorflow/stream_executor/cuda/cuda_gpu_executor.cc:941] successful NUMA node read from SysFS had negative value (-1), but there must be at least one NUMA node, so returning NUMA node zero\n",
            "2020-12-21 00:47:15.848125: I tensorflow/core/common_runtime/gpu/gpu_device.cc:1720] Found device 0 with properties: \n",
            "pciBusID: 0000:00:04.0 name: Tesla T4 computeCapability: 7.5\n",
            "coreClock: 1.59GHz coreCount: 40 deviceMemorySize: 14.73GiB deviceMemoryBandwidth: 298.08GiB/s\n",
            "2020-12-21 00:47:15.848157: I tensorflow/stream_executor/platform/default/dso_loader.cc:49] Successfully opened dynamic library libcudart.so.10.1\n",
            "2020-12-21 00:47:15.848184: I tensorflow/stream_executor/platform/default/dso_loader.cc:49] Successfully opened dynamic library libcublas.so.10\n",
            "2020-12-21 00:47:15.848204: I tensorflow/stream_executor/platform/default/dso_loader.cc:49] Successfully opened dynamic library libcublasLt.so.10\n",
            "2020-12-21 00:47:15.848223: I tensorflow/stream_executor/platform/default/dso_loader.cc:49] Successfully opened dynamic library libcufft.so.10\n",
            "2020-12-21 00:47:15.848242: I tensorflow/stream_executor/platform/default/dso_loader.cc:49] Successfully opened dynamic library libcurand.so.10\n",
            "2020-12-21 00:47:15.848260: I tensorflow/stream_executor/platform/default/dso_loader.cc:49] Successfully opened dynamic library libcusolver.so.10\n",
            "2020-12-21 00:47:15.848295: I tensorflow/stream_executor/platform/default/dso_loader.cc:49] Successfully opened dynamic library libcusparse.so.10\n",
            "2020-12-21 00:47:15.848314: I tensorflow/stream_executor/platform/default/dso_loader.cc:49] Successfully opened dynamic library libcudnn.so.7\n",
            "2020-12-21 00:47:15.848391: I tensorflow/stream_executor/cuda/cuda_gpu_executor.cc:941] successful NUMA node read from SysFS had negative value (-1), but there must be at least one NUMA node, so returning NUMA node zero\n",
            "2020-12-21 00:47:15.848866: I tensorflow/stream_executor/cuda/cuda_gpu_executor.cc:941] successful NUMA node read from SysFS had negative value (-1), but there must be at least one NUMA node, so returning NUMA node zero\n",
            "2020-12-21 00:47:15.849290: I tensorflow/core/common_runtime/gpu/gpu_device.cc:1862] Adding visible gpu devices: 0\n",
            "2020-12-21 00:47:15.849333: I tensorflow/stream_executor/platform/default/dso_loader.cc:49] Successfully opened dynamic library libcudart.so.10.1\n",
            "2020-12-21 00:47:16.572975: I tensorflow/core/common_runtime/gpu/gpu_device.cc:1261] Device interconnect StreamExecutor with strength 1 edge matrix:\n",
            "2020-12-21 00:47:16.573036: I tensorflow/core/common_runtime/gpu/gpu_device.cc:1267]      0 \n",
            "2020-12-21 00:47:16.573054: I tensorflow/core/common_runtime/gpu/gpu_device.cc:1280] 0:   N \n",
            "2020-12-21 00:47:16.573232: I tensorflow/stream_executor/cuda/cuda_gpu_executor.cc:941] successful NUMA node read from SysFS had negative value (-1), but there must be at least one NUMA node, so returning NUMA node zero\n",
            "2020-12-21 00:47:16.573819: I tensorflow/stream_executor/cuda/cuda_gpu_executor.cc:941] successful NUMA node read from SysFS had negative value (-1), but there must be at least one NUMA node, so returning NUMA node zero\n",
            "2020-12-21 00:47:16.574278: I tensorflow/stream_executor/cuda/cuda_gpu_executor.cc:941] successful NUMA node read from SysFS had negative value (-1), but there must be at least one NUMA node, so returning NUMA node zero\n",
            "2020-12-21 00:47:16.574696: W tensorflow/core/common_runtime/gpu/gpu_bfc_allocator.cc:39] Overriding allow_growth setting because the TF_FORCE_GPU_ALLOW_GROWTH environment variable is set. Original config value was 0.\n",
            "2020-12-21 00:47:16.574743: I tensorflow/core/common_runtime/gpu/gpu_device.cc:1406] Created TensorFlow device (/job:localhost/replica:0/task:0/device:GPU:0 with 9846 MB memory) -> physical GPU (device: 0, name: Tesla T4, pci bus id: 0000:00:04.0, compute capability: 7.5)\n",
            "2020-12-21 00:47:18.600249: I tensorflow/stream_executor/cuda/cuda_gpu_executor.cc:941] successful NUMA node read from SysFS had negative value (-1), but there must be at least one NUMA node, so returning NUMA node zero\n",
            "2020-12-21 00:47:18.600807: I tensorflow/core/grappler/devices.cc:69] Number of eligible GPUs (core count >= 8, compute capability >= 0.0): 1\n",
            "2020-12-21 00:47:18.600979: I tensorflow/core/grappler/clusters/single_machine.cc:356] Starting new session\n",
            "2020-12-21 00:47:18.601220: I tensorflow/compiler/jit/xla_gpu_device.cc:99] Not creating XLA devices, tf_xla_enable_xla_devices not set\n",
            "2020-12-21 00:47:18.601337: I tensorflow/stream_executor/cuda/cuda_gpu_executor.cc:941] successful NUMA node read from SysFS had negative value (-1), but there must be at least one NUMA node, so returning NUMA node zero\n",
            "2020-12-21 00:47:18.601850: I tensorflow/core/common_runtime/gpu/gpu_device.cc:1720] Found device 0 with properties: \n",
            "pciBusID: 0000:00:04.0 name: Tesla T4 computeCapability: 7.5\n",
            "coreClock: 1.59GHz coreCount: 40 deviceMemorySize: 14.73GiB deviceMemoryBandwidth: 298.08GiB/s\n",
            "2020-12-21 00:47:18.601897: I tensorflow/stream_executor/platform/default/dso_loader.cc:49] Successfully opened dynamic library libcudart.so.10.1\n",
            "2020-12-21 00:47:18.601936: I tensorflow/stream_executor/platform/default/dso_loader.cc:49] Successfully opened dynamic library libcublas.so.10\n",
            "2020-12-21 00:47:18.601959: I tensorflow/stream_executor/platform/default/dso_loader.cc:49] Successfully opened dynamic library libcublasLt.so.10\n",
            "2020-12-21 00:47:18.601983: I tensorflow/stream_executor/platform/default/dso_loader.cc:49] Successfully opened dynamic library libcufft.so.10\n",
            "2020-12-21 00:47:18.602003: I tensorflow/stream_executor/platform/default/dso_loader.cc:49] Successfully opened dynamic library libcurand.so.10\n",
            "2020-12-21 00:47:18.602025: I tensorflow/stream_executor/platform/default/dso_loader.cc:49] Successfully opened dynamic library libcusolver.so.10\n",
            "2020-12-21 00:47:18.602046: I tensorflow/stream_executor/platform/default/dso_loader.cc:49] Successfully opened dynamic library libcusparse.so.10\n",
            "2020-12-21 00:47:18.602069: I tensorflow/stream_executor/platform/default/dso_loader.cc:49] Successfully opened dynamic library libcudnn.so.7\n",
            "2020-12-21 00:47:18.602137: I tensorflow/stream_executor/cuda/cuda_gpu_executor.cc:941] successful NUMA node read from SysFS had negative value (-1), but there must be at least one NUMA node, so returning NUMA node zero\n",
            "2020-12-21 00:47:18.602674: I tensorflow/stream_executor/cuda/cuda_gpu_executor.cc:941] successful NUMA node read from SysFS had negative value (-1), but there must be at least one NUMA node, so returning NUMA node zero\n",
            "2020-12-21 00:47:18.603094: I tensorflow/core/common_runtime/gpu/gpu_device.cc:1862] Adding visible gpu devices: 0\n",
            "2020-12-21 00:47:18.603133: I tensorflow/core/common_runtime/gpu/gpu_device.cc:1261] Device interconnect StreamExecutor with strength 1 edge matrix:\n",
            "2020-12-21 00:47:18.603147: I tensorflow/core/common_runtime/gpu/gpu_device.cc:1267]      0 \n",
            "2020-12-21 00:47:18.603157: I tensorflow/core/common_runtime/gpu/gpu_device.cc:1280] 0:   N \n",
            "2020-12-21 00:47:18.603240: I tensorflow/stream_executor/cuda/cuda_gpu_executor.cc:941] successful NUMA node read from SysFS had negative value (-1), but there must be at least one NUMA node, so returning NUMA node zero\n",
            "2020-12-21 00:47:18.603775: I tensorflow/stream_executor/cuda/cuda_gpu_executor.cc:941] successful NUMA node read from SysFS had negative value (-1), but there must be at least one NUMA node, so returning NUMA node zero\n",
            "2020-12-21 00:47:18.604213: I tensorflow/core/common_runtime/gpu/gpu_device.cc:1406] Created TensorFlow device (/job:localhost/replica:0/task:0/device:GPU:0 with 9846 MB memory) -> physical GPU (device: 0, name: Tesla T4, pci bus id: 0000:00:04.0, compute capability: 7.5)\n",
            "2020-12-21 00:47:18.604462: I tensorflow/core/platform/profile_utils/cpu_utils.cc:112] CPU Frequency: 2200000000 Hz\n",
            "2020-12-21 00:47:18.637785: I tensorflow/core/grappler/optimizers/meta_optimizer.cc:928] Optimization results for grappler item: graph_to_optimize\n",
            "  function_optimizer: Graph size after: 580 nodes (546), 763 edges (729), time = 10.02ms.\n",
            "  function_optimizer: function_optimizer did nothing. time = 0.202ms.\n",
            "\n",
            "2020-12-21 00:47:20.387204: I tensorflow/core/grappler/optimizers/meta_optimizer.cc:928] Optimization results for grappler item: graph_to_optimize\n",
            "  debug_stripper: debug_stripper did nothing. time = 0.058ms.\n",
            "  model_pruner: Graph size after: 537 nodes (-44), 720 edges (-44), time = 3.245ms.\n",
            "  constant_folding: Graph size after: 509 nodes (-28), 684 edges (-36), time = 67.538ms.\n",
            "  arithmetic_optimizer: Graph size after: 509 nodes (0), 684 edges (0), time = 27.169ms.\n",
            "  dependency_optimizer: Graph size after: 468 nodes (-41), 543 edges (-141), time = 4.798ms.\n",
            "  model_pruner: Graph size after: 468 nodes (0), 543 edges (0), time = 2.378ms.\n",
            "  constant_folding: Graph size after: 468 nodes (0), 543 edges (0), time = 30.857ms.\n",
            "  arithmetic_optimizer: Graph size after: 468 nodes (0), 543 edges (0), time = 25.54ms.\n",
            "  dependency_optimizer: Graph size after: 468 nodes (0), 543 edges (0), time = 3.933ms.\n",
            "  debug_stripper: debug_stripper did nothing. time = 0.27ms.\n",
            "  model_pruner: Graph size after: 468 nodes (0), 543 edges (0), time = 2.188ms.\n",
            "  constant_folding: Graph size after: 468 nodes (0), 543 edges (0), time = 30.349ms.\n",
            "  arithmetic_optimizer: Graph size after: 468 nodes (0), 543 edges (0), time = 27.561ms.\n",
            "  dependency_optimizer: Graph size after: 468 nodes (0), 543 edges (0), time = 4.228ms.\n",
            "  model_pruner: Graph size after: 468 nodes (0), 543 edges (0), time = 2.244ms.\n",
            "  constant_folding: Graph size after: 468 nodes (0), 543 edges (0), time = 30.014ms.\n",
            "  arithmetic_optimizer: Graph size after: 468 nodes (0), 543 edges (0), time = 26.536ms.\n",
            "  dependency_optimizer: Graph size after: 468 nodes (0), 543 edges (0), time = 4.01ms.\n",
            "\n",
            "2020-12-21 00:47:20.862838: I tensorflow/core/grappler/optimizers/meta_optimizer.cc:928] Optimization results for grappler item: graph_to_optimize\n",
            "  remapper: Graph size after: 467 nodes (-1), 542 edges (-1), time = 2.545ms.\n",
            "  constant_folding: Graph size after: 467 nodes (0), 542 edges (0), time = 41.543ms.\n",
            "  arithmetic_optimizer: Graph size after: 467 nodes (0), 542 edges (0), time = 27.83ms.\n",
            "  dependency_optimizer: Graph size after: 467 nodes (0), 542 edges (0), time = 6.037ms.\n",
            "  remapper: Graph size after: 467 nodes (0), 542 edges (0), time = 3.443ms.\n",
            "  constant_folding: Graph size after: 467 nodes (0), 542 edges (0), time = 38.298ms.\n",
            "  arithmetic_optimizer: Graph size after: 467 nodes (0), 542 edges (0), time = 27.587ms.\n",
            "  dependency_optimizer: Graph size after: 467 nodes (0), 542 edges (0), time = 4.713ms.\n",
            "\n",
            "Writing weight file saved_model/transformerjs/model.json...\n",
            "updating: saved_model/transformerjs/ (stored 0%)\n",
            "updating: saved_model/transformerjs/group1-shard4of8.bin (deflated 9%)\n",
            "updating: saved_model/transformerjs/group1-shard5of8.bin (deflated 8%)\n",
            "updating: saved_model/transformerjs/group1-shard8of8.bin (deflated 7%)\n",
            "updating: saved_model/transformerjs/group1-shard7of8.bin (deflated 7%)\n",
            "updating: saved_model/transformerjs/group1-shard3of8.bin (deflated 9%)\n",
            "updating: saved_model/transformerjs/model.json (deflated 96%)\n",
            "updating: saved_model/transformerjs/group1-shard1of8.bin (deflated 9%)\n",
            "updating: saved_model/transformerjs/group1-shard6of8.bin (deflated 7%)\n",
            "updating: saved_model/transformerjs/group1-shard2of8.bin (deflated 9%)\n",
            "  adding: saved_model/transformerjs/group1-shard14of17.bin (deflated 8%)\n",
            "  adding: saved_model/transformerjs/group1-shard11of17.bin (deflated 7%)\n",
            "  adding: saved_model/transformerjs/group1-shard13of17.bin (deflated 8%)\n",
            "  adding: saved_model/transformerjs/group1-shard10of17.bin (deflated 7%)\n",
            "  adding: saved_model/transformerjs/group1-shard17of17.bin (deflated 8%)\n",
            "  adding: saved_model/transformerjs/group1-shard2of17.bin (deflated 9%)\n",
            "  adding: saved_model/transformerjs/group1-shard9of17.bin (deflated 9%)\n",
            "  adding: saved_model/transformerjs/group1-shard8of17.bin (deflated 9%)\n",
            "  adding: saved_model/transformerjs/group1-shard16of17.bin (deflated 8%)\n",
            "  adding: saved_model/transformerjs/group1-shard1of17.bin (deflated 8%)\n",
            "  adding: saved_model/transformerjs/group1-shard15of17.bin (deflated 8%)\n",
            "  adding: saved_model/transformerjs/group1-shard6of17.bin (deflated 9%)\n",
            "  adding: saved_model/transformerjs/group1-shard3of17.bin (deflated 9%)\n",
            "  adding: saved_model/transformerjs/group1-shard12of17.bin (deflated 8%)\n",
            "  adding: saved_model/transformerjs/group1-shard4of17.bin (deflated 9%)\n",
            "  adding: saved_model/transformerjs/group1-shard7of17.bin (deflated 9%)\n",
            "  adding: saved_model/transformerjs/group1-shard5of17.bin (deflated 9%)\n"
          ],
          "name": "stdout"
        }
      ]
    },
    {
      "cell_type": "markdown",
      "metadata": {
        "id": "lFUxmF6wBQSx"
      },
      "source": [
        "### Export BERT Dictionary as JSON"
      ]
    },
    {
      "cell_type": "code",
      "metadata": {
        "id": "_NFvoFAiA_aY"
      },
      "source": [
        "# Exports the BERT dictionary as JSON for use in Javascript\n",
        "with open(\"vocab.json\", \"w\") as outfile:  \n",
        "    json.dump(VOCAB_TO_INDEX, outfile) "
      ],
      "execution_count": 44,
      "outputs": []
    },
    {
      "cell_type": "markdown",
      "metadata": {
        "id": "bjru2AtVewTe"
      },
      "source": [
        "### Reference for Label Order"
      ]
    },
    {
      "cell_type": "code",
      "metadata": {
        "id": "pnmo2t1PdYxv",
        "colab": {
          "base_uri": "https://localhost:8080/"
        },
        "outputId": "14c16326-8648-4e44-8553-d1be00779562"
      },
      "source": [
        "# Reference for the label reference so it can be copied to any needed functions\n",
        "print(LABEL_REF)"
      ],
      "execution_count": 45,
      "outputs": [
        {
          "output_type": "stream",
          "text": [
            "['sadness' 'anger' 'love' 'surprise' 'anxiety' 'joy' 'neutral']\n"
          ],
          "name": "stdout"
        }
      ]
    }
  ]
}