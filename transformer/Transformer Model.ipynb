{
  "nbformat": 4,
  "nbformat_minor": 0,
  "metadata": {
    "colab": {
      "name": "BERT Transformer Emotion Classification.ipynb",
      "provenance": [],
      "collapsed_sections": [],
      "toc_visible": true,
      "authorship_tag": "ABX9TyPYdBsgDVr4Y97HhpxMNTbk",
      "include_colab_link": true
    },
    "kernelspec": {
      "display_name": "Python 3",
      "name": "python3"
    }
  },
  "cells": [
    {
      "cell_type": "markdown",
      "metadata": {
        "id": "view-in-github",
        "colab_type": "text"
      },
      "source": [
        "<a href=\"https://colab.research.google.com/github/sentimentapp/core/blob/main/transformer/Transformer%20Model.ipynb\" target=\"_parent\"><img src=\"https://colab.research.google.com/assets/colab-badge.svg\" alt=\"Open In Colab\"/></a>"
      ]
    },
    {
      "cell_type": "markdown",
      "metadata": {
        "id": "yyDDqvVrjSnt"
      },
      "source": [
        "#***Task List***\n",
        "*NOTE: This task list doesn't include a full history of work done on this project because this notebook is a continuation of a the code I wrote to classify the [Emobank Dataset](https://github.com/JULIELab/EmoBank). In order to keep my original code for reference, I created this copy of that previous notebook so I could refine and edit the model on a different dataset*\n",
        "- [x] Clean Up and Structure Model Notes\n",
        "  * [x] Text Boxes\n",
        "  * [x] Comments\n",
        "* [x] Import and Preprocess [*Emotions Dataset for NLP*](https://www.kaggle.com/praveengovi/emotions-dataset-for-nlp?select=train.txt)\n",
        "  * [x] Import Data from Kaggle\n",
        "* [x] Generalize and Optimize Sanitization Functions\n",
        "  * [x] Needs to work with additional datasets\n",
        "* [x] Tune Dataset\n",
        "  * [x] Balance Classes\n",
        "    * Balance Seperate Datasets?\n",
        "  * [x] Create Proper Test Dataset\n",
        "\n",
        "#### Potential Actions\n",
        "* Seperate Transformer Training and Classifier Training\n",
        "  * More BERT like approach that allows for finetuning of the different layers.\n",
        "* Use Twitter Corpus from [Kaggle](https://www.kaggle.com/ishivinal/tweet-emotions-analysis-using-lstm-glove-roberta/#data)\n"
      ]
    },
    {
      "cell_type": "markdown",
      "metadata": {
        "id": "skXhRjeFI5__"
      },
      "source": [
        "# BERT Based Transformer for Emotional Sentiement Analysis \n",
        "This machine learning model was created for use in [Sentiment](https://github.com/sentimentapp/application):  a journaling app that uses machine learning to classify the emotions of entries to help the user track their mental state. Earlier in the project another member of the group who was way more skilled with ML, created a [model](https://github.com/sentimentapp/core/blob/main/cnn-lstm/VA_Spacial_CNN_LSTM.ipynb) for use in the project. However, even after the project wrapped up, I found myself curious about how I could go about making and deploying a model for sentiment analysis. As such, after literal months of work, I was able to learn about and create a Transformer model based off the Google's BERT architecture while also integrating it into the Sentiment application.\n",
        "<br>\n",
        "<br>\n",
        "***To play with a demo of the model check out:*** https://colab.research.google.com/drive/1bpvIRcNmKAKpKD1ZM3J7BPyiJtFysF1i#scrollTo=be_nF9XOxSFr.\n",
        "<br>\n",
        "<br>\n",
        "***To see how the model was integrated into the app check out:*** https://github.com/sentimentapp/application/tree/feature.transformer/src/modules/model.\n",
        "\n",
        "<br>\n",
        "<br>\n",
        "\n",
        "## Important Notes\n",
        "* The transformer code here is based off of a [tutorial](https://blog.tensorflow.org/2019/05/transformer-chatbot-tutorial-with-tensorflow-2.html) by Google's Tensorflow team\n",
        "  * *Aside from specified layers, all the code taken from that tutorial was hand recoded and commented in order to ensure understanding of it.The goal of this project wasn't to create a new machine learning model, but rather to learn about the machine learning models already created.*\n",
        "  * Modifications were made to the tutorial code in order to use the transformer for BERT style classification rather than translation. The data tokenization code was largely self-developed.\n",
        "    * Custom tokenization functions were written so they could be used in this notebook and rewritten into Javascript for the Sentiment application.\n",
        "    * The tokenization functions are conceptually based of the HuggingFace BERT tokenizer\n",
        "* For this project, I considered fine tuning a BERT transformer from the HuggingFace transformer library, but instead I decided to write the transformer using Keras in order to both develop a greater understanding of NLP and challenge myself.\n",
        "  * So even though I did use a tutorial to write the transformers code, I do actually understand the arcitecture of the model and the Keras functional API used to write it."
      ]
    },
    {
      "cell_type": "code",
      "metadata": {
        "id": "qN1fs9OrJQvf"
      },
      "source": [
        "# Imports the needed libraries\n",
        "\n",
        "# Used for preparing the text for training\n",
        "import pandas as pd\n",
        "import re\n",
        "\n",
        "# Used for storing the dataset and creating the model\n",
        "import numpy as np\n",
        "import tensorflow as tf\n",
        "\n",
        "# TFDS is used for storing and preparing the dataset for training\n",
        "import tensorflow_datasets as tfds\n",
        "\n",
        "# Used for exporting the dictionary\n",
        "import json   "
      ],
      "execution_count": null,
      "outputs": []
    },
    {
      "cell_type": "markdown",
      "metadata": {
        "id": "V93rEwAIcp41"
      },
      "source": [
        "## Dataset Preperation"
      ]
    },
    {
      "cell_type": "markdown",
      "metadata": {
        "id": "2IYGUJqNgG_Z"
      },
      "source": [
        "### Download Datasets\n",
        "\n",
        "\n"
      ]
    },
    {
      "cell_type": "code",
      "metadata": {
        "colab": {
          "base_uri": "https://localhost:8080/"
        },
        "id": "cIlPwWyKQUjk",
        "outputId": "8610170b-8fcc-4fe7-9be2-386e8f95dd5d"
      },
      "source": [
        "# Downloads the journal emotions dataset which classifies journal-like text entries with different emotions\n",
        "!curl -LO https://github.com/sentimentapp/core/raw/main/transformer/datasets/journal_emotions.zip\n",
        "!mkdir journal_emotions\n",
        "!unzip -n journal_emotions.zip -d journal_emotions\n",
        "\n",
        "# Downloads the twitter emotions dataset which classifies tweets with different emotions\n",
        "!curl -LO https://github.com/sentimentapp/core/raw/main/transformer/datasets/twitter_emotions.zip\n",
        "!mkdir twitter_emotions\n",
        "!unzip -n twitter_emotions.zip -d twitter_emotions\n",
        "\n",
        "# Removes sample_data directory to clean up file system\n",
        "!rm -rf sample_data"
      ],
      "execution_count": null,
      "outputs": [
        {
          "output_type": "stream",
          "text": [
            "  % Total    % Received % Xferd  Average Speed   Time    Time     Time  Current\n",
            "                                 Dload  Upload   Total   Spent    Left  Speed\n",
            "100   164  100   164    0     0    585      0 --:--:-- --:--:-- --:--:--   585\n",
            "100  721k  100  721k    0     0  1280k      0 --:--:-- --:--:-- --:--:-- 1280k\n",
            "Archive:  journal_emotions.zip\n",
            "  inflating: journal_emotions/test.txt  \n",
            "  inflating: journal_emotions/train.txt  \n",
            "  inflating: journal_emotions/val.txt  \n",
            "  % Total    % Received % Xferd  Average Speed   Time    Time     Time  Current\n",
            "                                 Dload  Upload   Total   Spent    Left  Speed\n",
            "100   164  100   164    0     0    605      0 --:--:-- --:--:-- --:--:--   605\n",
            "100 1912k  100 1912k    0     0  3432k      0 --:--:-- --:--:-- --:--:-- 3432k\n",
            "Archive:  twitter_emotions.zip\n",
            "  inflating: twitter_emotions/text_emotion.csv  \n"
          ],
          "name": "stdout"
        }
      ]
    },
    {
      "cell_type": "markdown",
      "metadata": {
        "id": "jSCoUIFCdNbC"
      },
      "source": [
        "### Load the Data to Pandas Dataframes\n",
        "* This model uses a annotated dataset of journal-like entries along with a dataset of twitter entries. The following code is written to merge the twitter dataset and the journaling dataset, while also having functions that would allow for additional datasets to be added."
      ]
    },
    {
      "cell_type": "code",
      "metadata": {
        "colab": {
          "base_uri": "https://localhost:8080/"
        },
        "id": "zBVOO4uedcbY",
        "outputId": "e380b02a-1d04-45f6-b13c-7d4cb663d85b"
      },
      "source": [
        "# Imports the journal train file as a Pandas Dataframe\n",
        "journal = pd.read_csv(\"journal_emotions/train.txt\", sep=\";\", names=[\"text\", \"sentiment\"], header=None)\n",
        "\n",
        "\n",
        "# Imports the twitter csv as a Pandas Dataframe\n",
        "twitter_full = pd.read_csv(\"twitter_emotions/text_emotion.csv\")\n",
        "# Removes the tweet_id and author columns\n",
        "twitter_full = twitter_full[[\"sentiment\", \"content\"]]\n",
        "# Renames columns to match the journal\n",
        "twitter_full.columns = [\"sentiment\", \"text\"]\n",
        "\n",
        "# Checks the imports\n",
        "print(\"JOURNAL:\")\n",
        "print(journal.head())\n",
        "print(\"----------------------------------------------------------------\")\n",
        "print(\"TWITTER:\")\n",
        "print(twitter_full.head())"
      ],
      "execution_count": null,
      "outputs": [
        {
          "output_type": "stream",
          "text": [
            "JOURNAL:\n",
            "                                                text sentiment\n",
            "0                            i didnt feel humiliated   sadness\n",
            "1  i can go from feeling so hopeless to so damned...   sadness\n",
            "2   im grabbing a minute to post i feel greedy wrong     anger\n",
            "3  i am ever feeling nostalgic about the fireplac...      love\n",
            "4                               i am feeling grouchy     anger\n",
            "----------------------------------------------------------------\n",
            "TWITTER:\n",
            "    sentiment                                               text\n",
            "0       empty  @tiffanylue i know  i was listenin to bad habi...\n",
            "1     sadness  Layin n bed with a headache  ughhhh...waitin o...\n",
            "2     sadness                Funeral ceremony...gloomy friday...\n",
            "3  enthusiasm               wants to hang out with friends SOON!\n",
            "4     neutral  @dannycastillo We want to trade with someone w...\n"
          ],
          "name": "stdout"
        }
      ]
    },
    {
      "cell_type": "markdown",
      "metadata": {
        "id": "nQNc9Z5mDX54"
      },
      "source": [
        "#### Split Data into Training and Testing"
      ]
    },
    {
      "cell_type": "code",
      "metadata": {
        "id": "U__wiUpFDcvU"
      },
      "source": [
        "def split_data(dataframe, split):\n",
        "  # Shuffles the dataframe before the split\n",
        "  dataframe = dataframe.sample(frac=1)\n",
        "\n",
        "  # Creates a mask of True and False that matches the split percentage\n",
        "  msk = np.random.rand(len(dataframe)) < split\n",
        "\n",
        "  # Returns two datasets\n",
        "  return dataframe[msk], dataframe[~msk]\n",
        "\n",
        "\n",
        "twitter, twitter_test = split_data(twitter_full, 0.9)\n",
        "\n",
        "# Loads the journal_test from a seperate file\n",
        "# Twitter test data created with split data function because it wasn't seperate files\n",
        "journal_test = pd.read_csv(\"journal_emotions/test.txt\", sep=\";\", names=[\"text\", \"sentiment\"], header=None)"
      ],
      "execution_count": null,
      "outputs": []
    },
    {
      "cell_type": "markdown",
      "metadata": {
        "id": "LuTNQ8uedyVT"
      },
      "source": [
        "### Dataset Distribution\n",
        "* This code figures out what labels each dataset has and how much of each label to help determine what classes needed to be removed and renamed..\n",
        "*For this model the journal dataset's 6 emotions plus a neutral emotion are going to be used for the overall classification. This means that 13 emotions of the twitter dataset need to be remapped in order to match."
      ]
    },
    {
      "cell_type": "code",
      "metadata": {
        "colab": {
          "base_uri": "https://localhost:8080/"
        },
        "id": "Nb6pCIDlJBqS",
        "outputId": "d3edf536-a2ab-4e61-fe7c-a03fc044a523"
      },
      "source": [
        "# Finds the distribution of data to help figure out how to prepare the data\n",
        "def find_data_distribution(dataframe, label_column):\n",
        "  # Creates an array with all the unique labels for the data\n",
        "  print(dataframe[label_column].value_counts())\n",
        "\n",
        "# Looks at the distribution\n",
        "print(\"JOURNAL:\")\n",
        "find_data_distribution(journal, \"sentiment\")\n",
        "print(\"-------------------------------------\")\n",
        "print(\"TWITTER:\")\n",
        "find_data_distribution(twitter, \"sentiment\")"
      ],
      "execution_count": null,
      "outputs": [
        {
          "output_type": "stream",
          "text": [
            "JOURNAL:\n",
            "joy         5362\n",
            "sadness     4666\n",
            "anger       2159\n",
            "fear        1937\n",
            "love        1304\n",
            "surprise     572\n",
            "Name: sentiment, dtype: int64\n",
            "-------------------------------------\n",
            "TWITTER:\n",
            "neutral       7827\n",
            "worry         7627\n",
            "happiness     4691\n",
            "sadness       4604\n",
            "love          3470\n",
            "surprise      1967\n",
            "fun           1599\n",
            "relief        1376\n",
            "hate          1189\n",
            "empty          743\n",
            "enthusiasm     683\n",
            "boredom        155\n",
            "anger           99\n",
            "Name: sentiment, dtype: int64\n"
          ],
          "name": "stdout"
        }
      ]
    },
    {
      "cell_type": "markdown",
      "metadata": {
        "id": "rpyGoI5weHHq"
      },
      "source": [
        "### Match Datasets With Each Other\n",
        "\n",
        "This is how the entries of the twitter dataset are being adjusted to fit the journal dataset. Similar emotions are being mapped together, and emotions that have too little data ordon't quite match the six categories of the journal dataset are removed.\n",
        "\n",
        "* Adjust Twitter Emotion Types:\n",
        "  * Change:\n",
        "    * Anger, Hate -> Anger\n",
        "    * Worry -> Fear\n",
        "    * Happiness, Fun -> Joy\n",
        "  * Same:\n",
        "    * Love -> Love\n",
        "    * Sadness -> Sadness\n",
        "    * Surprise -> Surprise\n",
        "  * Remove:\n",
        "    * Empty, Enthusiasm, Boredom, Relief -> Removed"
      ]
    },
    {
      "cell_type": "markdown",
      "metadata": {
        "id": "LZKDg_Hz1VC-"
      },
      "source": [
        "##### Remove Rows Function"
      ]
    },
    {
      "cell_type": "code",
      "metadata": {
        "id": "oM-I88NgOwd4"
      },
      "source": [
        "# Removes rows from the dataset\n",
        "def remove_rows(dataframe, label_column, remove_array):\n",
        "  # Loops through the emotions in the remove_array\n",
        "  for emotion in remove_array:\n",
        "    # Removes any rows with that emotions\n",
        "    dataframe.drop(dataframe[dataframe[label_column] == emotion].index, inplace = True)\n",
        "  \n",
        "  return dataframe\n",
        "\n",
        "# Removes rows with uneeded emotions \n",
        "twitter = remove_rows(twitter, \"sentiment\", [\"empty\", \"enthusiasm\", \"boredom\", \"relief\"])"
      ],
      "execution_count": null,
      "outputs": []
    },
    {
      "cell_type": "markdown",
      "metadata": {
        "id": "MimBwgBs1YBM"
      },
      "source": [
        "##### Replace Label Values Function"
      ]
    },
    {
      "cell_type": "code",
      "metadata": {
        "id": "msMUvzKCQdpf"
      },
      "source": [
        "# Changes out sentiment values to make the two datasets consistent\n",
        "def replace_label_value(dataframe, label_column, replace_dictionary):\n",
        "  for to_replace, replace_with in replace_dictionary.items():\n",
        "    dataframe.loc[(dataframe[label_column] == to_replace), label_column] = replace_with\n",
        "\n",
        "  return dataframe\n",
        "\n",
        "# Dictionary of terms to replace\n",
        "# \"word to replace\": \"word that replaces it\"\n",
        "replace = {\n",
        "    \"hate\": \"anger\",\n",
        "    \"worry\": \"fear\",\n",
        "    \"fun\": \"joy\",\n",
        "    \"happiness\": \"joy\",\n",
        "}\n",
        "\n",
        "# Matches the labels of the twitter dataset to the journal\n",
        "twitter = replace_label_value(twitter, \"sentiment\", replace)"
      ],
      "execution_count": null,
      "outputs": []
    },
    {
      "cell_type": "markdown",
      "metadata": {
        "id": "eM7oVnhc6oso"
      },
      "source": [
        "#### Average Sentence Length"
      ]
    },
    {
      "cell_type": "code",
      "metadata": {
        "id": "IrRtsgke6oes"
      },
      "source": [
        "# Gets the average length of a sentence to help figure out training parameters\n",
        "def average_length(dataframe, data_column):\n",
        "  average = dataframe[data_column].astype(str).apply(lambda x:len(x.split())).mean()\n",
        "  print(\"Average Sentence Length:\", average)"
      ],
      "execution_count": null,
      "outputs": []
    },
    {
      "cell_type": "markdown",
      "metadata": {
        "id": "mjB4ThKi9rw1"
      },
      "source": [
        "Average Label Entry Amount"
      ]
    },
    {
      "cell_type": "code",
      "metadata": {
        "id": "Sc4EcEeW9vCO"
      },
      "source": [
        "# Used to get the average label amount\n",
        "# Helps to figure out datasize for balancing the dataset\n",
        "def average_label(dataframe, label_column):\n",
        "  print(\"Average Datapoints per Label:\", dataframe[label_column].value_counts().mean())"
      ],
      "execution_count": null,
      "outputs": []
    },
    {
      "cell_type": "markdown",
      "metadata": {
        "id": "e1CZsPU4g8UX"
      },
      "source": [
        "#### Balance Dataset"
      ]
    },
    {
      "cell_type": "code",
      "metadata": {
        "id": "8UA0ORXMg74l"
      },
      "source": [
        "# Balances the dataset through downsampling\n",
        "# However, if a specific count value is specified the function will downsample AND oversample\n",
        "def balance_dataset(dataframe, label_column, count=0):\n",
        "  if (count == 0):\n",
        "    # Gets the row count of the label with the least amount of data\n",
        "    count = (dataframe[label_column].value_counts())[-1]\n",
        "\n",
        "  # Gets the different labels for looping\n",
        "  labels = dataframe[label_column].unique()\n",
        "\n",
        "  # Creates an empty dataframe to store the downsampled array in\n",
        "  down_sampled = pd.DataFrame(columns = dataframe.columns)\n",
        "\n",
        "  # Loops through each of the different labels\n",
        "  for label in labels:\n",
        "    # Creates a dataframe that only has one specific label\n",
        "    label_sample = dataframe[dataframe[label_column] == label]\n",
        "    # Samples a random distribution of those labels\n",
        "    label_sample = label_sample.sample(count, replace=True)\n",
        "    # Places the downsampled data into the empty array\n",
        "    down_sampled = pd.concat([down_sampled, label_sample])\n",
        "\n",
        "  return down_sampled"
      ],
      "execution_count": null,
      "outputs": []
    },
    {
      "cell_type": "markdown",
      "metadata": {
        "id": "17kwZioOfhpk"
      },
      "source": [
        "### Combine the Twitter and Journal Dataframes"
      ]
    },
    {
      "cell_type": "code",
      "metadata": {
        "colab": {
          "base_uri": "https://localhost:8080/"
        },
        "id": "I1ZydukucK3g",
        "outputId": "85a980b1-358e-4e91-84a9-771adfeee8dd"
      },
      "source": [
        "# Combines the two datasets\n",
        "combined_data = pd.concat([journal, twitter])\n",
        "# Prints the average sentence length to provide insight into dataset creation\n",
        "average_length(combined_data, 'text')\n",
        "\n",
        "# Prints the average data for a label to help figure out balancing\n",
        "average_label(combined_data, 'sentiment')\n",
        "\n",
        "\n",
        "# Balances the different entries to make sure they each have the same amount of entries\n",
        "combined_data = balance_dataset(combined_data, 'sentiment', count=5000)\n",
        "\n",
        "find_data_distribution(combined_data, \"sentiment\")"
      ],
      "execution_count": null,
      "outputs": [
        {
          "output_type": "stream",
          "text": [
            "Average Sentence Length: 15.159660098221018\n",
            "Average Datapoints per Label: 7010.428571428572\n",
            "surprise    5000\n",
            "neutral     5000\n",
            "love        5000\n",
            "joy         5000\n",
            "sadness     5000\n",
            "anger       5000\n",
            "fear        5000\n",
            "Name: sentiment, dtype: int64\n"
          ],
          "name": "stdout"
        }
      ]
    },
    {
      "cell_type": "markdown",
      "metadata": {
        "id": "BkPbJiooC1nx"
      },
      "source": [
        "#### Create Combined Test Dataframe"
      ]
    },
    {
      "cell_type": "code",
      "metadata": {
        "colab": {
          "base_uri": "https://localhost:8080/"
        },
        "id": "sti9zUbdC1XR",
        "outputId": "9996b8ea-e101-4822-d328-386ace44763f"
      },
      "source": [
        "# These functions match the test data distribution to the training data; they are copied from the previous functions\n",
        "#-------------------------------------------------------------------------------------------------------------------\n",
        "# Removes rows with uneeded emotions \n",
        "twitter_test = remove_rows(twitter_test, \"sentiment\", [\"empty\", \"enthusiasm\", \"boredom\", \"relief\"])\n",
        "\n",
        "# Dictionary of terms to replace\n",
        "# \"word to replace\": \"word that replaces it\"\n",
        "replace = {\n",
        "    \"hate\": \"anger\",\n",
        "    \"worry\": \"fear\",\n",
        "    \"fun\": \"joy\",\n",
        "    \"happiness\": \"joy\"\n",
        "}\n",
        "\n",
        "# Matches the labels of the twitter dataset to the journal\n",
        "twitter_test = replace_label_value(twitter_test, \"sentiment\", replace)\n",
        "#-------------------------------------------------------------------------------------------------------------------\n",
        "\n",
        "combined_test = pd.concat([journal_test, twitter_test])\n",
        "\n",
        "\n",
        "find_data_distribution(combined_test, \"sentiment\")"
      ],
      "execution_count": null,
      "outputs": [
        {
          "output_type": "stream",
          "text": [
            "joy         1390\n",
            "sadness     1142\n",
            "fear        1056\n",
            "neutral      811\n",
            "love         531\n",
            "anger        420\n",
            "surprise     286\n",
            "Name: sentiment, dtype: int64\n"
          ],
          "name": "stdout"
        }
      ]
    },
    {
      "cell_type": "markdown",
      "metadata": {
        "id": "h1LJ0M3Y930w"
      },
      "source": [
        "## Tokinzation \n",
        "* The tokenization function uses the [BERT Base Uncased Vocabulary Set](https://s3.amazonaws.com/models.huggingface.co/bert/bert-base-uncased-vocab.txt) in order to train \n",
        "* Words not present in the BERT Base dictionary are split into parts with the parts of split words starting with '##'\n",
        "* [Helpful Analysis of BERT Vocab](http://juditacs.github.io/2019/02/19/bert-tokenization-stats.html)\n"
      ]
    },
    {
      "cell_type": "markdown",
      "metadata": {
        "id": "Z5RESf2FhzLa"
      },
      "source": [
        "### Download BERT Dictionary"
      ]
    },
    {
      "cell_type": "code",
      "metadata": {
        "colab": {
          "base_uri": "https://localhost:8080/"
        },
        "id": "53-iz8vs-CaD",
        "outputId": "0ecb76e3-3522-41a7-f721-50a8d3a5762f"
      },
      "source": [
        "# Downloads the BERT Base Vocabulary\n",
        "!wget https://s3.amazonaws.com/models.huggingface.co/bert/bert-base-uncased-vocab.txt\n",
        "\n",
        "# Renames the text file to something simpler\n",
        "!mv bert-base-uncased-vocab.txt vocab.txt"
      ],
      "execution_count": null,
      "outputs": [
        {
          "output_type": "stream",
          "text": [
            "--2020-12-27 01:13:00--  https://s3.amazonaws.com/models.huggingface.co/bert/bert-base-uncased-vocab.txt\n",
            "Resolving s3.amazonaws.com (s3.amazonaws.com)... 52.217.103.78\n",
            "Connecting to s3.amazonaws.com (s3.amazonaws.com)|52.217.103.78|:443... connected.\n",
            "HTTP request sent, awaiting response... 200 OK\n",
            "Length: 231508 (226K) [text/plain]\n",
            "Saving to: ‘bert-base-uncased-vocab.txt’\n",
            "\n",
            "bert-base-uncased-v 100%[===================>] 226.08K  1.14MB/s    in 0.2s    \n",
            "\n",
            "2020-12-27 01:13:01 (1.14 MB/s) - ‘bert-base-uncased-vocab.txt’ saved [231508/231508]\n",
            "\n"
          ],
          "name": "stdout"
        }
      ]
    },
    {
      "cell_type": "markdown",
      "metadata": {
        "id": "rRQu7d2Zh4dY"
      },
      "source": [
        "### Create BERT Dictionary"
      ]
    },
    {
      "cell_type": "code",
      "metadata": {
        "id": "EGaSSgNQ-zsf"
      },
      "source": [
        "# Creates dictionaries for the vocab terms and their token numbers\n",
        "# Using a dictionary makes it quick and easy to search for a word's token and vice-versa\n",
        "VOCAB_TO_INDEX = {}\n",
        "INDEX_TO_VOCAB = {}\n",
        "\n",
        "# Size of the models vocabulary\n",
        "VOCAB_SIZE = 0\n",
        "\n",
        "# Loops through the different vocab words in the BERT file\n",
        "with open(\"vocab.txt\", \"r\") as vocab:\n",
        "  for i, word in enumerate(vocab):\n",
        "\n",
        "    # Removes \\n (new line character) the end of the words\n",
        "    word = word.rstrip()\n",
        "\n",
        "    # Creates the needeed word/index entry in both dictionaries\n",
        "    # The index starts at 1 because padded \"words\" are represented with 0\n",
        "    VOCAB_TO_INDEX[word] = i + 1\n",
        "    INDEX_TO_VOCAB[i + 1] = word\n",
        "  \n",
        "  # Adds 1 because i starts at 0 while the word indices start at 1\n",
        "  VOCAB_SIZE = i + 1"
      ],
      "execution_count": null,
      "outputs": []
    },
    {
      "cell_type": "markdown",
      "metadata": {
        "id": "_aJ6vAhYh880"
      },
      "source": [
        "### Word Tokenization Function\n"
      ]
    },
    {
      "cell_type": "code",
      "metadata": {
        "id": "HmlgwRSyHs5D"
      },
      "source": [
        "# Returns the tokenized version of a word from the dictionary\n",
        "# Splits unknown words into different sections\n",
        "def tokenize_word(word):\n",
        "\n",
        "  # Stores the returned tokens\n",
        "  token_array = []\n",
        "\n",
        "  # ------------------------------------------------------------\n",
        "  # Used for printing the actual parts of each word in debugging\n",
        "  # DEBUGGING_ARRAY = []\n",
        "  # ------------------------------------------------------------\n",
        "\n",
        "  # Runs until each part of the word has been converted to a token\n",
        "  while (len(word) != 0):\n",
        "    # Loops backwards through the word to ensure longest segments are the word are found\n",
        "    for i in range(len(word), -1, -1):\n",
        "\n",
        "      # Stores the word segment being examined\n",
        "      substring = word[0: i]\n",
        "\n",
        "      # Removes a character from an input if the character isn't present in the dictionary\n",
        "      if (len(substring) == 0):\n",
        "        word = word[1: len(word)]\n",
        "        break\n",
        "\n",
        "      # For the first part of the word added to the token array don't use the '##' seperator \n",
        "      elif (len(token_array) == 0):\n",
        "        if (VOCAB_TO_INDEX.get(substring)):\n",
        "          token_array.append(VOCAB_TO_INDEX[substring])\n",
        "          word = word[i: len(word)]\n",
        "          break\n",
        "\n",
        "      # If other parts of the word have already been tokinzed, add a '##' in front of the segment to indicate that it is a part of the word\n",
        "      else:\n",
        "        if (VOCAB_TO_INDEX.get(\"##\" + substring)):\n",
        "          token_array.append(VOCAB_TO_INDEX[\"##\" + substring])\n",
        "          word = word[i: len(word)]\n",
        "          break\n",
        "  \n",
        "  # -------------------------------------------------------\n",
        "  # Debugging: Returns actual word parts rather than tokens\n",
        "  #\n",
        "  # for index in token_array:\n",
        "  #   DEBUGGING_ARRAY.append(INDEX_TO_VOCAB[index])\n",
        "  # --------------------------------------------------------\n",
        "\n",
        "  # Only returns the array if there is data in it\n",
        "  if (token_array):\n",
        "      return token_array #, DEBUGGING_ARRAY"
      ],
      "execution_count": null,
      "outputs": []
    },
    {
      "cell_type": "markdown",
      "metadata": {
        "id": "1Uej5avKz_SF"
      },
      "source": [
        "## Create Dataset"
      ]
    },
    {
      "cell_type": "markdown",
      "metadata": {
        "id": "UAFxcXgBg0RW"
      },
      "source": [
        "### Sanitization Function\n",
        "* Removes:\n",
        "  * Twitter Handles\n",
        "  * Links\n",
        "  * Hashtags\n",
        "  * Uppercase Letters\n",
        "  * Special Characters\n",
        "  * Extra Spaces"
      ]
    },
    {
      "cell_type": "code",
      "metadata": {
        "colab": {
          "base_uri": "https://localhost:8080/",
          "height": 35
        },
        "id": "rFie6WhZObJG",
        "outputId": "43da363a-6ebc-4b09-83fb-60f5c5b4bf7f"
      },
      "source": [
        "# Prepares the sentences to be processed by the network\n",
        "def sanitize_text(text):\n",
        "  # Sets the text to lowercase\n",
        "  text = text.lower().strip()\n",
        "\n",
        "\n",
        "  # Removes links\n",
        "  text = re.sub(r'http\\S+', '', text)\n",
        "\n",
        "  # Removes twitter usernames\n",
        "  text = re.sub(r'(?<=^|(?<=[^a-zA-Z0-9-_\\.]))@([A-Za-z]+[A-Za-z0-9-_]+)', '', text)\n",
        "\n",
        "  # Removes hashtags\n",
        "  text = re.sub(r'(?<=^|(?<=[^a-zA-Z0-9-_\\.]))#([A-Za-z]+[A-Za-z0-9-_]+)', '', text)\n",
        "\n",
        "  # Creates a space between a word and the following punctuation\n",
        "  text = re.sub(r\"([?.!,])\", r\" \\1 \", text)\n",
        "  text = re.sub(r'[\" \"]+', \" \", text)\n",
        "\n",
        "  # Removes all characters but (a-z, A-Z, \".\", \"?\", \"!\", \",\")\n",
        "  text = re.sub(r\"[^a-zA-Z?.!,]+\", \" \", text)\n",
        "  text = text.strip()\n",
        "\n",
        "  return text\n",
        "\n",
        "# Test the function\n",
        "sanitize_text(\"@myfriend #podcast Check out this really cool link https://stackoverflow.com/questions/11346283/renaming-columns-in-pandas it is ~~~amazing~~~\")"
      ],
      "execution_count": null,
      "outputs": [
        {
          "output_type": "execute_result",
          "data": {
            "application/vnd.google.colaboratory.intrinsic+json": {
              "type": "string"
            },
            "text/plain": [
              "'check out this really cool link it is amazing'"
            ]
          },
          "metadata": {
            "tags": []
          },
          "execution_count": 16
        }
      ]
    },
    {
      "cell_type": "markdown",
      "metadata": {
        "id": "rOB2YLu8iXYH"
      },
      "source": [
        "### Create Dataset Array"
      ]
    },
    {
      "cell_type": "code",
      "metadata": {
        "id": "JwWunvIeyRmm"
      },
      "source": [
        "# Stores the maximum sentence length observed by the transformer\n",
        "MAX_SENTENCE_LENGTH = 20#@param {type:\"integer\"}\n",
        "\n",
        "# Create an array of labels for automatic data labeling\n",
        "LABEL_REF = combined_data[\"sentiment\"].unique()\n",
        "LABEL_AMOUNT = len(LABEL_REF)\n",
        "\n",
        "# Uses previously defined functions to create a final dataset.\n",
        "def create_data_set(dataframe, inputs_column, outputs_column, label_ref):\n",
        "\n",
        "  # Cleans up the input column\n",
        "  dataframe[inputs_column] = dataframe[inputs_column].apply(sanitize_text)\n",
        "\n",
        "  # Gets the length of the data in order to construct numpy arrays\n",
        "  dataset_length = len(dataframe.index)\n",
        "  \n",
        "  # Creates arrays that stores inputs and outputs that were extracted from the dataset\n",
        "  dataset_inputs = np.zeros([dataset_length, MAX_SENTENCE_LENGTH])\n",
        "\n",
        "  # Gets the label amount to create the outputs\n",
        "  label_amount = len(LABEL_REF)\n",
        "  dataset_outputs = np.zeros([dataset_length, label_amount])\n",
        "\n",
        "  # Processes each row of the provided dataframe\n",
        "  for i, row in enumerate(dataframe[inputs_column]):\n",
        "\n",
        "    # INPUTS\n",
        "    # Converts the sentence into an array\n",
        "    word_list = re.sub(\"[^a-zA-Z?.!,]\", \" \",  row).split()\n",
        "\n",
        "    # Adds BERT [CLS] token to the row\n",
        "    # This token is what is evaluted by the final dense layer to create the prediction\n",
        "    word_list.insert(0,'[CLS]')\n",
        "\n",
        "    # Variable that stores the tokinzed sentence from the examined row\n",
        "    tokenized_sentence = []\n",
        "  \n",
        "\n",
        "    # Appends each tokenized word to the tokenized_sentence array\n",
        "    for word in word_list:\n",
        "      tokenized_sentence.extend(tokenize_word(word))\n",
        "\n",
        "    # Truncates the sentence if it is over the MAX_SENTENCE_LENGTH\n",
        "    del tokenized_sentence[MAX_SENTENCE_LENGTH:]\n",
        "\n",
        "    # Passes the tokenized words from the tokenized_sentence array to the returned dataset\n",
        "    for j, token in enumerate(tokenized_sentence):\n",
        "      dataset_inputs[i][j] = token\n",
        "\n",
        "  #-------------------------------------------------------\n",
        "\n",
        "  # OUTPUTS\n",
        "  # Sets the output equal to the VAD values of the text\n",
        "  for i, row in enumerate(dataframe[outputs_column]):\n",
        "    label_index = np.where(LABEL_REF == row)\n",
        "    dataset_outputs[i][label_index] = 1\n",
        "\n",
        "  # Returns inputs and outputs for training\n",
        "  # Converted to float32 in order to save memory during training\n",
        "  return tf.cast(dataset_inputs, tf.float32), tf.cast(dataset_outputs, tf.float32)\n",
        "\n",
        "\n",
        "# Inputs used for training and label index for future reference\n",
        "inputs, outputs = create_data_set(combined_data, \"text\", \"sentiment\", LABEL_REF)\n",
        "\n",
        "# Creates the test data array as well\n",
        "inputs_test, outputs_test = create_data_set(combined_test, \"text\", \"sentiment\", LABEL_REF)"
      ],
      "execution_count": null,
      "outputs": []
    },
    {
      "cell_type": "markdown",
      "metadata": {
        "id": "bFN2dRIadJM4"
      },
      "source": [
        "### *Debugging: Verify Dataset Array*\n",
        "This function makes sure that tokenized data actually matches up with the original data.\n"
      ]
    },
    {
      "cell_type": "code",
      "metadata": {
        "colab": {
          "base_uri": "https://localhost:8080/"
        },
        "id": "TBA51tfRn2D6",
        "outputId": "607e9b91-4953-44ce-99f8-78691708cea8"
      },
      "source": [
        "# Debugging function that can be used to make sure sentences were properly tokenized\n",
        "def check_tokenizer(index, inputs, outputs, dataframe, inputs_column, outputs_column):\n",
        "  \n",
        "  # String that stores the tokens that have been converted to words\n",
        "  token_converted = \"\"\n",
        "\n",
        "  # Loops through all of the tokens from a row of data\n",
        "  # Exits when it reaches the end of the sentence\n",
        "  for token in inputs[index]:\n",
        "    if (token == 0):\n",
        "      break\n",
        "\n",
        "    # Get a token's corresponding word\n",
        "    word = INDEX_TO_VOCAB[token.numpy()]\n",
        "\n",
        "    # If the \"word\" returned in a continuation of another, remove the ## from it\n",
        "    if \"##\" in word:\n",
        "      token_converted += word[2:]\n",
        "    # If it is just a normal word, add it to the string\n",
        "    else:\n",
        "      token_converted += \" \" + INDEX_TO_VOCAB[token.numpy()]\n",
        "\n",
        "  # Prints the detokenized results, and the origional results from the pandas dataframe. \n",
        "  print(\"INPUTS:\")\n",
        "  # [7:] Skips CLS token\n",
        "  print(token_converted[7:])\n",
        "  print(dataframe[inputs_column].iloc[index], \"\\n\")\n",
        "\n",
        "  print(\"OUTPUTS:\")\n",
        "  print(dataframe[outputs_column].iloc[index])\n",
        "  print(LABEL_REF[np.where(outputs[index] == 1)][0])\n",
        "\n",
        "check_tokenizer(4509, inputs, outputs, combined_data, \"text\", \"sentiment\")"
      ],
      "execution_count": null,
      "outputs": [
        {
          "output_type": "stream",
          "text": [
            "INPUTS:\n",
            "i do this because the worse they are the more justified i feel a needy man on the street\n",
            "i do this because the worse they are the more justified i feel a needy man on the street suddenly represents a threat to my very peace and freedom \n",
            "\n",
            "OUTPUTS:\n",
            "sadness\n",
            "sadness\n"
          ],
          "name": "stdout"
        }
      ]
    },
    {
      "cell_type": "markdown",
      "metadata": {
        "id": "g-FvKAzwdala"
      },
      "source": [
        "### Create tf.data.Dataset"
      ]
    },
    {
      "cell_type": "code",
      "metadata": {
        "id": "ncc4XKoz_vXo"
      },
      "source": [
        "# TRAINING DATA\n",
        "# -------------------------------------------------------------------------------------------------\n",
        "# Amount of data passed through each training iteration\n",
        "BATCH_SIZE =  1024#@param {type:\"integer\"}\n",
        "# Uniformity of data shuffling\n",
        "BUFFER_SIZE = 50000\n",
        "\n",
        "# Creates the final dataset to be used for training\n",
        "dataset = tf.data.Dataset.from_tensor_slices((\n",
        "    {\n",
        "        'inputs': inputs\n",
        "    },\n",
        "    {\n",
        "        'outputs': outputs\n",
        "    },\n",
        "))\n",
        "\n",
        "# Caches the dataset in memory or local storage to prevent file opening and data reading\n",
        "dataset = dataset.cache()\n",
        "# Shuffles the data\n",
        "dataset = dataset.shuffle(BUFFER_SIZE)\n",
        "# Seperates the data into batch sizes\n",
        "dataset = dataset.batch(BATCH_SIZE)\n",
        "# Extracts the next batch of data while one is training\n",
        "# Uses the AUTOTUNE function to automatically figure out how many batches can be preprocessed\n",
        "dataset = dataset.prefetch(tf.data.experimental.AUTOTUNE)\n",
        "\n",
        "\n",
        "\n",
        "# TESTING DATA\n",
        "# -------------------------------------------------------------------------------------------------\n",
        "# Creates the dataset to be used for validation\n",
        "dataset_test = tf.data.Dataset.from_tensor_slices((\n",
        "    {\n",
        "        'inputs': inputs_test\n",
        "    },\n",
        "    {\n",
        "        'outputs': outputs_test\n",
        "    },\n",
        "))\n",
        "\n",
        "# Caches the dataset in memory or local storage to prevent file opening and data reading\n",
        "dataset_test = dataset_test.cache()\n",
        "# Shuffles the data\n",
        "dataset_test = dataset_test.shuffle(BUFFER_SIZE)\n",
        "# Seperates the data into batch sizes\n",
        "dataset_test = dataset_test.batch(BATCH_SIZE)\n",
        "# Extracts the next batch of data while one is training\n",
        "# Uses the AUTOTUNE function to automatically figure out how many batches can be preprocessed\n",
        "dataset_test = dataset_test.prefetch(tf.data.experimental.AUTOTUNE)"
      ],
      "execution_count": null,
      "outputs": []
    },
    {
      "cell_type": "markdown",
      "metadata": {
        "id": "2RLmApQBcawB"
      },
      "source": [
        "## Transformer\n",
        "[Code Based Off Google Transformer Chatbot](https://colab.research.google.com/github/tensorflow/examples/blob/master/community/en/transformer_chatbot.ipynb)"
      ]
    },
    {
      "cell_type": "markdown",
      "metadata": {
        "id": "N_qH4Vz0H204"
      },
      "source": [
        "### *Debugging: Print Function*\n",
        "* The main use of this function is to print the size of matrices during training. This transformer is defined using None sizes in order to make sure that it can fit a variety of different datasizes. As such, sizes of the matrices aren't know until runtime. This function fixes this problem by allowing for the matrix sizes to be printed to the console during model training."
      ]
    },
    {
      "cell_type": "code",
      "metadata": {
        "id": "HL1NiGEJHyFM"
      },
      "source": [
        "# Keras layer that adds printing functionality to the model graph\n",
        "class Print(tf.keras.layers.Layer):\n",
        "  def __init__(self, name=\"print\"):\n",
        "    super().__init__()\n",
        "\n",
        "  # Returns the original input, but also prints the size of a matrix to console during training\n",
        "  def call(self, inputs):\n",
        "    tf.print(\"\\n\", tf.shape(inputs))\n",
        "    return inputs"
      ],
      "execution_count": null,
      "outputs": []
    },
    {
      "cell_type": "markdown",
      "metadata": {
        "id": "4oa-7rx5MsqT"
      },
      "source": [
        "### Attention Mechanisms"
      ]
    },
    {
      "cell_type": "markdown",
      "metadata": {
        "id": "0UwonDXbM8Tm"
      },
      "source": [
        "#### Padding Mask\n"
      ]
    },
    {
      "cell_type": "code",
      "metadata": {
        "id": "Q6-REN_uMRcP"
      },
      "source": [
        "# Generates a mask that is used to prepare padded data for the self attention function\n",
        "def create_padding_mask(inputs):\n",
        "  # tf.math.equal checks for values that equal 0 in the array passed to it\n",
        "  # It then returns an array with a 1 where the original array equaled 0, and 0s everywhere else\n",
        "  # The array is also cast float32 for faster training\n",
        "  mask = tf.cast(tf.math.equal(inputs, 0), tf.float32)\n",
        "\n",
        "  # Reformats the attention mask to match the shape of multihead self-attention\n",
        "  return mask[:, tf.newaxis, tf.newaxis, :]"
      ],
      "execution_count": null,
      "outputs": []
    },
    {
      "cell_type": "markdown",
      "metadata": {
        "id": "O4p8HZRndp3c"
      },
      "source": [
        "#### Self-Attention\n",
        "* The self-attention function is an equation that origionally came from the paper, *Attention is All You Need*.\n",
        "* This function takes a setence converted to [word vectors](https://blog.acolyer.org/2016/04/21/the-amazing-power-of-word-vectors/)—an abtract numerical representations of a word's meaning—and embeds each vector with the meaning of the other vectors in the sentence."
      ]
    },
    {
      "cell_type": "code",
      "metadata": {
        "id": "M6rSg2n_cZjz"
      },
      "source": [
        "def self_attention(query, key, value, mask):\n",
        "\n",
        "  # Matrix multiplies the query and key vectors to get a \"score\" for how related two words are\n",
        "  score = tf.matmul(query, key, transpose_b=True)\n",
        "\n",
        "  # Gets the size of the key vector\n",
        "  key_vector_dimensions = tf.cast(tf.shape(key)[-1], tf.float32)\n",
        "  # Divides the score (query x key) by the square root of the key vector size in order to create more stable gradients\n",
        "  score_stablized = score / tf.math.sqrt(key_vector_dimensions)\n",
        "\n",
        "  # A mask created with the padding_mask function is passed here\n",
        "  # An input of [1, 0, 6, 4] would have a mask of [0, 1, 0, 0]\n",
        "  # This mask sets the padded zeros in an input to \"-inf\" in order to make sure the padded values are not read as words\n",
        "  if mask is not None:\n",
        "    score_stablized += (mask * -1e9) \n",
        "\n",
        "  # Softmax layer normalizes all the different word scores\n",
        "  attention_weights = tf.nn.softmax(score_stablized, axis=-1)\n",
        "\n",
        "  # Mutliplies the attention weights the input values in order to get the final \"summary\" vector\n",
        "  output = tf.matmul(attention_weights, value)\n",
        "\n",
        "  return output\n"
      ],
      "execution_count": null,
      "outputs": []
    },
    {
      "cell_type": "markdown",
      "metadata": {
        "id": "ulYWx6wi01uB"
      },
      "source": [
        "#### Multihead Self-Attention"
      ]
    },
    {
      "cell_type": "code",
      "metadata": {
        "id": "M3GIRhxEz5JV"
      },
      "source": [
        "class MultiheadSelfAttention(tf.keras.layers.Layer):\n",
        "\n",
        "  # In the Keras functional API, the __init__ layer is used to define model weights\n",
        "  def __init__(self, output_dimensions, num_heads, name=\"multi_head_attention\"):\n",
        "    # Initializes the tf.keras.layers.Layer superclass\n",
        "    super().__init__()\n",
        "\n",
        "    # Number of nodes in the dense layer (output_dimensions) and the number of self-attention heads\n",
        "    self.output_dimensions = output_dimensions\n",
        "    self.num_heads = num_heads\n",
        "\n",
        "    # The number of dimensions needs to be divisible by the number of attention heads in order to make sure that the data can be properly transposed\n",
        "    assert output_dimensions % self.num_heads == 0\n",
        "\n",
        "    # Stores the size of the vetor examined by each attention head\n",
        "    self.depth = output_dimensions // self.num_heads\n",
        "\n",
        "    # These dense layers learn the associations in the word vectors\n",
        "    self.query_dense = tf.keras.layers.Dense(units=output_dimensions)\n",
        "    self.key_dense = tf.keras.layers.Dense(units=output_dimensions)\n",
        "    self.value_dense = tf.keras.layers.Dense(units=output_dimensions)\n",
        "\n",
        "    # Dense layer used after all the self-attention heads are added back together\n",
        "    self.dense = tf.keras.layers.Dense(units=output_dimensions)\n",
        "\n",
        "  # Reshapes the data into seperate sections for each of the attention heads\n",
        "  def split_heads(self, inputs, batch_size):\n",
        "    # Reshapes the data so each head has a section to examine\n",
        "    inputs = tf.reshape(\n",
        "        inputs,\n",
        "        shape=(batch_size, -1, self.num_heads, self.depth))\n",
        "    # Transposes the data so that each new section of data is processed individually by the self_attention function\n",
        "    return tf.transpose(inputs, perm=[0, 2, 1, 3])\n",
        "\n",
        "  # The function that actually runs the commands for the layer because call() is equivelent to __call()__\n",
        "  def call(self, inputs):\n",
        "    # Only one variable can be passed to the call function so the inputs are passed as a dictionary\n",
        "    # inputs['query'], inputs['key'], inputs['value'] are all just equal to inputs. \n",
        "    query, key, value, mask = inputs['query'], inputs['key'], inputs['value'], inputs['mask']\n",
        "\n",
        "    # Gets the size of the batch passed to the function by the Keras Dataset API\n",
        "    batch_size = tf.shape(query)[0]\n",
        "\n",
        "    # Runs the inputs through dense layers in order to get custom query, key, value vectors\n",
        "    query = self.query_dense(query)\n",
        "    key = self.query_dense(key)\n",
        "    value = self.query_dense(value)\n",
        "\n",
        "    # Uses the split_heads function to format all the new vectors for multihead attention\n",
        "    query = self.split_heads(query, batch_size)\n",
        "    key = self.split_heads(key, batch_size)\n",
        "    value = self.split_heads(value, batch_size)\n",
        "\n",
        "    # Runs the data through the attention heads\n",
        "    processed_attention = self_attention(query, key, value, mask)\n",
        "\n",
        "    # Un-transposes the data and concatenates the results for each head\n",
        "    processed_attention = tf.transpose(processed_attention, perm=[0, 2, 1, 3])\n",
        "    concat_attention = tf.reshape(processed_attention, shape=(batch_size, -1, self.output_dimensions))\n",
        "\n",
        "    # Runs the returned vector through a final dense layer to make a final connections between data points\n",
        "    outputs = self.dense(concat_attention)\n",
        "\n",
        "    return outputs"
      ],
      "execution_count": null,
      "outputs": []
    },
    {
      "cell_type": "markdown",
      "metadata": {
        "id": "oRfbp7YJM4Qv"
      },
      "source": [
        "### Positional Encoding\n",
        "* Code here taken directly from this [tutorial](https://blog.tensorflow.org/2019/05/transformer-chatbot-tutorial-with-tensorflow-2.html) from Google\n",
        "  * Code without this label was either self-developed, or hand rewritten in order to develop an understand of the model code.\n",
        "* For a deeper understanding of positional encoding check out this [repository](https://github.com/tensorflow/examples/blob/master/community/en/position_encoding.ipynb)"
      ]
    },
    {
      "cell_type": "code",
      "metadata": {
        "id": "4fNWIGNVPDJr"
      },
      "source": [
        "# Transformers don't process words sequentially.\n",
        "# As such, this positional encoding equation is used to embed the positional data into each word vector\n",
        "\n",
        "# While the other code from the tutorial was hand written and recommented in order to ensure understanding\n",
        "# the class written below was taken directly from the tutorial listed in the Transformer header of this notebook.\n",
        "\n",
        "# As such, the comments.\n",
        "# While I would have liked to spend time getting to understand this operation, it was not a critical task for this project\n",
        "# I choose instead to focus my energy on understanding the naunces of the transformer architecture \n",
        "\n",
        "class PositionalEncoding(tf.keras.layers.Layer):\n",
        "\n",
        "  def __init__(self, position, output_dimensions):\n",
        "    super(PositionalEncoding, self).__init__()\n",
        "    # Creates a variable that stores the positional encoding data\n",
        "    self.pos_encoding = self.positional_encoding(position, output_dimensions)\n",
        "\n",
        "  # Computes the inner value of the sin and cos functions\n",
        "  def get_angles(self, position, i, output_dimensions):\n",
        "    angles = 1 / tf.pow(10000, (2 * (i // 2)) / tf.cast(output_dimensions, tf.float32))\n",
        "    return position * angles\n",
        "\n",
        "  def positional_encoding(self, position, output_dimensions):\n",
        "    angle_rads = self.get_angles(\n",
        "        position=tf.range(position, dtype=tf.float32)[:, tf.newaxis],\n",
        "        i=tf.range(output_dimensions, dtype=tf.float32)[tf.newaxis, :],\n",
        "        output_dimensions=output_dimensions)\n",
        "    # Apply sin to even index in the array\n",
        "    sines = tf.math.sin(angle_rads[:, 0::2])\n",
        "    # Apply cos to odd index in the array\n",
        "    cosines = tf.math.cos(angle_rads[:, 1::2])\n",
        "\n",
        "    # Combines the results of the sin and cos operations\n",
        "    pos_encoding = tf.concat([sines, cosines], axis=-1)\n",
        "    pos_encoding = pos_encoding[tf.newaxis, ...]\n",
        "    return tf.cast(pos_encoding, tf.float32)\n",
        "\n",
        "  def call(self, inputs):\n",
        "    return inputs + self.pos_encoding[:, :tf.shape(inputs)[1], :]"
      ],
      "execution_count": null,
      "outputs": []
    },
    {
      "cell_type": "markdown",
      "metadata": {
        "id": "9qfgUQDavcqb"
      },
      "source": [
        "### Encoder"
      ]
    },
    {
      "cell_type": "markdown",
      "metadata": {
        "id": "j7xGsghJvgYl"
      },
      "source": [
        "#### Encoder Layer"
      ]
    },
    {
      "cell_type": "code",
      "metadata": {
        "id": "0bUrb9D4vb_1"
      },
      "source": [
        "# This function create a Keras model that represents a single encoder layer\n",
        "# In a transformer, the encoder is reponsible for abstracting the data\n",
        "def encoder_layer(dense_dimensions, output_dimensions, num_heads, dropout_rate, name=\"encoder_layer\"):\n",
        "  # Because this function outputs a Keras model, input layerw need to be defined\n",
        "  inputs = tf.keras.Input(shape=(None, output_dimensions), name=\"inputs\")\n",
        "  # Padding mask created with the padding_mask function \n",
        "  padding_mask = tf.keras.Input(shape=(1, 1, None), name=\"padding_mask\")\n",
        "\n",
        "  # Multihead Self-Attention layer that was previously defined\n",
        "  # This layer is ultimately reponsible for figuring out the connections between words\n",
        "  attention = MultiheadSelfAttention(\n",
        "      output_dimensions, num_heads, name=\"self_attention\")({\n",
        "          'query': inputs,\n",
        "          'key': inputs,\n",
        "          'value': inputs,\n",
        "          'mask': padding_mask\n",
        "      })\n",
        "\n",
        "  # Dropout layer ignores random values from the attention matrix during training to help prevent overfitting \n",
        "  attention = tf.keras.layers.Dropout(rate=dropout_rate)(attention)\n",
        "  # Normalization layer adds the attention outputs to the original inputs and then normalizes the result\n",
        "  # This keeps a residual connection the model's original input\n",
        "  attention = tf.keras.layers.LayerNormalization(epsilon=1e-6)(inputs + attention)\n",
        "\n",
        "  # Dense layers do additional processing on the newly minted word vector\n",
        "  outputs = tf.keras.layers.Dense(units=dense_dimensions, activation='relu')(attention)\n",
        "  # Converts the data back to the original input dimensions\n",
        "  outputs = tf.keras.layers.Dense(units=output_dimensions)(outputs)\n",
        "\n",
        "  # Final dropout and normalization layer\n",
        "  outputs = tf.keras.layers.Dropout(rate=dropout_rate)(outputs)\n",
        "  outputs = tf.keras.layers.LayerNormalization(epsilon=1e-6)(attention + outputs)\n",
        "\n",
        "  # Returns a Keras model that is used as a layer in the encoder bloack\n",
        "  return tf.keras.Model(\n",
        "      inputs=[inputs, padding_mask],\n",
        "      outputs=outputs,\n",
        "      name=name\n",
        "  )"
      ],
      "execution_count": null,
      "outputs": []
    },
    {
      "cell_type": "code",
      "metadata": {
        "colab": {
          "base_uri": "https://localhost:8080/",
          "height": 307
        },
        "id": "lfrWhnjIXMDP",
        "outputId": "30e0291e-e011-4fb5-afbb-9884c06774ee"
      },
      "source": [
        "# Creates a sample encoder layer\n",
        "sample_encoder_layer = encoder_layer(\n",
        "    dense_dimensions=512,\n",
        "    output_dimensions=128,\n",
        "    num_heads=4,\n",
        "    dropout_rate=0.3,\n",
        "    name=\"sample_encoder_layer\")\n",
        "\n",
        "# Makes a folder to store the layer images\n",
        "!mkdir layer_images\n",
        "\n",
        "# Outputs a plotted model to check for errors \n",
        "tf.keras.utils.plot_model(\n",
        "    sample_encoder_layer, to_file='layer_images/sample_encoder_layer.png', show_shapes=True)"
      ],
      "execution_count": null,
      "outputs": [
        {
          "output_type": "execute_result",
          "data": {
            "image/png": "[encoded data removed]",
            "text/plain": [
              "<IPython.core.display.Image object>"
            ]
          },
          "metadata": {
            "tags": []
          },
          "execution_count": 26
        }
      ]
    },
    {
      "cell_type": "markdown",
      "metadata": {
        "id": "y4lFHHSv-v_m"
      },
      "source": [
        "#### Encoder Block"
      ]
    },
    {
      "cell_type": "code",
      "metadata": {
        "id": "1wcoW9fq2DjX"
      },
      "source": [
        "# This function is used to define the entire encoding block rather than just a single layer\n",
        "def encoder(vocab_size, num_encoding_layers, dense_dimensions, output_dimensions, num_heads, dropout_rate, name=\"encoder\"):\n",
        "  # Inputs and padding mask\n",
        "  inputs = tf.keras.Input(shape=(None,), name=\"inputs\")\n",
        "  padding_mask = tf.keras.Input(shape=(1, 1, None), name=\"padding_mask\")\n",
        "\n",
        "  # Rather than using pretrained embeddings, the transformer trains its own embeddings\n",
        "  # This function converts the previous defined tokens into embeddings with size output_dimensions\n",
        "  embeddings = tf.keras.layers.Embedding(vocab_size, output_dimensions)(inputs)\n",
        "\n",
        "  # Multiplies the embeddings by the square root of the models dimensions\n",
        "  embeddings *= tf.math.sqrt(tf.cast(output_dimensions, tf.float32))\n",
        "  # Adds positional data to the embedding layer\n",
        "  embeddings = PositionalEncoding(vocab_size, output_dimensions)(embeddings)\n",
        "\n",
        "  # Dropout layer to prevent overfitting\n",
        "  outputs = tf.keras.layers.Dropout(rate=dropout_rate)(embeddings)\n",
        "\n",
        "  # This function loops through layers \"num_encoding_layers\" times\n",
        "  # Doing this adds \"num_encoding_layers\" encoding layers to the final encoder block\n",
        "  #\"([outputs, padding_mask])\" is the data being passed to the model each time (passing itself)\n",
        "  for i in range(num_encoding_layers):\n",
        "    outputs = encoder_layer(\n",
        "        dense_dimensions=dense_dimensions,\n",
        "        output_dimensions=output_dimensions,\n",
        "        num_heads=num_heads,\n",
        "        dropout_rate=dropout_rate,\n",
        "        name=\"encoder_layer_{}\".format(i)\n",
        "    )([outputs, padding_mask])\n",
        "\n",
        "  return tf.keras.Model(\n",
        "      inputs=[inputs, padding_mask],\n",
        "      outputs=outputs,\n",
        "      name=name\n",
        "  )"
      ],
      "execution_count": null,
      "outputs": []
    },
    {
      "cell_type": "code",
      "metadata": {
        "colab": {
          "base_uri": "https://localhost:8080/",
          "height": 747
        },
        "id": "B_7GsD0OXaAL",
        "outputId": "d36e0617-c7cf-4973-b90e-4114924e66cf"
      },
      "source": [
        "sample_encoder = encoder(\n",
        "    vocab_size=8192,\n",
        "    num_encoding_layers=2,\n",
        "    dense_dimensions=512,\n",
        "    output_dimensions=128,\n",
        "    num_heads=4,\n",
        "    dropout_rate=0.3,\n",
        "    name=\"sample_encoder\")\n",
        "\n",
        "tf.keras.utils.plot_model(\n",
        "    sample_encoder, to_file='layer_images/sample_encoder.png', show_shapes=True)"
      ],
      "execution_count": null,
      "outputs": [
        {
          "output_type": "execute_result",
          "data": {
            "image/png": "[encoded data removed]",
            "text/plain": [
              "<IPython.core.display.Image object>"
            ]
          },
          "metadata": {
            "tags": []
          },
          "execution_count": 28
        }
      ]
    },
    {
      "cell_type": "markdown",
      "metadata": {
        "id": "9IgRXeA3_Dqv"
      },
      "source": [
        "### Full Model"
      ]
    },
    {
      "cell_type": "code",
      "metadata": {
        "id": "j9GeRwFX_Eue"
      },
      "source": [
        "# The full BERT based transformer model definition\n",
        "# A dense layer is at the end to return a classification array\n",
        "def transformer(vocab_size, num_encoding_layers, dense_dimensions, output_dimensions, num_heads, dropout_rate, output_units, name=\"transformer\"):\n",
        "  # Inputs for the model\n",
        "  inputs = tf.keras.Input(shape=(None,), name=\"inputs\")\n",
        "\n",
        "  # Creates the padding mask before the tokens go through the vectorizer\n",
        "  padding_mask = tf.keras.layers.Lambda(\n",
        "      create_padding_mask, \n",
        "      output_shape=(1, 1, None),\n",
        "      name=\"padding_mask\"\n",
        "  )(inputs)\n",
        "\n",
        "  # Creates the encoder block\n",
        "  encoder_outputs = encoder(\n",
        "      vocab_size=vocab_size,\n",
        "      num_encoding_layers=num_encoding_layers,\n",
        "      dense_dimensions=dense_dimensions,\n",
        "      output_dimensions=output_dimensions,\n",
        "      num_heads=num_heads,\n",
        "      dropout_rate=dropout_rate\n",
        "  )(inputs=[inputs, padding_mask])\n",
        "\n",
        "\n",
        "  # Final dense layer that finds any final associations in the data\n",
        "  outputs = tf.keras.layers.Dense(units=dense_dimensions)(encoder_outputs)\n",
        "  \n",
        "  # -----------------------------------------------------------------\n",
        "  # Can be used to average the arrays instead of having a [CLS] token\n",
        "  # This seems to yield better performance\n",
        "  outputs = tf.keras.layers.GlobalAveragePooling1D()(outputs)\n",
        "  # -----------------------------------------------------------------\n",
        "\n",
        "\n",
        "  # ------------------------------------------------------\n",
        "  # Sets the outputs only equal to the [CLS] token\n",
        "  # The [CLS] token is how BERT does classification tasks\n",
        "  # outputs = outputs[:, 0, :]\n",
        "  # ------------------------------------------------------\n",
        "\n",
        "\n",
        "  outputs = tf.keras.layers.Dense(units=output_units, activation='sigmoid', name=\"outputs\")(outputs)\n",
        "\n",
        "  return tf.keras.Model(\n",
        "      inputs=inputs,\n",
        "      outputs=outputs,\n",
        "      name=name\n",
        "  )"
      ],
      "execution_count": null,
      "outputs": []
    },
    {
      "cell_type": "code",
      "metadata": {
        "colab": {
          "base_uri": "https://localhost:8080/",
          "height": 644
        },
        "id": "HFhYmhBNBsR5",
        "outputId": "14486be9-d421-4e16-8b0e-68ec832b1bfb"
      },
      "source": [
        "sample_transformer = transformer(\n",
        "    vocab_size=VOCAB_SIZE,\n",
        "    num_encoding_layers=4,\n",
        "    dense_dimensions=512,\n",
        "    output_dimensions=128,\n",
        "    num_heads=4,\n",
        "    dropout_rate=0.3,\n",
        "    output_units=4,\n",
        "    name=\"sample_transformer\")\n",
        "\n",
        "tf.keras.utils.plot_model(\n",
        "    sample_transformer, to_file='layer_images/transformer.png', show_shapes=True)"
      ],
      "execution_count": null,
      "outputs": [
        {
          "output_type": "execute_result",
          "data": {
            "image/png": "[encoded data removed]",
            "text/plain": [
              "<IPython.core.display.Image object>"
            ]
          },
          "metadata": {
            "tags": []
          },
          "execution_count": 30
        }
      ]
    },
    {
      "cell_type": "markdown",
      "metadata": {
        "id": "VV8HDr_eB5jH"
      },
      "source": [
        "## Training"
      ]
    },
    {
      "cell_type": "markdown",
      "metadata": {
        "id": "6eWDxpOcfwHQ"
      },
      "source": [
        "### Confirm GPU\n"
      ]
    },
    {
      "cell_type": "code",
      "metadata": {
        "id": "fik_IS6YsVnj",
        "colab": {
          "base_uri": "https://localhost:8080/"
        },
        "outputId": "d66acb0c-d754-4332-f9d9-902072c43722"
      },
      "source": [
        "# Checks to make sure that the transformer is training on a GPU\n",
        "device_name = tf.test.gpu_device_name()\n",
        "if device_name == '/device:GPU:0':\n",
        " print('Trainging with GPU at: {}'.format(device_name))\n",
        "else:\n",
        "  print('Training with CPU. Switch the runtime to a GPU for faster training')"
      ],
      "execution_count": null,
      "outputs": [
        {
          "output_type": "stream",
          "text": [
            "Trainging with GPU at: /device:GPU:0\n"
          ],
          "name": "stdout"
        }
      ]
    },
    {
      "cell_type": "markdown",
      "metadata": {
        "id": "09lWOBfcfkas"
      },
      "source": [
        "### Define Model"
      ]
    },
    {
      "cell_type": "code",
      "metadata": {
        "id": "Ja_3jwYQCADa"
      },
      "source": [
        "# Removes any previously created models and layers\n",
        "# Such as the ones created for the diagrams\n",
        "tf.keras.backend.clear_session()\n",
        "\n",
        "# Model Verification\n",
        "# A parameter that is used for training additional models to find a fit\n",
        "MODEL_VERIFICATION = False #@param {type:\"boolean\"}\n",
        "\n",
        "# Training Parameters\n",
        "# These can be set using the form function within colab for easier management\n",
        "NUM_ENCODING_LAYERS =     1#@param {type:\"integer\"}\n",
        "OUTPUT_DIMENSIONS =  8#@param {type:\"integer\"}\n",
        "NUM_HEADS = 2#@param {type:\"integer\"}\n",
        "DENSE_DIMENSIONS =  8#@param {type:\"integer\"}\n",
        "DROPOUT_RATE = 0.5#@param {type:\"raw\"}\n",
        "\n",
        "# Creates the actual model\n",
        "model = transformer(\n",
        "    vocab_size=VOCAB_SIZE,\n",
        "    num_encoding_layers=NUM_ENCODING_LAYERS,\n",
        "    dense_dimensions=DENSE_DIMENSIONS,\n",
        "    output_dimensions=OUTPUT_DIMENSIONS,\n",
        "    num_heads=NUM_HEADS,\n",
        "    dropout_rate=DROPOUT_RATE,\n",
        "    output_units=LABEL_AMOUNT\n",
        ")\n",
        "\n",
        "# Additional models created to verfiy the improved accuracy is from architecture changes rather than luck\n",
        "if (MODEL_VERIFICATION):\n",
        "  model_v2 = transformer(\n",
        "      vocab_size=VOCAB_SIZE,\n",
        "      num_encoding_layers=NUM_ENCODING_LAYERS,\n",
        "      dense_dimensions=DENSE_DIMENSIONS,\n",
        "      output_dimensions=OUTPUT_DIMENSIONS,\n",
        "      num_heads=NUM_HEADS,\n",
        "      dropout_rate=DROPOUT_RATE,\n",
        "      output_units=LABEL_AMOUNT\n",
        "  )\n",
        "\n",
        "  model_v3 = transformer(\n",
        "      vocab_size=VOCAB_SIZE,\n",
        "      num_encoding_layers=NUM_ENCODING_LAYERS,\n",
        "      dense_dimensions=DENSE_DIMENSIONS,\n",
        "      output_dimensions=OUTPUT_DIMENSIONS,\n",
        "      num_heads=NUM_HEADS,\n",
        "      dropout_rate=DROPOUT_RATE,\n",
        "      output_units=LABEL_AMOUNT\n",
        "  )"
      ],
      "execution_count": null,
      "outputs": []
    },
    {
      "cell_type": "markdown",
      "metadata": {
        "id": "FxrNr6oAfqXG"
      },
      "source": [
        "\n",
        "### Compile Model\n",
        "* Code for the CustomScheduler is taken directly from this [tutorial](https://blog.tensorflow.org/2019/05/transformer-chatbot-tutorial-with-tensorflow-2.html) from Google. It was not written for understanding like the rest of the model code.\n"
      ]
    },
    {
      "cell_type": "code",
      "metadata": {
        "colab": {
          "base_uri": "https://localhost:8080/"
        },
        "id": "CX1kBg-dCuxf",
        "outputId": "479efca6-f33d-4d6b-ab72-d761bfc834e8"
      },
      "source": [
        "# Custom learning rate taken directly from the Keras Transformer Chatbot Tutorial\n",
        "class CustomSchedule(tf.keras.optimizers.schedules.LearningRateSchedule):\n",
        "\n",
        "  def __init__(self, d_model, warmup_steps=4000):\n",
        "    super(CustomSchedule, self).__init__()\n",
        "\n",
        "    self.d_model = d_model\n",
        "    self.d_model = tf.cast(self.d_model, tf.float32)\n",
        "\n",
        "    self.warmup_steps = warmup_steps\n",
        "\n",
        "  def __call__(self, step):\n",
        "    arg1 = tf.math.rsqrt(step)\n",
        "    arg2 = step * (self.warmup_steps**-1.5)\n",
        "\n",
        "    return tf.math.rsqrt(self.d_model) * tf.math.minimum(arg1, arg2)\n",
        "\n",
        "# Creates a variable for the learning rate using the custom rate function\n",
        "learning_rate = CustomSchedule(OUTPUT_DIMENSIONS)\n",
        "\n",
        "# Creates a modified Adam optimirunningzer\n",
        "optimizer = tf.keras.optimizers.Adam(\n",
        "    learning_rate, beta_1=0.9, beta_2=0.98, epsilon=1e-9)\n",
        "\n",
        "loss_cce = tf.keras.losses.CategoricalCrossentropy(label_smoothing=0.2)\n",
        "\n",
        "# Compiles the model using the previously defined optimizer32\n",
        "model.compile(optimizer=optimizer, loss=loss_cce, metrics=['accuracy'])\n",
        "model.summary()\n",
        "\n",
        "# Verification models\n",
        "if (MODEL_VERIFICATION):\n",
        "  model_v2.compile(optimizer=optimizer, loss=loss_cce, metrics=['accuracy'])\n",
        "  model_v3.compile(optimizer=optimizer, loss=loss_cce, metrics=['accuracy'])"
      ],
      "execution_count": null,
      "outputs": [
        {
          "output_type": "stream",
          "text": [
            "Model: \"transformer\"\n",
            "__________________________________________________________________________________________________\n",
            "Layer (type)                    Output Shape         Param #     Connected to                     \n",
            "==================================================================================================\n",
            "inputs (InputLayer)             [(None, None)]       0                                            \n",
            "__________________________________________________________________________________________________\n",
            "padding_mask (Lambda)           (None, 1, 1, None)   0           inputs[0][0]                     \n",
            "__________________________________________________________________________________________________\n",
            "encoder (Functional)            (None, None, 8)      244496      inputs[0][0]                     \n",
            "                                                                 padding_mask[0][0]               \n",
            "__________________________________________________________________________________________________\n",
            "dense_6 (Dense)                 (None, None, 8)      72          encoder[0][0]                    \n",
            "__________________________________________________________________________________________________\n",
            "global_average_pooling1d (Globa (None, 8)            0           dense_6[0][0]                    \n",
            "__________________________________________________________________________________________________\n",
            "outputs (Dense)                 (None, 7)            63          global_average_pooling1d[0][0]   \n",
            "==================================================================================================\n",
            "Total params: 244,631\n",
            "Trainable params: 244,631\n",
            "Non-trainable params: 0\n",
            "__________________________________________________________________________________________________\n"
          ],
          "name": "stdout"
        }
      ]
    },
    {
      "cell_type": "markdown",
      "metadata": {
        "id": "cfg07OqQf3Gb"
      },
      "source": [
        "### Fit Model"
      ]
    },
    {
      "cell_type": "code",
      "metadata": {
        "colab": {
          "base_uri": "https://localhost:8080/"
        },
        "id": "bPtBEwMKC2hN",
        "outputId": "f5fd475b-37df-4334-ee6e-f90bbc007fe1"
      },
      "source": [
        "# Sets the number of times the entire dataset is processed by the training algorithm\n",
        "EPOCHS = 128#@param {type:\"integer\"}\n",
        "\n",
        "# Stops training if the model begins overfitting\n",
        "es_callback = tf.keras.callbacks.EarlyStopping(monitor='val_loss', mode=\"min\", verbose=1, patience=16)\n",
        "\n",
        "# Trains the model on the dataset from the tf.data.Dataset\n",
        "# Uses a validation dataset and a callback to stop training early\n",
        "model.fit(dataset, validation_data=(dataset_test), epochs=EPOCHS, callbacks=es_callback, verbose=(not MODEL_VERIFICATION))\n",
        "\n",
        "# Verification models\n",
        "if (MODEL_VERIFICATION):\n",
        "  model_v2.fit(dataset, validation_data=(dataset_test), epochs=EPOCHS, callbacks=es_callback, verbose=VERBOSE)\n",
        "  model_v3.fit(dataset, validation_data=(dataset_test), epochs=EPOCHS, callbacks=es_callback, verbose=VERBOSE)"
      ],
      "execution_count": null,
      "outputs": [
        {
          "output_type": "stream",
          "text": [
            "Epoch 1/128\n",
            "35/35 [==============================] - 4s 33ms/step - loss: 2.2702 - accuracy: 0.1448 - val_loss: 2.7987 - val_accuracy: 0.0745\n",
            "Epoch 2/128\n",
            "35/35 [==============================] - 1s 16ms/step - loss: 2.2413 - accuracy: 0.1444 - val_loss: 2.6204 - val_accuracy: 0.0745\n",
            "Epoch 3/128\n",
            "35/35 [==============================] - 1s 16ms/step - loss: 2.1776 - accuracy: 0.1407 - val_loss: 2.3800 - val_accuracy: 0.0745\n",
            "Epoch 4/128\n",
            "35/35 [==============================] - 1s 16ms/step - loss: 2.1001 - accuracy: 0.1406 - val_loss: 2.1586 - val_accuracy: 0.0745\n",
            "Epoch 5/128\n",
            "35/35 [==============================] - 1s 16ms/step - loss: 2.0358 - accuracy: 0.1428 - val_loss: 2.0196 - val_accuracy: 0.1393\n",
            "Epoch 6/128\n",
            "35/35 [==============================] - 1s 16ms/step - loss: 2.0002 - accuracy: 0.1468 - val_loss: 1.9570 - val_accuracy: 0.2470\n",
            "Epoch 7/128\n",
            "35/35 [==============================] - 1s 16ms/step - loss: 1.9774 - accuracy: 0.1476 - val_loss: 1.9346 - val_accuracy: 0.2466\n",
            "Epoch 8/128\n",
            "35/35 [==============================] - 1s 16ms/step - loss: 1.9680 - accuracy: 0.1499 - val_loss: 1.9239 - val_accuracy: 0.2466\n",
            "Epoch 9/128\n",
            "35/35 [==============================] - 1s 16ms/step - loss: 1.9568 - accuracy: 0.1601 - val_loss: 1.9176 - val_accuracy: 0.2468\n",
            "Epoch 10/128\n",
            "35/35 [==============================] - 1s 16ms/step - loss: 1.9541 - accuracy: 0.1579 - val_loss: 1.9108 - val_accuracy: 0.2495\n",
            "Epoch 11/128\n",
            "35/35 [==============================] - 1s 17ms/step - loss: 1.9451 - accuracy: 0.1717 - val_loss: 1.9073 - val_accuracy: 0.2495\n",
            "Epoch 12/128\n",
            "35/35 [==============================] - 1s 16ms/step - loss: 1.9399 - accuracy: 0.1758 - val_loss: 1.9011 - val_accuracy: 0.2422\n",
            "Epoch 13/128\n",
            "35/35 [==============================] - 1s 16ms/step - loss: 1.9306 - accuracy: 0.1866 - val_loss: 1.8945 - val_accuracy: 0.2278\n",
            "Epoch 14/128\n",
            "35/35 [==============================] - 1s 16ms/step - loss: 1.9175 - accuracy: 0.2055 - val_loss: 1.8882 - val_accuracy: 0.2154\n",
            "Epoch 15/128\n",
            "35/35 [==============================] - 1s 16ms/step - loss: 1.9049 - accuracy: 0.2189 - val_loss: 1.8855 - val_accuracy: 0.2331\n",
            "Epoch 16/128\n",
            "35/35 [==============================] - 1s 16ms/step - loss: 1.8867 - accuracy: 0.2361 - val_loss: 1.8833 - val_accuracy: 0.2239\n",
            "Epoch 17/128\n",
            "35/35 [==============================] - 1s 16ms/step - loss: 1.8710 - accuracy: 0.2493 - val_loss: 1.8809 - val_accuracy: 0.2342\n",
            "Epoch 18/128\n",
            "35/35 [==============================] - 1s 16ms/step - loss: 1.8595 - accuracy: 0.2550 - val_loss: 1.8714 - val_accuracy: 0.2300\n",
            "Epoch 19/128\n",
            "35/35 [==============================] - 1s 16ms/step - loss: 1.8462 - accuracy: 0.2673 - val_loss: 1.8677 - val_accuracy: 0.2447\n",
            "Epoch 20/128\n",
            "35/35 [==============================] - 1s 16ms/step - loss: 1.8253 - accuracy: 0.2845 - val_loss: 1.8488 - val_accuracy: 0.2635\n",
            "Epoch 21/128\n",
            "35/35 [==============================] - 1s 19ms/step - loss: 1.8125 - accuracy: 0.2940 - val_loss: 1.8295 - val_accuracy: 0.2756\n",
            "Epoch 22/128\n",
            "35/35 [==============================] - 1s 16ms/step - loss: 1.7929 - accuracy: 0.3095 - val_loss: 1.8142 - val_accuracy: 0.2901\n",
            "Epoch 23/128\n",
            "35/35 [==============================] - 1s 16ms/step - loss: 1.7773 - accuracy: 0.3201 - val_loss: 1.8037 - val_accuracy: 0.3032\n",
            "Epoch 24/128\n",
            "35/35 [==============================] - 1s 16ms/step - loss: 1.7589 - accuracy: 0.3361 - val_loss: 1.7910 - val_accuracy: 0.3116\n",
            "Epoch 25/128\n",
            "35/35 [==============================] - 1s 16ms/step - loss: 1.7448 - accuracy: 0.3505 - val_loss: 1.7742 - val_accuracy: 0.3352\n",
            "Epoch 26/128\n",
            "35/35 [==============================] - 1s 16ms/step - loss: 1.7310 - accuracy: 0.3599 - val_loss: 1.7657 - val_accuracy: 0.3440\n",
            "Epoch 27/128\n",
            "35/35 [==============================] - 1s 16ms/step - loss: 1.7236 - accuracy: 0.3682 - val_loss: 1.7624 - val_accuracy: 0.3462\n",
            "Epoch 28/128\n",
            "35/35 [==============================] - 1s 16ms/step - loss: 1.7160 - accuracy: 0.3784 - val_loss: 1.7537 - val_accuracy: 0.3675\n",
            "Epoch 29/128\n",
            "35/35 [==============================] - 1s 16ms/step - loss: 1.7038 - accuracy: 0.3881 - val_loss: 1.7434 - val_accuracy: 0.3738\n",
            "Epoch 30/128\n",
            "35/35 [==============================] - 1s 16ms/step - loss: 1.6932 - accuracy: 0.4027 - val_loss: 1.7319 - val_accuracy: 0.3969\n",
            "Epoch 31/128\n",
            "35/35 [==============================] - 1s 17ms/step - loss: 1.6855 - accuracy: 0.4023 - val_loss: 1.7263 - val_accuracy: 0.4051\n",
            "Epoch 32/128\n",
            "35/35 [==============================] - 1s 17ms/step - loss: 1.6716 - accuracy: 0.4245 - val_loss: 1.7206 - val_accuracy: 0.4088\n",
            "Epoch 33/128\n",
            "35/35 [==============================] - 1s 16ms/step - loss: 1.6652 - accuracy: 0.4329 - val_loss: 1.7191 - val_accuracy: 0.4139\n",
            "Epoch 34/128\n",
            "35/35 [==============================] - 1s 16ms/step - loss: 1.6520 - accuracy: 0.4420 - val_loss: 1.7021 - val_accuracy: 0.4269\n",
            "Epoch 35/128\n",
            "35/35 [==============================] - 1s 16ms/step - loss: 1.6363 - accuracy: 0.4570 - val_loss: 1.6977 - val_accuracy: 0.4299\n",
            "Epoch 36/128\n",
            "35/35 [==============================] - 1s 16ms/step - loss: 1.6336 - accuracy: 0.4583 - val_loss: 1.6894 - val_accuracy: 0.4356\n",
            "Epoch 37/128\n",
            "35/35 [==============================] - 1s 16ms/step - loss: 1.6267 - accuracy: 0.4679 - val_loss: 1.6867 - val_accuracy: 0.4413\n",
            "Epoch 38/128\n",
            "35/35 [==============================] - 1s 16ms/step - loss: 1.6101 - accuracy: 0.4780 - val_loss: 1.6811 - val_accuracy: 0.4443\n",
            "Epoch 39/128\n",
            "35/35 [==============================] - 1s 17ms/step - loss: 1.6034 - accuracy: 0.4810 - val_loss: 1.6771 - val_accuracy: 0.4516\n",
            "Epoch 40/128\n",
            "35/35 [==============================] - 1s 17ms/step - loss: 1.5951 - accuracy: 0.4858 - val_loss: 1.6749 - val_accuracy: 0.4565\n",
            "Epoch 41/128\n",
            "35/35 [==============================] - 1s 17ms/step - loss: 1.5755 - accuracy: 0.5057 - val_loss: 1.6728 - val_accuracy: 0.4611\n",
            "Epoch 42/128\n",
            "35/35 [==============================] - 1s 17ms/step - loss: 1.5748 - accuracy: 0.5032 - val_loss: 1.6730 - val_accuracy: 0.4572\n",
            "Epoch 43/128\n",
            "35/35 [==============================] - 1s 16ms/step - loss: 1.5580 - accuracy: 0.5163 - val_loss: 1.6713 - val_accuracy: 0.4666\n",
            "Epoch 44/128\n",
            "35/35 [==============================] - 1s 17ms/step - loss: 1.5490 - accuracy: 0.5234 - val_loss: 1.6809 - val_accuracy: 0.4652\n",
            "Epoch 45/128\n",
            "35/35 [==============================] - 1s 17ms/step - loss: 1.5428 - accuracy: 0.5278 - val_loss: 1.6684 - val_accuracy: 0.4681\n",
            "Epoch 46/128\n",
            "35/35 [==============================] - 1s 17ms/step - loss: 1.5315 - accuracy: 0.5385 - val_loss: 1.6642 - val_accuracy: 0.4729\n",
            "Epoch 47/128\n",
            "35/35 [==============================] - 1s 16ms/step - loss: 1.5285 - accuracy: 0.5386 - val_loss: 1.6796 - val_accuracy: 0.4666\n",
            "Epoch 48/128\n",
            "35/35 [==============================] - 1s 16ms/step - loss: 1.5246 - accuracy: 0.5412 - val_loss: 1.6827 - val_accuracy: 0.4652\n",
            "Epoch 49/128\n",
            "35/35 [==============================] - 1s 16ms/step - loss: 1.5133 - accuracy: 0.5504 - val_loss: 1.6772 - val_accuracy: 0.4734\n",
            "Epoch 50/128\n",
            "35/35 [==============================] - 1s 16ms/step - loss: 1.5014 - accuracy: 0.5583 - val_loss: 1.6795 - val_accuracy: 0.4741\n",
            "Epoch 51/128\n",
            "35/35 [==============================] - 1s 17ms/step - loss: 1.5041 - accuracy: 0.5596 - val_loss: 1.6928 - val_accuracy: 0.4672\n",
            "Epoch 52/128\n",
            "35/35 [==============================] - 1s 17ms/step - loss: 1.4890 - accuracy: 0.5652 - val_loss: 1.7056 - val_accuracy: 0.4624\n",
            "Epoch 53/128\n",
            "35/35 [==============================] - 1s 17ms/step - loss: 1.4904 - accuracy: 0.5677 - val_loss: 1.7047 - val_accuracy: 0.4668\n",
            "Epoch 54/128\n",
            "35/35 [==============================] - 1s 16ms/step - loss: 1.4791 - accuracy: 0.5768 - val_loss: 1.7081 - val_accuracy: 0.4677\n",
            "Epoch 55/128\n",
            "35/35 [==============================] - 1s 17ms/step - loss: 1.4709 - accuracy: 0.5841 - val_loss: 1.7069 - val_accuracy: 0.4705\n",
            "Epoch 56/128\n",
            "35/35 [==============================] - 1s 17ms/step - loss: 1.4706 - accuracy: 0.5837 - val_loss: 1.7133 - val_accuracy: 0.4688\n",
            "Epoch 57/128\n",
            "35/35 [==============================] - 1s 17ms/step - loss: 1.4668 - accuracy: 0.5864 - val_loss: 1.7189 - val_accuracy: 0.4689\n",
            "Epoch 58/128\n",
            "35/35 [==============================] - 1s 17ms/step - loss: 1.4551 - accuracy: 0.5931 - val_loss: 1.7230 - val_accuracy: 0.4695\n",
            "Epoch 59/128\n",
            "35/35 [==============================] - 1s 17ms/step - loss: 1.4501 - accuracy: 0.5964 - val_loss: 1.7348 - val_accuracy: 0.4642\n",
            "Epoch 60/128\n",
            "35/35 [==============================] - 1s 16ms/step - loss: 1.4441 - accuracy: 0.6044 - val_loss: 1.7288 - val_accuracy: 0.4626\n",
            "Epoch 61/128\n",
            "35/35 [==============================] - 1s 17ms/step - loss: 1.4420 - accuracy: 0.6033 - val_loss: 1.7294 - val_accuracy: 0.4638\n",
            "Epoch 62/128\n",
            "35/35 [==============================] - 1s 17ms/step - loss: 1.4321 - accuracy: 0.6134 - val_loss: 1.7423 - val_accuracy: 0.4611\n",
            "Epoch 00062: early stopping\n"
          ],
          "name": "stdout"
        }
      ]
    },
    {
      "cell_type": "markdown",
      "metadata": {
        "id": "NXqHqJlmLSun"
      },
      "source": [
        "### Evaluate Model\n",
        "\n"
      ]
    },
    {
      "cell_type": "code",
      "metadata": {
        "id": "yVsGNUQlHZgA",
        "colab": {
          "base_uri": "https://localhost:8080/"
        },
        "outputId": "2b867b66-3cd0-4fc4-95f3-e294920794a7"
      },
      "source": [
        "# Checks the model's accuracy on the previously seperated test dataset\n",
        "model.evaluate(dataset_test)\n",
        "\n",
        "# Verification models\n",
        "if (MODEL_VERIFICATION):\n",
        "  model_v2.evaluate(dataset_test)\n",
        "  model_v3.evaluate(dataset_test)"
      ],
      "execution_count": null,
      "outputs": [
        {
          "output_type": "stream",
          "text": [
            "6/6 [==============================] - 0s 7ms/step - loss: 1.7423 - accuracy: 0.4611\n"
          ],
          "name": "stdout"
        }
      ]
    },
    {
      "cell_type": "markdown",
      "metadata": {
        "id": "fmdRLmGN1fXX"
      },
      "source": [
        "### User Interactable Demo"
      ]
    },
    {
      "cell_type": "markdown",
      "metadata": {
        "id": "P-2_614c1i4i"
      },
      "source": [
        "#### Sentence Tokenization Function"
      ]
    },
    {
      "cell_type": "code",
      "metadata": {
        "id": "ypO1OLixwjcb"
      },
      "source": [
        "def sentence_tokenizer(sentence):\n",
        "\n",
        "    # INPUTS\n",
        "    # Converts the sentence into an array\n",
        "    word_list = re.sub(\"[^a-zA-Z?.!,]\", \" \",  sanitize_text(sentence)).lower().split()\n",
        "\n",
        "    # Adds BERT [CLS] token to the row\n",
        "    # This token is what is evaluted by the final dense layer to create the prediction\n",
        "    word_list.insert(0,'[CLS]')\n",
        "\n",
        "    # Variable that stores the tokinzed sentence from the examined row\n",
        "    tokenized_sentence = []\n",
        "    \n",
        "    # Appends each tokenized word to the tokenized_sentence array\n",
        "    for word in word_list:\n",
        "      tokenized_sentence.extend(tokenize_word(word))\n",
        "\n",
        "    return [tokenized_sentence]"
      ],
      "execution_count": null,
      "outputs": []
    },
    {
      "cell_type": "markdown",
      "metadata": {
        "id": "VbYUMg391mm9"
      },
      "source": [
        "#### Get Sentiment from User Sentence"
      ]
    },
    {
      "cell_type": "code",
      "metadata": {
        "id": "e95BuxXMw9BC",
        "colab": {
          "base_uri": "https://localhost:8080/"
        },
        "outputId": "d6a68561-48de-4869-c854-49f77c4fadd3"
      },
      "source": [
        "def get_sentiment(text):\n",
        "  # Tokenizes the sentence\n",
        "  tokenized = sentence_tokenizer(text)\n",
        "\n",
        "  # Creates a prediction\n",
        "  prediction = model.predict(tokenized)\n",
        "  \n",
        "  # Get the label amopunt of looping \n",
        "  label_amount = len(prediction[0])\n",
        "\n",
        "  # Loops through each label confidence\n",
        "  for i in range(label_amount):\n",
        "    # Get the percent confidence for the most likely emotion\n",
        "    percent = '%.3f'%(np.max(prediction))\n",
        "    # Prints the data\n",
        "    print(LABEL_REF[np.argmax(prediction)], percent)\n",
        "    # Sets the highest percent to 0 in order to loop through the rest\n",
        "    prediction[0][np.argmax(prediction)] = 0\n",
        "\n",
        "text = \"I can't believe it!\"#@param {type:\"string\"}\n",
        "get_sentiment(text)"
      ],
      "execution_count": null,
      "outputs": [
        {
          "output_type": "stream",
          "text": [
            "surprise 0.952\n",
            "neutral 0.910\n",
            "love 0.745\n",
            "fear 0.528\n",
            "joy 0.408\n",
            "sadness 0.279\n",
            "anger 0.244\n"
          ],
          "name": "stdout"
        }
      ]
    },
    {
      "cell_type": "markdown",
      "metadata": {
        "id": "xutTmhemP8QG"
      },
      "source": [
        "## Exporting\n",
        "The functions here export the model for deployment in other projects such as Sentiment."
      ]
    },
    {
      "cell_type": "markdown",
      "metadata": {
        "id": "mADgndc6emH2"
      },
      "source": [
        "### Checks for Needed Libraries"
      ]
    },
    {
      "cell_type": "code",
      "metadata": {
        "id": "YNLaaCXHP-BI",
        "colab": {
          "base_uri": "https://localhost:8080/"
        },
        "outputId": "94479ec1-f503-46fe-ff30-9c18095060c0"
      },
      "source": [
        "# Makes sure needed libraries are installed\n",
        "!pip install pyyaml h5py"
      ],
      "execution_count": null,
      "outputs": [
        {
          "output_type": "stream",
          "text": [
            "Requirement already satisfied: pyyaml in /usr/local/lib/python3.6/dist-packages (3.13)\n",
            "Requirement already satisfied: h5py in /usr/local/lib/python3.6/dist-packages (2.10.0)\n",
            "Requirement already satisfied: six in /usr/local/lib/python3.6/dist-packages (from h5py) (1.15.0)\n",
            "Requirement already satisfied: numpy>=1.7 in /usr/local/lib/python3.6/dist-packages (from h5py) (1.19.4)\n"
          ],
          "name": "stdout"
        }
      ]
    },
    {
      "cell_type": "markdown",
      "metadata": {
        "id": "ycfLhV3-er-T"
      },
      "source": [
        "### Saves the Model"
      ]
    },
    {
      "cell_type": "code",
      "metadata": {
        "id": "Pz9BJ-_bQamg",
        "colab": {
          "base_uri": "https://localhost:8080/"
        },
        "outputId": "e8b6de79-f72b-4293-a076-6decc8fd7083"
      },
      "source": [
        "# Creates a folder to save the model to\n",
        "!mkdir saved_model\n",
        "!rm -rf saved_model/transformer\n",
        "!rm -f saved_model/transformer.zip\n",
        "\n",
        "# Saves the model\n",
        "model.save('saved_model/transformer', include_optimizer=False)\n",
        "\n",
        "# Zips the folder\n",
        "!zip -r saved_model/transformer.zip saved_model/transformer/"
      ],
      "execution_count": null,
      "outputs": [
        {
          "output_type": "stream",
          "text": [
            "WARNING:tensorflow:Skipping full serialization of Keras layer <tensorflow.python.keras.layers.core.Dense object at 0x7f06b00f45f8>, because it is not built.\n",
            "WARNING:tensorflow:Skipping full serialization of Keras layer <tensorflow.python.keras.layers.core.Dense object at 0x7f06b00f4ac8>, because it is not built.\n"
          ],
          "name": "stdout"
        },
        {
          "output_type": "stream",
          "text": [
            "WARNING:absl:Found untraced functions such as dense_layer_call_fn, dense_layer_call_and_return_conditional_losses, dense_3_layer_call_fn, dense_3_layer_call_and_return_conditional_losses, dense_layer_call_fn while saving (showing 5 of 10). These functions will not be directly callable after loading.\n",
            "WARNING:absl:Found untraced functions such as dense_layer_call_fn, dense_layer_call_and_return_conditional_losses, dense_3_layer_call_fn, dense_3_layer_call_and_return_conditional_losses, dense_layer_call_fn while saving (showing 5 of 10). These functions will not be directly callable after loading.\n"
          ],
          "name": "stderr"
        },
        {
          "output_type": "stream",
          "text": [
            "INFO:tensorflow:Assets written to: saved_model/transformer/assets\n"
          ],
          "name": "stdout"
        },
        {
          "output_type": "stream",
          "text": [
            "INFO:tensorflow:Assets written to: saved_model/transformer/assets\n"
          ],
          "name": "stderr"
        },
        {
          "output_type": "stream",
          "text": [
            "  adding: saved_model/transformer/ (stored 0%)\n",
            "  adding: saved_model/transformer/saved_model.pb (deflated 49%)\n",
            "  adding: saved_model/transformer/assets/ (stored 0%)\n",
            "  adding: saved_model/transformer/variables/ (stored 0%)\n",
            "  adding: saved_model/transformer/variables/variables.index (deflated 71%)\n",
            "  adding: saved_model/transformer/variables/variables.data-00000-of-00001 (deflated 41%)\n"
          ],
          "name": "stdout"
        }
      ]
    },
    {
      "cell_type": "markdown",
      "metadata": {
        "id": "aoO8uFP5e1ps"
      },
      "source": [
        "### Verify Export"
      ]
    },
    {
      "cell_type": "markdown",
      "metadata": {
        "id": "9Nnhwk01fEu6"
      },
      "source": [
        "#### Test Import"
      ]
    },
    {
      "cell_type": "code",
      "metadata": {
        "id": "mugKjTLcfEN8",
        "colab": {
          "base_uri": "https://localhost:8080/"
        },
        "outputId": "16233f88-c2b7-4a1f-ce1e-5dc6a265b2a0"
      },
      "source": [
        "# Imports the model\n",
        "imported_model = tf.keras.models.load_model('saved_model/transformer')\n",
        "\n",
        "# Check its architecture\n",
        "imported_model.summary()"
      ],
      "execution_count": null,
      "outputs": [
        {
          "output_type": "stream",
          "text": [
            "WARNING:tensorflow:No training configuration found in save file, so the model was *not* compiled. Compile it manually.\n"
          ],
          "name": "stdout"
        },
        {
          "output_type": "stream",
          "text": [
            "WARNING:tensorflow:No training configuration found in save file, so the model was *not* compiled. Compile it manually.\n"
          ],
          "name": "stderr"
        },
        {
          "output_type": "stream",
          "text": [
            "Model: \"transformer\"\n",
            "__________________________________________________________________________________________________\n",
            "Layer (type)                    Output Shape         Param #     Connected to                     \n",
            "==================================================================================================\n",
            "inputs (InputLayer)             [(None, None)]       0                                            \n",
            "__________________________________________________________________________________________________\n",
            "padding_mask (Lambda)           (None, 1, 1, None)   0           inputs[0][0]                     \n",
            "__________________________________________________________________________________________________\n",
            "encoder (Functional)            (None, None, 8)      244496      inputs[0][0]                     \n",
            "                                                                 padding_mask[0][0]               \n",
            "__________________________________________________________________________________________________\n",
            "dense_6 (Dense)                 (None, None, 8)      72          encoder[0][0]                    \n",
            "__________________________________________________________________________________________________\n",
            "global_average_pooling1d (Globa (None, 8)            0           dense_6[0][0]                    \n",
            "__________________________________________________________________________________________________\n",
            "outputs (Dense)                 (None, 7)            63          global_average_pooling1d[0][0]   \n",
            "==================================================================================================\n",
            "Total params: 244,631\n",
            "Trainable params: 244,631\n",
            "Non-trainable params: 0\n",
            "__________________________________________________________________________________________________\n"
          ],
          "name": "stdout"
        }
      ]
    },
    {
      "cell_type": "markdown",
      "metadata": {
        "id": "qZI1Qte0fIwA"
      },
      "source": [
        "#### Verify the Imported Model Against the Original"
      ]
    },
    {
      "cell_type": "code",
      "metadata": {
        "id": "-DRPS3Cae1F4",
        "colab": {
          "base_uri": "https://localhost:8080/"
        },
        "outputId": "4a6ad781-844e-46fc-ca33-3086a610e47e"
      },
      "source": [
        "def get_sentiment_imported(text):\n",
        "  tokenized = sentence_tokenizer(text)\n",
        "  # This is the imported model\n",
        "  prediction = imported_model.predict(tokenized)\n",
        "  label_amount = len(prediction[0])\n",
        "\n",
        "  for i in range(label_amount):\n",
        "    percent = '%.3f'%(np.max(prediction))\n",
        "    print(LABEL_REF[np.argmax(prediction)], percent)\n",
        "    prediction[0][np.argmax(prediction)] = 0\n",
        "\n",
        "text = \"I hate everyone\"#@param {type:\"string\"}\n",
        "\n",
        "print(\"IMPORTED: \")\n",
        "get_sentiment_imported(text)\n",
        "print(\"-------------------------\")\n",
        "print(\"LOCALLY TRAINED:\")\n",
        "get_sentiment(text)"
      ],
      "execution_count": null,
      "outputs": [
        {
          "output_type": "stream",
          "text": [
            "IMPORTED: \n",
            "anger 0.972\n",
            "neutral 0.344\n",
            "fear 0.340\n",
            "love 0.217\n",
            "sadness 0.170\n",
            "joy 0.151\n",
            "surprise 0.149\n",
            "-------------------------\n",
            "LOCALLY TRAINED:\n",
            "anger 0.972\n",
            "neutral 0.344\n",
            "fear 0.340\n",
            "love 0.217\n",
            "sadness 0.170\n",
            "joy 0.151\n",
            "surprise 0.149\n"
          ],
          "name": "stdout"
        }
      ]
    },
    {
      "cell_type": "markdown",
      "metadata": {
        "id": "gYEz0WIdlsEv"
      },
      "source": [
        "## Convert to TensorflowJS"
      ]
    },
    {
      "cell_type": "markdown",
      "metadata": {
        "id": "VOmrRWMlBOa7"
      },
      "source": [
        "### Conversion"
      ]
    },
    {
      "cell_type": "code",
      "metadata": {
        "id": "DqtOFq-9lrrq",
        "colab": {
          "base_uri": "https://localhost:8080/"
        },
        "outputId": "1cabd255-a227-43dc-ac9f-4df88e596f3a"
      },
      "source": [
        "# Creates a folder for the model\n",
        "!mkdir saved_model/transformerjs\n",
        "\n",
        "# Installs TensorflowJS for the conversion\n",
        "!pip install tensorflowjs\n",
        "\n",
        "# Converts the model\n",
        "!tensorflowjs_converter --input_format=tf_saved_model saved_model/transformer saved_model/transformerjs\n",
        "\n",
        "# Zips the model\n",
        "!zip -r saved_model/transformerjs.zip saved_model/transformerjs/"
      ],
      "execution_count": null,
      "outputs": [
        {
          "output_type": "stream",
          "text": [
            "Collecting tensorflowjs\n",
            "\u001b[?25l  Downloading https://files.pythonhosted.org/packages/fe/7e/b005271236ddb90fb8a85e29e32ba0841e6737faf9068adbc5ca28df6a41/tensorflowjs-2.8.1-py3-none-any.whl (63kB)\n",
            "\u001b[K     |████████████████████████████████| 71kB 5.4MB/s \n",
            "\u001b[?25hRequirement already satisfied: tensorflow<3,>=2.1.0 in /usr/local/lib/python3.6/dist-packages (from tensorflowjs) (2.4.0)\n",
            "Requirement already satisfied: h5py<3,>=2.8.0 in /usr/local/lib/python3.6/dist-packages (from tensorflowjs) (2.10.0)\n",
            "Requirement already satisfied: six<2,>=1.12.0 in /usr/local/lib/python3.6/dist-packages (from tensorflowjs) (1.15.0)\n",
            "Collecting tensorflow-hub<0.10,>=0.7.0\n",
            "\u001b[?25l  Downloading https://files.pythonhosted.org/packages/ac/83/a7df82744a794107641dad1decaad017d82e25f0e1f761ac9204829eef96/tensorflow_hub-0.9.0-py2.py3-none-any.whl (103kB)\n",
            "\u001b[K     |████████████████████████████████| 112kB 7.2MB/s \n",
            "\u001b[?25hRequirement already satisfied: grpcio~=1.32.0 in /usr/local/lib/python3.6/dist-packages (from tensorflow<3,>=2.1.0->tensorflowjs) (1.32.0)\n",
            "Requirement already satisfied: astunparse~=1.6.3 in /usr/local/lib/python3.6/dist-packages (from tensorflow<3,>=2.1.0->tensorflowjs) (1.6.3)\n",
            "Requirement already satisfied: protobuf>=3.9.2 in /usr/local/lib/python3.6/dist-packages (from tensorflow<3,>=2.1.0->tensorflowjs) (3.12.4)\n",
            "Requirement already satisfied: gast==0.3.3 in /usr/local/lib/python3.6/dist-packages (from tensorflow<3,>=2.1.0->tensorflowjs) (0.3.3)\n",
            "Requirement already satisfied: wrapt~=1.12.1 in /usr/local/lib/python3.6/dist-packages (from tensorflow<3,>=2.1.0->tensorflowjs) (1.12.1)\n",
            "Requirement already satisfied: numpy~=1.19.2 in /usr/local/lib/python3.6/dist-packages (from tensorflow<3,>=2.1.0->tensorflowjs) (1.19.4)\n",
            "Requirement already satisfied: typing-extensions~=3.7.4 in /usr/local/lib/python3.6/dist-packages (from tensorflow<3,>=2.1.0->tensorflowjs) (3.7.4.3)\n",
            "Requirement already satisfied: wheel~=0.35 in /usr/local/lib/python3.6/dist-packages (from tensorflow<3,>=2.1.0->tensorflowjs) (0.36.2)\n",
            "Requirement already satisfied: tensorflow-estimator<2.5.0,>=2.4.0rc0 in /usr/local/lib/python3.6/dist-packages (from tensorflow<3,>=2.1.0->tensorflowjs) (2.4.0)\n",
            "Requirement already satisfied: flatbuffers~=1.12.0 in /usr/local/lib/python3.6/dist-packages (from tensorflow<3,>=2.1.0->tensorflowjs) (1.12)\n",
            "Requirement already satisfied: opt-einsum~=3.3.0 in /usr/local/lib/python3.6/dist-packages (from tensorflow<3,>=2.1.0->tensorflowjs) (3.3.0)\n",
            "Requirement already satisfied: termcolor~=1.1.0 in /usr/local/lib/python3.6/dist-packages (from tensorflow<3,>=2.1.0->tensorflowjs) (1.1.0)\n",
            "Requirement already satisfied: tensorboard~=2.4 in /usr/local/lib/python3.6/dist-packages (from tensorflow<3,>=2.1.0->tensorflowjs) (2.4.0)\n",
            "Requirement already satisfied: keras-preprocessing~=1.1.2 in /usr/local/lib/python3.6/dist-packages (from tensorflow<3,>=2.1.0->tensorflowjs) (1.1.2)\n",
            "Requirement already satisfied: google-pasta~=0.2 in /usr/local/lib/python3.6/dist-packages (from tensorflow<3,>=2.1.0->tensorflowjs) (0.2.0)\n",
            "Requirement already satisfied: absl-py~=0.10 in /usr/local/lib/python3.6/dist-packages (from tensorflow<3,>=2.1.0->tensorflowjs) (0.10.0)\n",
            "Requirement already satisfied: setuptools in /usr/local/lib/python3.6/dist-packages (from protobuf>=3.9.2->tensorflow<3,>=2.1.0->tensorflowjs) (51.0.0)\n",
            "Requirement already satisfied: tensorboard-plugin-wit>=1.6.0 in /usr/local/lib/python3.6/dist-packages (from tensorboard~=2.4->tensorflow<3,>=2.1.0->tensorflowjs) (1.7.0)\n",
            "Requirement already satisfied: google-auth-oauthlib<0.5,>=0.4.1 in /usr/local/lib/python3.6/dist-packages (from tensorboard~=2.4->tensorflow<3,>=2.1.0->tensorflowjs) (0.4.2)\n",
            "Requirement already satisfied: google-auth<2,>=1.6.3 in /usr/local/lib/python3.6/dist-packages (from tensorboard~=2.4->tensorflow<3,>=2.1.0->tensorflowjs) (1.17.2)\n",
            "Requirement already satisfied: werkzeug>=0.11.15 in /usr/local/lib/python3.6/dist-packages (from tensorboard~=2.4->tensorflow<3,>=2.1.0->tensorflowjs) (1.0.1)\n",
            "Requirement already satisfied: requests<3,>=2.21.0 in /usr/local/lib/python3.6/dist-packages (from tensorboard~=2.4->tensorflow<3,>=2.1.0->tensorflowjs) (2.23.0)\n",
            "Requirement already satisfied: markdown>=2.6.8 in /usr/local/lib/python3.6/dist-packages (from tensorboard~=2.4->tensorflow<3,>=2.1.0->tensorflowjs) (3.3.3)\n",
            "Requirement already satisfied: requests-oauthlib>=0.7.0 in /usr/local/lib/python3.6/dist-packages (from google-auth-oauthlib<0.5,>=0.4.1->tensorboard~=2.4->tensorflow<3,>=2.1.0->tensorflowjs) (1.3.0)\n",
            "Requirement already satisfied: cachetools<5.0,>=2.0.0 in /usr/local/lib/python3.6/dist-packages (from google-auth<2,>=1.6.3->tensorboard~=2.4->tensorflow<3,>=2.1.0->tensorflowjs) (4.2.0)\n",
            "Requirement already satisfied: rsa<5,>=3.1.4; python_version >= \"3\" in /usr/local/lib/python3.6/dist-packages (from google-auth<2,>=1.6.3->tensorboard~=2.4->tensorflow<3,>=2.1.0->tensorflowjs) (4.6)\n",
            "Requirement already satisfied: pyasn1-modules>=0.2.1 in /usr/local/lib/python3.6/dist-packages (from google-auth<2,>=1.6.3->tensorboard~=2.4->tensorflow<3,>=2.1.0->tensorflowjs) (0.2.8)\n",
            "Requirement already satisfied: certifi>=2017.4.17 in /usr/local/lib/python3.6/dist-packages (from requests<3,>=2.21.0->tensorboard~=2.4->tensorflow<3,>=2.1.0->tensorflowjs) (2020.12.5)\n",
            "Requirement already satisfied: urllib3!=1.25.0,!=1.25.1,<1.26,>=1.21.1 in /usr/local/lib/python3.6/dist-packages (from requests<3,>=2.21.0->tensorboard~=2.4->tensorflow<3,>=2.1.0->tensorflowjs) (1.24.3)\n",
            "Requirement already satisfied: chardet<4,>=3.0.2 in /usr/local/lib/python3.6/dist-packages (from requests<3,>=2.21.0->tensorboard~=2.4->tensorflow<3,>=2.1.0->tensorflowjs) (3.0.4)\n",
            "Requirement already satisfied: idna<3,>=2.5 in /usr/local/lib/python3.6/dist-packages (from requests<3,>=2.21.0->tensorboard~=2.4->tensorflow<3,>=2.1.0->tensorflowjs) (2.10)\n",
            "Requirement already satisfied: importlib-metadata; python_version < \"3.8\" in /usr/local/lib/python3.6/dist-packages (from markdown>=2.6.8->tensorboard~=2.4->tensorflow<3,>=2.1.0->tensorflowjs) (3.3.0)\n",
            "Requirement already satisfied: oauthlib>=3.0.0 in /usr/local/lib/python3.6/dist-packages (from requests-oauthlib>=0.7.0->google-auth-oauthlib<0.5,>=0.4.1->tensorboard~=2.4->tensorflow<3,>=2.1.0->tensorflowjs) (3.1.0)\n",
            "Requirement already satisfied: pyasn1>=0.1.3 in /usr/local/lib/python3.6/dist-packages (from rsa<5,>=3.1.4; python_version >= \"3\"->google-auth<2,>=1.6.3->tensorboard~=2.4->tensorflow<3,>=2.1.0->tensorflowjs) (0.4.8)\n",
            "Requirement already satisfied: zipp>=0.5 in /usr/local/lib/python3.6/dist-packages (from importlib-metadata; python_version < \"3.8\"->markdown>=2.6.8->tensorboard~=2.4->tensorflow<3,>=2.1.0->tensorflowjs) (3.4.0)\n",
            "Installing collected packages: tensorflow-hub, tensorflowjs\n",
            "  Found existing installation: tensorflow-hub 0.10.0\n",
            "    Uninstalling tensorflow-hub-0.10.0:\n",
            "      Successfully uninstalled tensorflow-hub-0.10.0\n",
            "Successfully installed tensorflow-hub-0.9.0 tensorflowjs-2.8.1\n",
            "2020-12-27 01:14:08.885411: I tensorflow/stream_executor/platform/default/dso_loader.cc:49] Successfully opened dynamic library libcudart.so.10.1\n",
            "2020-12-27 01:14:10.773312: I tensorflow/compiler/jit/xla_cpu_device.cc:41] Not creating XLA devices, tf_xla_enable_xla_devices not set\n",
            "2020-12-27 01:14:10.774382: I tensorflow/stream_executor/platform/default/dso_loader.cc:49] Successfully opened dynamic library libcuda.so.1\n",
            "2020-12-27 01:14:10.779169: I tensorflow/stream_executor/cuda/cuda_gpu_executor.cc:941] successful NUMA node read from SysFS had negative value (-1), but there must be at least one NUMA node, so returning NUMA node zero\n",
            "2020-12-27 01:14:10.779791: I tensorflow/core/common_runtime/gpu/gpu_device.cc:1720] Found device 0 with properties: \n",
            "pciBusID: 0000:00:04.0 name: Tesla T4 computeCapability: 7.5\n",
            "coreClock: 1.59GHz coreCount: 40 deviceMemorySize: 14.73GiB deviceMemoryBandwidth: 298.08GiB/s\n",
            "2020-12-27 01:14:10.779830: I tensorflow/stream_executor/platform/default/dso_loader.cc:49] Successfully opened dynamic library libcudart.so.10.1\n",
            "2020-12-27 01:14:10.781849: I tensorflow/stream_executor/platform/default/dso_loader.cc:49] Successfully opened dynamic library libcublas.so.10\n",
            "2020-12-27 01:14:10.781915: I tensorflow/stream_executor/platform/default/dso_loader.cc:49] Successfully opened dynamic library libcublasLt.so.10\n",
            "2020-12-27 01:14:10.783572: I tensorflow/stream_executor/platform/default/dso_loader.cc:49] Successfully opened dynamic library libcufft.so.10\n",
            "2020-12-27 01:14:10.783910: I tensorflow/stream_executor/platform/default/dso_loader.cc:49] Successfully opened dynamic library libcurand.so.10\n",
            "2020-12-27 01:14:10.793935: I tensorflow/stream_executor/platform/default/dso_loader.cc:49] Successfully opened dynamic library libcusolver.so.10\n",
            "2020-12-27 01:14:10.803075: I tensorflow/stream_executor/platform/default/dso_loader.cc:49] Successfully opened dynamic library libcusparse.so.10\n",
            "2020-12-27 01:14:10.820581: I tensorflow/stream_executor/platform/default/dso_loader.cc:49] Successfully opened dynamic library libcudnn.so.7\n",
            "2020-12-27 01:14:10.820728: I tensorflow/stream_executor/cuda/cuda_gpu_executor.cc:941] successful NUMA node read from SysFS had negative value (-1), but there must be at least one NUMA node, so returning NUMA node zero\n",
            "2020-12-27 01:14:10.821394: I tensorflow/stream_executor/cuda/cuda_gpu_executor.cc:941] successful NUMA node read from SysFS had negative value (-1), but there must be at least one NUMA node, so returning NUMA node zero\n",
            "2020-12-27 01:14:10.821998: I tensorflow/core/common_runtime/gpu/gpu_device.cc:1862] Adding visible gpu devices: 0\n",
            "2020-12-27 01:14:10.822466: I tensorflow/compiler/jit/xla_gpu_device.cc:99] Not creating XLA devices, tf_xla_enable_xla_devices not set\n",
            "2020-12-27 01:14:10.822610: I tensorflow/stream_executor/cuda/cuda_gpu_executor.cc:941] successful NUMA node read from SysFS had negative value (-1), but there must be at least one NUMA node, so returning NUMA node zero\n",
            "2020-12-27 01:14:10.823197: I tensorflow/core/common_runtime/gpu/gpu_device.cc:1720] Found device 0 with properties: \n",
            "pciBusID: 0000:00:04.0 name: Tesla T4 computeCapability: 7.5\n",
            "coreClock: 1.59GHz coreCount: 40 deviceMemorySize: 14.73GiB deviceMemoryBandwidth: 298.08GiB/s\n",
            "2020-12-27 01:14:10.823240: I tensorflow/stream_executor/platform/default/dso_loader.cc:49] Successfully opened dynamic library libcudart.so.10.1\n",
            "2020-12-27 01:14:10.823277: I tensorflow/stream_executor/platform/default/dso_loader.cc:49] Successfully opened dynamic library libcublas.so.10\n",
            "2020-12-27 01:14:10.823305: I tensorflow/stream_executor/platform/default/dso_loader.cc:49] Successfully opened dynamic library libcublasLt.so.10\n",
            "2020-12-27 01:14:10.823329: I tensorflow/stream_executor/platform/default/dso_loader.cc:49] Successfully opened dynamic library libcufft.so.10\n",
            "2020-12-27 01:14:10.823351: I tensorflow/stream_executor/platform/default/dso_loader.cc:49] Successfully opened dynamic library libcurand.so.10\n",
            "2020-12-27 01:14:10.823374: I tensorflow/stream_executor/platform/default/dso_loader.cc:49] Successfully opened dynamic library libcusolver.so.10\n",
            "2020-12-27 01:14:10.823396: I tensorflow/stream_executor/platform/default/dso_loader.cc:49] Successfully opened dynamic library libcusparse.so.10\n",
            "2020-12-27 01:14:10.823418: I tensorflow/stream_executor/platform/default/dso_loader.cc:49] Successfully opened dynamic library libcudnn.so.7\n",
            "2020-12-27 01:14:10.823490: I tensorflow/stream_executor/cuda/cuda_gpu_executor.cc:941] successful NUMA node read from SysFS had negative value (-1), but there must be at least one NUMA node, so returning NUMA node zero\n",
            "2020-12-27 01:14:10.824105: I tensorflow/stream_executor/cuda/cuda_gpu_executor.cc:941] successful NUMA node read from SysFS had negative value (-1), but there must be at least one NUMA node, so returning NUMA node zero\n",
            "2020-12-27 01:14:10.824653: I tensorflow/core/common_runtime/gpu/gpu_device.cc:1862] Adding visible gpu devices: 0\n",
            "2020-12-27 01:14:10.824703: I tensorflow/stream_executor/platform/default/dso_loader.cc:49] Successfully opened dynamic library libcudart.so.10.1\n",
            "2020-12-27 01:14:11.608886: I tensorflow/core/common_runtime/gpu/gpu_device.cc:1261] Device interconnect StreamExecutor with strength 1 edge matrix:\n",
            "2020-12-27 01:14:11.608950: I tensorflow/core/common_runtime/gpu/gpu_device.cc:1267]      0 \n",
            "2020-12-27 01:14:11.608973: I tensorflow/core/common_runtime/gpu/gpu_device.cc:1280] 0:   N \n",
            "2020-12-27 01:14:11.609173: I tensorflow/stream_executor/cuda/cuda_gpu_executor.cc:941] successful NUMA node read from SysFS had negative value (-1), but there must be at least one NUMA node, so returning NUMA node zero\n",
            "2020-12-27 01:14:11.609852: I tensorflow/stream_executor/cuda/cuda_gpu_executor.cc:941] successful NUMA node read from SysFS had negative value (-1), but there must be at least one NUMA node, so returning NUMA node zero\n",
            "2020-12-27 01:14:11.610459: I tensorflow/stream_executor/cuda/cuda_gpu_executor.cc:941] successful NUMA node read from SysFS had negative value (-1), but there must be at least one NUMA node, so returning NUMA node zero\n",
            "2020-12-27 01:14:11.611033: W tensorflow/core/common_runtime/gpu/gpu_bfc_allocator.cc:39] Overriding allow_growth setting because the TF_FORCE_GPU_ALLOW_GROWTH environment variable is set. Original config value was 0.\n",
            "2020-12-27 01:14:11.611086: I tensorflow/core/common_runtime/gpu/gpu_device.cc:1406] Created TensorFlow device (/job:localhost/replica:0/task:0/device:GPU:0 with 13576 MB memory) -> physical GPU (device: 0, name: Tesla T4, pci bus id: 0000:00:04.0, compute capability: 7.5)\n",
            "2020-12-27 01:14:12.810520: I tensorflow/stream_executor/cuda/cuda_gpu_executor.cc:941] successful NUMA node read from SysFS had negative value (-1), but there must be at least one NUMA node, so returning NUMA node zero\n",
            "2020-12-27 01:14:12.811175: I tensorflow/core/grappler/devices.cc:69] Number of eligible GPUs (core count >= 8, compute capability >= 0.0): 1\n",
            "2020-12-27 01:14:12.811346: I tensorflow/core/grappler/clusters/single_machine.cc:356] Starting new session\n",
            "2020-12-27 01:14:12.811648: I tensorflow/compiler/jit/xla_gpu_device.cc:99] Not creating XLA devices, tf_xla_enable_xla_devices not set\n",
            "2020-12-27 01:14:12.811769: I tensorflow/stream_executor/cuda/cuda_gpu_executor.cc:941] successful NUMA node read from SysFS had negative value (-1), but there must be at least one NUMA node, so returning NUMA node zero\n",
            "2020-12-27 01:14:12.812347: I tensorflow/core/common_runtime/gpu/gpu_device.cc:1720] Found device 0 with properties: \n",
            "pciBusID: 0000:00:04.0 name: Tesla T4 computeCapability: 7.5\n",
            "coreClock: 1.59GHz coreCount: 40 deviceMemorySize: 14.73GiB deviceMemoryBandwidth: 298.08GiB/s\n",
            "2020-12-27 01:14:12.812394: I tensorflow/stream_executor/platform/default/dso_loader.cc:49] Successfully opened dynamic library libcudart.so.10.1\n",
            "2020-12-27 01:14:12.812437: I tensorflow/stream_executor/platform/default/dso_loader.cc:49] Successfully opened dynamic library libcublas.so.10\n",
            "2020-12-27 01:14:12.812460: I tensorflow/stream_executor/platform/default/dso_loader.cc:49] Successfully opened dynamic library libcublasLt.so.10\n",
            "2020-12-27 01:14:12.812484: I tensorflow/stream_executor/platform/default/dso_loader.cc:49] Successfully opened dynamic library libcufft.so.10\n",
            "2020-12-27 01:14:12.812509: I tensorflow/stream_executor/platform/default/dso_loader.cc:49] Successfully opened dynamic library libcurand.so.10\n",
            "2020-12-27 01:14:12.812546: I tensorflow/stream_executor/platform/default/dso_loader.cc:49] Successfully opened dynamic library libcusolver.so.10\n",
            "2020-12-27 01:14:12.812570: I tensorflow/stream_executor/platform/default/dso_loader.cc:49] Successfully opened dynamic library libcusparse.so.10\n",
            "2020-12-27 01:14:12.812593: I tensorflow/stream_executor/platform/default/dso_loader.cc:49] Successfully opened dynamic library libcudnn.so.7\n",
            "2020-12-27 01:14:12.812662: I tensorflow/stream_executor/cuda/cuda_gpu_executor.cc:941] successful NUMA node read from SysFS had negative value (-1), but there must be at least one NUMA node, so returning NUMA node zero\n",
            "2020-12-27 01:14:12.813289: I tensorflow/stream_executor/cuda/cuda_gpu_executor.cc:941] successful NUMA node read from SysFS had negative value (-1), but there must be at least one NUMA node, so returning NUMA node zero\n",
            "2020-12-27 01:14:12.813851: I tensorflow/core/common_runtime/gpu/gpu_device.cc:1862] Adding visible gpu devices: 0\n",
            "2020-12-27 01:14:12.813895: I tensorflow/core/common_runtime/gpu/gpu_device.cc:1261] Device interconnect StreamExecutor with strength 1 edge matrix:\n",
            "2020-12-27 01:14:12.813910: I tensorflow/core/common_runtime/gpu/gpu_device.cc:1267]      0 \n",
            "2020-12-27 01:14:12.813925: I tensorflow/core/common_runtime/gpu/gpu_device.cc:1280] 0:   N \n",
            "2020-12-27 01:14:12.814015: I tensorflow/stream_executor/cuda/cuda_gpu_executor.cc:941] successful NUMA node read from SysFS had negative value (-1), but there must be at least one NUMA node, so returning NUMA node zero\n",
            "2020-12-27 01:14:12.814621: I tensorflow/stream_executor/cuda/cuda_gpu_executor.cc:941] successful NUMA node read from SysFS had negative value (-1), but there must be at least one NUMA node, so returning NUMA node zero\n",
            "2020-12-27 01:14:12.815185: I tensorflow/core/common_runtime/gpu/gpu_device.cc:1406] Created TensorFlow device (/job:localhost/replica:0/task:0/device:GPU:0 with 13576 MB memory) -> physical GPU (device: 0, name: Tesla T4, pci bus id: 0000:00:04.0, compute capability: 7.5)\n",
            "2020-12-27 01:14:12.815416: I tensorflow/core/platform/profile_utils/cpu_utils.cc:112] CPU Frequency: 2200000000 Hz\n",
            "2020-12-27 01:14:12.827926: I tensorflow/core/grappler/optimizers/meta_optimizer.cc:928] Optimization results for grappler item: graph_to_optimize\n",
            "  function_optimizer: Graph size after: 327 nodes (305), 426 edges (404), time = 6.335ms.\n",
            "  function_optimizer: function_optimizer did nothing. time = 0.105ms.\n",
            "\n",
            "2020-12-27 01:14:13.156969: I tensorflow/core/grappler/optimizers/meta_optimizer.cc:928] Optimization results for grappler item: graph_to_optimize\n",
            "  debug_stripper: debug_stripper did nothing. time = 0.026ms.\n",
            "  model_pruner: Graph size after: 300 nodes (-28), 399 edges (-28), time = 1.584ms.\n",
            "  constant_folding: Graph size after: 284 nodes (-16), 379 edges (-20), time = 8.716ms.\n",
            "  arithmetic_optimizer: Graph size after: 284 nodes (0), 379 edges (0), time = 3.319ms.\n",
            "  dependency_optimizer: Graph size after: 261 nodes (-23), 300 edges (-79), time = 1.718ms.\n",
            "  model_pruner: Graph size after: 261 nodes (0), 300 edges (0), time = 0.83ms.\n",
            "  constant_folding: Graph size after: 261 nodes (0), 300 edges (0), time = 4.741ms.\n",
            "  arithmetic_optimizer: Graph size after: 261 nodes (0), 300 edges (0), time = 3.109ms.\n",
            "  dependency_optimizer: Graph size after: 261 nodes (0), 300 edges (0), time = 1.384ms.\n",
            "  debug_stripper: debug_stripper did nothing. time = 0.111ms.\n",
            "  model_pruner: Graph size after: 261 nodes (0), 300 edges (0), time = 0.656ms.\n",
            "  constant_folding: Graph size after: 261 nodes (0), 300 edges (0), time = 3.709ms.\n",
            "  arithmetic_optimizer: Graph size after: 261 nodes (0), 300 edges (0), time = 3.208ms.\n",
            "  dependency_optimizer: Graph size after: 261 nodes (0), 300 edges (0), time = 1.495ms.\n",
            "  model_pruner: Graph size after: 261 nodes (0), 300 edges (0), time = 0.776ms.\n",
            "  constant_folding: Graph size after: 261 nodes (0), 300 edges (0), time = 3.614ms.\n",
            "  arithmetic_optimizer: Graph size after: 261 nodes (0), 300 edges (0), time = 3.153ms.\n",
            "  dependency_optimizer: Graph size after: 261 nodes (0), 300 edges (0), time = 1.377ms.\n",
            "\n",
            "2020-12-27 01:14:13.191860: I tensorflow/core/grappler/optimizers/meta_optimizer.cc:928] Optimization results for grappler item: graph_to_optimize\n",
            "  remapper: Graph size after: 260 nodes (-1), 299 edges (-1), time = 0.844ms.\n",
            "  constant_folding: Graph size after: 260 nodes (0), 299 edges (0), time = 4.163ms.\n",
            "  arithmetic_optimizer: Graph size after: 260 nodes (0), 299 edges (0), time = 3.173ms.\n",
            "  dependency_optimizer: Graph size after: 260 nodes (0), 299 edges (0), time = 1.446ms.\n",
            "  remapper: Graph size after: 260 nodes (0), 299 edges (0), time = 0.561ms.\n",
            "  constant_folding: Graph size after: 260 nodes (0), 299 edges (0), time = 3.738ms.\n",
            "  arithmetic_optimizer: Graph size after: 260 nodes (0), 299 edges (0), time = 3.251ms.\n",
            "  dependency_optimizer: Graph size after: 260 nodes (0), 299 edges (0), time = 1.497ms.\n",
            "\n",
            "Writing weight file saved_model/transformerjs/model.json...\n",
            "  adding: saved_model/transformerjs/ (stored 0%)\n",
            "  adding: saved_model/transformerjs/model.json (deflated 96%)\n",
            "  adding: saved_model/transformerjs/group1-shard1of1.bin (deflated 8%)\n"
          ],
          "name": "stdout"
        }
      ]
    },
    {
      "cell_type": "markdown",
      "metadata": {
        "id": "lFUxmF6wBQSx"
      },
      "source": [
        "## Export BERT Dictionary as JSON"
      ]
    },
    {
      "cell_type": "code",
      "metadata": {
        "id": "_NFvoFAiA_aY"
      },
      "source": [
        "# Exports the BERT dictionary as JSON for use in Javascript\n",
        "with open(\"saved_model/vocab.json\", \"w\") as outfile:  \n",
        "    json.dump(VOCAB_TO_INDEX, outfile) "
      ],
      "execution_count": null,
      "outputs": []
    },
    {
      "cell_type": "markdown",
      "metadata": {
        "id": "aCmVhfuH9k56"
      },
      "source": [
        "## Zips the Entire Model Folder for Download"
      ]
    },
    {
      "cell_type": "code",
      "metadata": {
        "colab": {
          "base_uri": "https://localhost:8080/"
        },
        "id": "BJCgEA8A9YJ3",
        "outputId": "ce264b5c-3cfe-4b99-d0dc-a7eccd1c5ad9"
      },
      "source": [
        "!zip -r saved_model.zip saved_model/"
      ],
      "execution_count": null,
      "outputs": [
        {
          "output_type": "stream",
          "text": [
            "  adding: saved_model/ (stored 0%)\n",
            "  adding: saved_model/transformerjs.zip (stored 0%)\n",
            "  adding: saved_model/vocab.json (deflated 63%)\n",
            "  adding: saved_model/transformer/ (stored 0%)\n",
            "  adding: saved_model/transformer/saved_model.pb (deflated 49%)\n",
            "  adding: saved_model/transformer/assets/ (stored 0%)\n",
            "  adding: saved_model/transformer/variables/ (stored 0%)\n",
            "  adding: saved_model/transformer/variables/variables.index (deflated 71%)\n",
            "  adding: saved_model/transformer/variables/variables.data-00000-of-00001 (deflated 41%)\n",
            "  adding: saved_model/transformerjs/ (stored 0%)\n",
            "  adding: saved_model/transformerjs/model.json (deflated 96%)\n",
            "  adding: saved_model/transformerjs/group1-shard1of1.bin (deflated 8%)\n",
            "  adding: saved_model/transformer.zip (stored 0%)\n"
          ],
          "name": "stdout"
        }
      ]
    },
    {
      "cell_type": "markdown",
      "metadata": {
        "id": "bjru2AtVewTe"
      },
      "source": [
        "### Reference for Label Order"
      ]
    },
    {
      "cell_type": "code",
      "metadata": {
        "id": "pnmo2t1PdYxv",
        "colab": {
          "base_uri": "https://localhost:8080/"
        },
        "outputId": "e0dcbf6b-af10-41ae-9798-49ddf396ba8b"
      },
      "source": [
        "# Prints the label reference so it can be copied to any needed functions in Javascript\n",
        "# The machine learning function only outputs numbers, so this is needed in order to figure out what numbers those emotions represent.\n",
        "print(LABEL_REF)"
      ],
      "execution_count": null,
      "outputs": [
        {
          "output_type": "stream",
          "text": [
            "['sadness' 'anger' 'love' 'surprise' 'fear' 'joy' 'neutral']\n"
          ],
          "name": "stdout"
        }
      ]
    }
  ]
}